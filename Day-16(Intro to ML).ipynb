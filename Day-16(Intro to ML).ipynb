{
 "cells": [
  {
   "cell_type": "code",
   "execution_count": 1,
   "id": "c92f5027",
   "metadata": {},
   "outputs": [],
   "source": [
    "import numpy as np\n",
    "import pandas as pd\n",
    "import matplotlib.pyplot as plt\n",
    "import seaborn as sns"
   ]
  },
  {
   "cell_type": "markdown",
   "id": "ab5e2677",
   "metadata": {},
   "source": [
    "### 1. Simple Linear Regression"
   ]
  },
  {
   "cell_type": "markdown",
   "id": "ca83d563",
   "metadata": {},
   "source": [
    "$ y = m*x $"
   ]
  },
  {
   "cell_type": "code",
   "execution_count": 2,
   "id": "a25b537a",
   "metadata": {},
   "outputs": [],
   "source": [
    "x = np.random.randn(100)\n",
    "xx = x.reshape(100, 1)"
   ]
  },
  {
   "cell_type": "code",
   "execution_count": 3,
   "id": "03b75fbd",
   "metadata": {},
   "outputs": [],
   "source": [
    "y = 100*x + 5 + 40*np.random.randn(100)\n",
    "y_clean = 100*x + 5 #just for fun"
   ]
  },
  {
   "cell_type": "code",
   "execution_count": 4,
   "id": "4bdfe788",
   "metadata": {},
   "outputs": [
    {
     "data": {
      "image/png": "[encoded data removed]",
      "text/plain": [
       "<Figure size 432x288 with 1 Axes>"
      ]
     },
     "metadata": {
      "needs_background": "light"
     },
     "output_type": "display_data"
    }
   ],
   "source": [
    "plt.scatter(x, y)\n",
    "plt.xlabel('x'); plt.ylabel('y')\n",
    "plt.grid()"
   ]
  },
  {
   "cell_type": "code",
   "execution_count": 5,
   "id": "ccf0bd0f",
   "metadata": {},
   "outputs": [],
   "source": [
    "from sklearn.linear_model import LinearRegression"
   ]
  },
  {
   "cell_type": "markdown",
   "id": "3e0ea8ef",
   "metadata": {},
   "source": [
    "### Step-1 to initialize the model"
   ]
  },
  {
   "cell_type": "code",
   "execution_count": 6,
   "id": "944d42e8",
   "metadata": {},
   "outputs": [],
   "source": [
    "model = LinearRegression()"
   ]
  },
  {
   "cell_type": "markdown",
   "id": "ce0ad952",
   "metadata": {},
   "source": [
    "### Step-2: Model Training "
   ]
  },
  {
   "cell_type": "code",
   "execution_count": 7,
   "id": "630a2a7d",
   "metadata": {},
   "outputs": [
    {
     "data": {
      "text/plain": [
       "LinearRegression()"
      ]
     },
     "execution_count": 7,
     "metadata": {},
     "output_type": "execute_result"
    }
   ],
   "source": [
    "model.fit(xx, y)"
   ]
  },
  {
   "cell_type": "code",
   "execution_count": 8,
   "id": "ecfb047d",
   "metadata": {},
   "outputs": [],
   "source": [
    "yp = model.predict(xx)"
   ]
  },
  {
   "cell_type": "code",
   "execution_count": 9,
   "id": "246c2c80",
   "metadata": {},
   "outputs": [
    {
     "data": {
      "text/plain": [
       "[<matplotlib.lines.Line2D at 0x1a1092286a0>]"
      ]
     },
     "execution_count": 9,
     "metadata": {},
     "output_type": "execute_result"
    },
    {
     "data": {
      "image/png": "[encoded data removed]",
      "text/plain": [
       "<Figure size 432x288 with 1 Axes>"
      ]
     },
     "metadata": {
      "needs_background": "light"
     },
     "output_type": "display_data"
    }
   ],
   "source": [
    "plt.scatter(x, y)\n",
    "plt.plot(x, yp, color = \"red\")"
   ]
  },
  {
   "cell_type": "code",
   "execution_count": 10,
   "id": "b0a762e7",
   "metadata": {},
   "outputs": [
    {
     "data": {
      "text/plain": [
       "array([258.87836617])"
      ]
     },
     "execution_count": 10,
     "metadata": {},
     "output_type": "execute_result"
    }
   ],
   "source": [
    "x_new = [[2.5]]\n",
    "model.predict(x_new)"
   ]
  },
  {
   "cell_type": "code",
   "execution_count": 11,
   "id": "0b310665",
   "metadata": {},
   "outputs": [
    {
     "data": {
      "text/plain": [
       "(array([102.58314996]), 2.4204912813151376)"
      ]
     },
     "execution_count": 11,
     "metadata": {},
     "output_type": "execute_result"
    }
   ],
   "source": [
    "model.coef_, model.intercept_"
   ]
  },
  {
   "cell_type": "code",
   "execution_count": 12,
   "id": "c11ef89b",
   "metadata": {},
   "outputs": [],
   "source": [
    "df_simpleReg = pd.DataFrame({'xx':x, 'y':y, 'yp':yp})"
   ]
  },
  {
   "cell_type": "code",
   "execution_count": 13,
   "id": "851d1612",
   "metadata": {},
   "outputs": [
    {
     "data": {
      "text/html": [
       "<div>\n",
       "<style scoped>\n",
       "    .dataframe tbody tr th:only-of-type {\n",
       "        vertical-align: middle;\n",
       "    }\n",
       "\n",
       "    .dataframe tbody tr th {\n",
       "        vertical-align: top;\n",
       "    }\n",
       "\n",
       "    .dataframe thead th {\n",
       "        text-align: right;\n",
       "    }\n",
       "</style>\n",
       "<table border=\"1\" class=\"dataframe\">\n",
       "  <thead>\n",
       "    <tr style=\"text-align: right;\">\n",
       "      <th></th>\n",
       "      <th>xx</th>\n",
       "      <th>y</th>\n",
       "      <th>yp</th>\n",
       "    </tr>\n",
       "  </thead>\n",
       "  <tbody>\n",
       "    <tr>\n",
       "      <th>0</th>\n",
       "      <td>-0.212476</td>\n",
       "      <td>11.983803</td>\n",
       "      <td>-19.375988</td>\n",
       "    </tr>\n",
       "    <tr>\n",
       "      <th>1</th>\n",
       "      <td>-0.347739</td>\n",
       "      <td>-15.052171</td>\n",
       "      <td>-33.251702</td>\n",
       "    </tr>\n",
       "    <tr>\n",
       "      <th>2</th>\n",
       "      <td>-2.609480</td>\n",
       "      <td>-211.899450</td>\n",
       "      <td>-265.268158</td>\n",
       "    </tr>\n",
       "    <tr>\n",
       "      <th>3</th>\n",
       "      <td>-0.283243</td>\n",
       "      <td>-35.966832</td>\n",
       "      <td>-26.635486</td>\n",
       "    </tr>\n",
       "    <tr>\n",
       "      <th>4</th>\n",
       "      <td>-0.853679</td>\n",
       "      <td>-73.061735</td>\n",
       "      <td>-85.152630</td>\n",
       "    </tr>\n",
       "    <tr>\n",
       "      <th>...</th>\n",
       "      <td>...</td>\n",
       "      <td>...</td>\n",
       "      <td>...</td>\n",
       "    </tr>\n",
       "    <tr>\n",
       "      <th>95</th>\n",
       "      <td>-1.389411</td>\n",
       "      <td>-87.093636</td>\n",
       "      <td>-140.109614</td>\n",
       "    </tr>\n",
       "    <tr>\n",
       "      <th>96</th>\n",
       "      <td>-0.398693</td>\n",
       "      <td>-48.694867</td>\n",
       "      <td>-38.478643</td>\n",
       "    </tr>\n",
       "    <tr>\n",
       "      <th>97</th>\n",
       "      <td>-0.601642</td>\n",
       "      <td>-70.145796</td>\n",
       "      <td>-59.297864</td>\n",
       "    </tr>\n",
       "    <tr>\n",
       "      <th>98</th>\n",
       "      <td>0.957301</td>\n",
       "      <td>160.983981</td>\n",
       "      <td>100.623454</td>\n",
       "    </tr>\n",
       "    <tr>\n",
       "      <th>99</th>\n",
       "      <td>0.071375</td>\n",
       "      <td>25.075370</td>\n",
       "      <td>9.742404</td>\n",
       "    </tr>\n",
       "  </tbody>\n",
       "</table>\n",
       "<p>100 rows × 3 columns</p>\n",
       "</div>"
      ],
      "text/plain": [
       "          xx           y          yp\n",
       "0  -0.212476   11.983803  -19.375988\n",
       "1  -0.347739  -15.052171  -33.251702\n",
       "2  -2.609480 -211.899450 -265.268158\n",
       "3  -0.283243  -35.966832  -26.635486\n",
       "4  -0.853679  -73.061735  -85.152630\n",
       "..       ...         ...         ...\n",
       "95 -1.389411  -87.093636 -140.109614\n",
       "96 -0.398693  -48.694867  -38.478643\n",
       "97 -0.601642  -70.145796  -59.297864\n",
       "98  0.957301  160.983981  100.623454\n",
       "99  0.071375   25.075370    9.742404\n",
       "\n",
       "[100 rows x 3 columns]"
      ]
     },
     "execution_count": 13,
     "metadata": {},
     "output_type": "execute_result"
    }
   ],
   "source": [
    "df_simpleReg"
   ]
  },
  {
   "cell_type": "markdown",
   "id": "2599b8aa",
   "metadata": {},
   "source": [
    "### Overfitting : when machine learning learns the noise as well, noise is to be ignored, the real trend has to be captured "
   ]
  },
  {
   "cell_type": "code",
   "execution_count": null,
   "id": "ee385635",
   "metadata": {},
   "outputs": [],
   "source": []
  },
  {
   "cell_type": "markdown",
   "id": "cf8fb2e5",
   "metadata": {},
   "source": [
    "### 2. Multiple Linear Regression "
   ]
  },
  {
   "cell_type": "code",
   "execution_count": 14,
   "id": "855ff5f5",
   "metadata": {},
   "outputs": [],
   "source": [
    "x1 = np.random.randn(100)\n",
    "x2 = np.random.randn(100) + 50\n",
    "\n",
    "\n",
    "m1 = 5\n",
    "m2 = 10\n",
    "c = 200\n",
    "\n",
    "y_12 = m1*x1 + m2*x2 + c"
   ]
  },
  {
   "cell_type": "code",
   "execution_count": 15,
   "id": "66a5f70a",
   "metadata": {},
   "outputs": [
    {
     "data": {
      "text/html": [
       "<div>\n",
       "<style scoped>\n",
       "    .dataframe tbody tr th:only-of-type {\n",
       "        vertical-align: middle;\n",
       "    }\n",
       "\n",
       "    .dataframe tbody tr th {\n",
       "        vertical-align: top;\n",
       "    }\n",
       "\n",
       "    .dataframe thead th {\n",
       "        text-align: right;\n",
       "    }\n",
       "</style>\n",
       "<table border=\"1\" class=\"dataframe\">\n",
       "  <thead>\n",
       "    <tr style=\"text-align: right;\">\n",
       "      <th></th>\n",
       "      <th>X1</th>\n",
       "      <th>X2</th>\n",
       "      <th>y</th>\n",
       "    </tr>\n",
       "  </thead>\n",
       "  <tbody>\n",
       "    <tr>\n",
       "      <th>0</th>\n",
       "      <td>2.047853</td>\n",
       "      <td>49.379161</td>\n",
       "      <td>704.030872</td>\n",
       "    </tr>\n",
       "    <tr>\n",
       "      <th>1</th>\n",
       "      <td>0.064229</td>\n",
       "      <td>49.488532</td>\n",
       "      <td>695.206465</td>\n",
       "    </tr>\n",
       "    <tr>\n",
       "      <th>2</th>\n",
       "      <td>-0.268075</td>\n",
       "      <td>50.267131</td>\n",
       "      <td>701.330937</td>\n",
       "    </tr>\n",
       "    <tr>\n",
       "      <th>3</th>\n",
       "      <td>0.008075</td>\n",
       "      <td>50.929736</td>\n",
       "      <td>709.337731</td>\n",
       "    </tr>\n",
       "    <tr>\n",
       "      <th>4</th>\n",
       "      <td>-1.465397</td>\n",
       "      <td>49.604617</td>\n",
       "      <td>688.719187</td>\n",
       "    </tr>\n",
       "    <tr>\n",
       "      <th>...</th>\n",
       "      <td>...</td>\n",
       "      <td>...</td>\n",
       "      <td>...</td>\n",
       "    </tr>\n",
       "    <tr>\n",
       "      <th>95</th>\n",
       "      <td>0.496317</td>\n",
       "      <td>51.292257</td>\n",
       "      <td>715.404157</td>\n",
       "    </tr>\n",
       "    <tr>\n",
       "      <th>96</th>\n",
       "      <td>-0.806963</td>\n",
       "      <td>50.380902</td>\n",
       "      <td>699.774201</td>\n",
       "    </tr>\n",
       "    <tr>\n",
       "      <th>97</th>\n",
       "      <td>-1.069099</td>\n",
       "      <td>51.499184</td>\n",
       "      <td>709.646345</td>\n",
       "    </tr>\n",
       "    <tr>\n",
       "      <th>98</th>\n",
       "      <td>-0.898530</td>\n",
       "      <td>50.987944</td>\n",
       "      <td>705.386791</td>\n",
       "    </tr>\n",
       "    <tr>\n",
       "      <th>99</th>\n",
       "      <td>0.689431</td>\n",
       "      <td>49.358752</td>\n",
       "      <td>697.034676</td>\n",
       "    </tr>\n",
       "  </tbody>\n",
       "</table>\n",
       "<p>100 rows × 3 columns</p>\n",
       "</div>"
      ],
      "text/plain": [
       "          X1         X2           y\n",
       "0   2.047853  49.379161  704.030872\n",
       "1   0.064229  49.488532  695.206465\n",
       "2  -0.268075  50.267131  701.330937\n",
       "3   0.008075  50.929736  709.337731\n",
       "4  -1.465397  49.604617  688.719187\n",
       "..       ...        ...         ...\n",
       "95  0.496317  51.292257  715.404157\n",
       "96 -0.806963  50.380902  699.774201\n",
       "97 -1.069099  51.499184  709.646345\n",
       "98 -0.898530  50.987944  705.386791\n",
       "99  0.689431  49.358752  697.034676\n",
       "\n",
       "[100 rows x 3 columns]"
      ]
     },
     "execution_count": 15,
     "metadata": {},
     "output_type": "execute_result"
    }
   ],
   "source": [
    "df_multiReg = pd.DataFrame({'X1':x1, 'X2':x2,'y':y_12})\n",
    "df_multiReg"
   ]
  },
  {
   "cell_type": "code",
   "execution_count": 18,
   "id": "ca3e5285",
   "metadata": {},
   "outputs": [],
   "source": [
    "model_2 = LinearRegression()"
   ]
  },
  {
   "cell_type": "code",
   "execution_count": 19,
   "id": "53c4e04c",
   "metadata": {},
   "outputs": [],
   "source": [
    "X_train_2d = df_multiReg[['X1', 'X2']] #x part\n",
    "y_train_2d = df_multiReg['y'] #y part"
   ]
  },
  {
   "cell_type": "code",
   "execution_count": 20,
   "id": "a065c7a9",
   "metadata": {},
   "outputs": [
    {
     "data": {
      "text/plain": [
       "LinearRegression()"
      ]
     },
     "execution_count": 20,
     "metadata": {},
     "output_type": "execute_result"
    }
   ],
   "source": [
    "model_2.fit(X_train_2d, y_train_2d)"
   ]
  },
  {
   "cell_type": "code",
   "execution_count": 21,
   "id": "6bc76bc3",
   "metadata": {},
   "outputs": [],
   "source": [
    "yp_2d = model_2.predict(X_train_2d)"
   ]
  },
  {
   "cell_type": "code",
   "execution_count": 22,
   "id": "38e9fa6f",
   "metadata": {},
   "outputs": [
    {
     "data": {
      "text/plain": [
       "<matplotlib.collections.PathCollection at 0x1a109245550>"
      ]
     },
     "execution_count": 22,
     "metadata": {},
     "output_type": "execute_result"
    },
    {
     "data": {
      "image/png": "[encoded data removed]",
      "text/plain": [
       "<Figure size 432x288 with 1 Axes>"
      ]
     },
     "metadata": {
      "needs_background": "light"
     },
     "output_type": "display_data"
    }
   ],
   "source": [
    "plt.scatter(y_train_2d, yp_2d)"
   ]
  },
  {
   "cell_type": "code",
   "execution_count": 23,
   "id": "4152eb4a",
   "metadata": {},
   "outputs": [
    {
     "data": {
      "text/plain": [
       "(array([ 5., 10.]), 199.99999999999972)"
      ]
     },
     "execution_count": 23,
     "metadata": {},
     "output_type": "execute_result"
    }
   ],
   "source": [
    "model_2.coef_ , model_2.intercept_"
   ]
  },
  {
   "cell_type": "code",
   "execution_count": 24,
   "id": "007371dd",
   "metadata": {},
   "outputs": [
    {
     "data": {
      "text/plain": [
       "array([450.])"
      ]
     },
     "execution_count": 24,
     "metadata": {},
     "output_type": "execute_result"
    }
   ],
   "source": [
    "model_2.predict([[10, 20]])"
   ]
  },
  {
   "cell_type": "code",
   "execution_count": 27,
   "id": "d509e072",
   "metadata": {},
   "outputs": [],
   "source": [
    "from sklearn.metrics import mean_squared_error as mse"
   ]
  },
  {
   "cell_type": "code",
   "execution_count": 28,
   "id": "fe021e57",
   "metadata": {},
   "outputs": [
    {
     "data": {
      "text/plain": [
       "(array([704.03087172, 695.20646461, 701.33093679, 709.33773109,\n",
       "        688.71918684]),\n",
       " array([704.03087172, 695.20646461, 701.33093679, 709.33773109,\n",
       "        688.71918684]))"
      ]
     },
     "execution_count": 28,
     "metadata": {},
     "output_type": "execute_result"
    }
   ],
   "source": [
    "yp_2d[:5], y_12[:5]"
   ]
  },
  {
   "cell_type": "code",
   "execution_count": 29,
   "id": "f8884647",
   "metadata": {},
   "outputs": [
    {
     "data": {
      "text/plain": [
       "1.58973773975035e-26"
      ]
     },
     "execution_count": 29,
     "metadata": {},
     "output_type": "execute_result"
    }
   ],
   "source": [
    "((yp_2d - y_12)**2).mean()"
   ]
  },
  {
   "cell_type": "code",
   "execution_count": 30,
   "id": "910854ce",
   "metadata": {},
   "outputs": [
    {
     "data": {
      "text/plain": [
       "1.58973773975035e-26"
      ]
     },
     "execution_count": 30,
     "metadata": {},
     "output_type": "execute_result"
    }
   ],
   "source": [
    "mse(y_12, yp_2d)"
   ]
  },
  {
   "cell_type": "markdown",
   "id": "96594d6c",
   "metadata": {},
   "source": [
    "### ML application in Reservoir Engineering"
   ]
  },
  {
   "cell_type": "code",
   "execution_count": 35,
   "id": "1f2e42de",
   "metadata": {},
   "outputs": [],
   "source": [
    "# finding relation for porosity, water saturation and permeability\n",
    "df_phik = pd.read_csv('Phik.csv', index_col =0)"
   ]
  },
  {
   "cell_type": "markdown",
   "id": "25db8fb9",
   "metadata": {},
   "source": [
    "### EDA"
   ]
  },
  {
   "cell_type": "code",
   "execution_count": 36,
   "id": "8012310a",
   "metadata": {},
   "outputs": [
    {
     "data": {
      "text/html": [
       "<div>\n",
       "<style scoped>\n",
       "    .dataframe tbody tr th:only-of-type {\n",
       "        vertical-align: middle;\n",
       "    }\n",
       "\n",
       "    .dataframe tbody tr th {\n",
       "        vertical-align: top;\n",
       "    }\n",
       "\n",
       "    .dataframe thead th {\n",
       "        text-align: right;\n",
       "    }\n",
       "</style>\n",
       "<table border=\"1\" class=\"dataframe\">\n",
       "  <thead>\n",
       "    <tr style=\"text-align: right;\">\n",
       "      <th></th>\n",
       "      <th>Porosity</th>\n",
       "      <th>Swc</th>\n",
       "      <th>Permeability(D)</th>\n",
       "    </tr>\n",
       "  </thead>\n",
       "  <tbody>\n",
       "    <tr>\n",
       "      <th>0</th>\n",
       "      <td>0.269158</td>\n",
       "      <td>0.114209</td>\n",
       "      <td>2.042529</td>\n",
       "    </tr>\n",
       "    <tr>\n",
       "      <th>1</th>\n",
       "      <td>0.324275</td>\n",
       "      <td>0.072078</td>\n",
       "      <td>11.639989</td>\n",
       "    </tr>\n",
       "    <tr>\n",
       "      <th>2</th>\n",
       "      <td>0.218003</td>\n",
       "      <td>0.101849</td>\n",
       "      <td>1.015917</td>\n",
       "    </tr>\n",
       "    <tr>\n",
       "      <th>3</th>\n",
       "      <td>0.211875</td>\n",
       "      <td>0.099354</td>\n",
       "      <td>0.941715</td>\n",
       "    </tr>\n",
       "    <tr>\n",
       "      <th>4</th>\n",
       "      <td>0.322281</td>\n",
       "      <td>0.083444</td>\n",
       "      <td>8.452433</td>\n",
       "    </tr>\n",
       "  </tbody>\n",
       "</table>\n",
       "</div>"
      ],
      "text/plain": [
       "   Porosity       Swc  Permeability(D)\n",
       "0  0.269158  0.114209         2.042529\n",
       "1  0.324275  0.072078        11.639989\n",
       "2  0.218003  0.101849         1.015917\n",
       "3  0.211875  0.099354         0.941715\n",
       "4  0.322281  0.083444         8.452433"
      ]
     },
     "execution_count": 36,
     "metadata": {},
     "output_type": "execute_result"
    }
   ],
   "source": [
    "df_phik.head()"
   ]
  },
  {
   "cell_type": "markdown",
   "id": "f301e475",
   "metadata": {},
   "source": [
    "### Descrpitive Statistics"
   ]
  },
  {
   "cell_type": "code",
   "execution_count": 37,
   "id": "6ab94f1d",
   "metadata": {},
   "outputs": [
    {
     "data": {
      "text/html": [
       "<div>\n",
       "<style scoped>\n",
       "    .dataframe tbody tr th:only-of-type {\n",
       "        vertical-align: middle;\n",
       "    }\n",
       "\n",
       "    .dataframe tbody tr th {\n",
       "        vertical-align: top;\n",
       "    }\n",
       "\n",
       "    .dataframe thead th {\n",
       "        text-align: right;\n",
       "    }\n",
       "</style>\n",
       "<table border=\"1\" class=\"dataframe\">\n",
       "  <thead>\n",
       "    <tr style=\"text-align: right;\">\n",
       "      <th></th>\n",
       "      <th>Porosity</th>\n",
       "      <th>Swc</th>\n",
       "      <th>Permeability(D)</th>\n",
       "    </tr>\n",
       "  </thead>\n",
       "  <tbody>\n",
       "    <tr>\n",
       "      <th>count</th>\n",
       "      <td>70000.000000</td>\n",
       "      <td>70000.000000</td>\n",
       "      <td>70000.000000</td>\n",
       "    </tr>\n",
       "    <tr>\n",
       "      <th>mean</th>\n",
       "      <td>0.250099</td>\n",
       "      <td>0.099978</td>\n",
       "      <td>2.615701</td>\n",
       "    </tr>\n",
       "    <tr>\n",
       "      <th>std</th>\n",
       "      <td>0.050335</td>\n",
       "      <td>0.010008</td>\n",
       "      <td>2.386541</td>\n",
       "    </tr>\n",
       "    <tr>\n",
       "      <th>min</th>\n",
       "      <td>0.042789</td>\n",
       "      <td>0.054212</td>\n",
       "      <td>0.000679</td>\n",
       "    </tr>\n",
       "    <tr>\n",
       "      <th>25%</th>\n",
       "      <td>0.216020</td>\n",
       "      <td>0.093231</td>\n",
       "      <td>1.010082</td>\n",
       "    </tr>\n",
       "    <tr>\n",
       "      <th>50%</th>\n",
       "      <td>0.249907</td>\n",
       "      <td>0.099990</td>\n",
       "      <td>1.936386</td>\n",
       "    </tr>\n",
       "    <tr>\n",
       "      <th>75%</th>\n",
       "      <td>0.284033</td>\n",
       "      <td>0.106762</td>\n",
       "      <td>3.460038</td>\n",
       "    </tr>\n",
       "    <tr>\n",
       "      <th>max</th>\n",
       "      <td>0.478269</td>\n",
       "      <td>0.141312</td>\n",
       "      <td>38.662256</td>\n",
       "    </tr>\n",
       "  </tbody>\n",
       "</table>\n",
       "</div>"
      ],
      "text/plain": [
       "           Porosity           Swc  Permeability(D)\n",
       "count  70000.000000  70000.000000     70000.000000\n",
       "mean       0.250099      0.099978         2.615701\n",
       "std        0.050335      0.010008         2.386541\n",
       "min        0.042789      0.054212         0.000679\n",
       "25%        0.216020      0.093231         1.010082\n",
       "50%        0.249907      0.099990         1.936386\n",
       "75%        0.284033      0.106762         3.460038\n",
       "max        0.478269      0.141312        38.662256"
      ]
     },
     "execution_count": 37,
     "metadata": {},
     "output_type": "execute_result"
    }
   ],
   "source": [
    "df_phik.describe()"
   ]
  },
  {
   "cell_type": "code",
   "execution_count": 44,
   "id": "d2fcb960",
   "metadata": {},
   "outputs": [
    {
     "data": {
      "text/plain": [
       "<matplotlib.legend.Legend at 0x1a10b6e6340>"
      ]
     },
     "execution_count": 44,
     "metadata": {},
     "output_type": "execute_result"
    },
    {
     "data": {
      "image/png": "[encoded data removed]",
      "text/plain": [
       "<Figure size 600x400 with 1 Axes>"
      ]
     },
     "metadata": {},
     "output_type": "display_data"
    }
   ],
   "source": [
    "plt.style.use('default')\n",
    "plt.figure(figsize = (6, 4))\n",
    "sns.kdeplot(df_phik[\"Porosity\"], label = \"Porosity\", marker = \"*\")\n",
    "sns.kdeplot(df_phik[\"Swc\"], label = \"Swc\", marker = \"+\")\n",
    "\n",
    "plt.xlim(min(df_phik[\"Swc\"]), 0.6)\n",
    "plt.grid()\n",
    "plt.legend(loc = \"best\")"
   ]
  },
  {
   "cell_type": "code",
   "execution_count": 45,
   "id": "66c9c893",
   "metadata": {},
   "outputs": [],
   "source": [
    "from sklearn.model_selection import train_test_split"
   ]
  },
  {
   "cell_type": "code",
   "execution_count": 47,
   "id": "6ae9595b",
   "metadata": {},
   "outputs": [],
   "source": [
    "X = df_phik[[\"Porosity\", \"Swc\"]]\n",
    "y = df_phik[\"Permeability(D)\"]"
   ]
  },
  {
   "cell_type": "code",
   "execution_count": 48,
   "id": "a62444ae",
   "metadata": {},
   "outputs": [],
   "source": [
    " X_train, X_test, y_train, y_test = train_test_split(X, y, test_size=0.3, random_state=40)"
   ]
  },
  {
   "cell_type": "code",
   "execution_count": 49,
   "id": "82663836",
   "metadata": {},
   "outputs": [],
   "source": [
    "from sklearn.ensemble import RandomForestRegressor"
   ]
  },
  {
   "cell_type": "code",
   "execution_count": 51,
   "id": "d0344881",
   "metadata": {},
   "outputs": [
    {
     "data": {
      "text/plain": [
       "RandomForestRegressor()"
      ]
     },
     "execution_count": 51,
     "metadata": {},
     "output_type": "execute_result"
    }
   ],
   "source": [
    "rf_model = RandomForestRegressor()\n",
    "rf_model.fit(X_train, y_train)"
   ]
  },
  {
   "cell_type": "code",
   "execution_count": 54,
   "id": "fb642b7a",
   "metadata": {},
   "outputs": [],
   "source": [
    "yp_k_train = rf_model.predict(X_train)"
   ]
  },
  {
   "cell_type": "code",
   "execution_count": 55,
   "id": "14339231",
   "metadata": {},
   "outputs": [],
   "source": [
    "yp_k_test = rf_model.predict(X_test)"
   ]
  },
  {
   "cell_type": "code",
   "execution_count": 57,
   "id": "fbd2234e",
   "metadata": {},
   "outputs": [
    {
     "data": {
      "text/plain": [
       "<matplotlib.collections.PathCollection at 0x1a10df8e220>"
      ]
     },
     "execution_count": 57,
     "metadata": {},
     "output_type": "execute_result"
    },
    {
     "data": {
      "image/png": "[encoded data removed]",
      "text/plain": [
       "<Figure size 640x480 with 1 Axes>"
      ]
     },
     "metadata": {},
     "output_type": "display_data"
    }
   ],
   "source": [
    "plt.scatter(yp_k_train, y_train)"
   ]
  },
  {
   "cell_type": "code",
   "execution_count": 59,
   "id": "44c6969c",
   "metadata": {},
   "outputs": [
    {
     "data": {
      "text/plain": [
       "<matplotlib.collections.PathCollection at 0x1a10ec1adc0>"
      ]
     },
     "execution_count": 59,
     "metadata": {},
     "output_type": "execute_result"
    },
    {
     "data": {
      "image/png": "[encoded data removed]",
      "text/plain": [
       "<Figure size 640x480 with 1 Axes>"
      ]
     },
     "metadata": {},
     "output_type": "display_data"
    }
   ],
   "source": [
    "plt.scatter(yp_k_test, y_test)"
   ]
  },
  {
   "cell_type": "code",
   "execution_count": 60,
   "id": "1b52f3b5",
   "metadata": {},
   "outputs": [],
   "source": [
    "mse_train = mse(y_train, yp_k_train)\n",
    "mse_test = mse(y_test, yp_k_test)"
   ]
  },
  {
   "cell_type": "code",
   "execution_count": 61,
   "id": "c01c637e",
   "metadata": {},
   "outputs": [
    {
     "data": {
      "text/plain": [
       "(0.00168267966105623, 0.005537315149135687)"
      ]
     },
     "execution_count": 61,
     "metadata": {},
     "output_type": "execute_result"
    }
   ],
   "source": [
    "mse_train, mse_test"
   ]
  },
  {
   "cell_type": "code",
   "execution_count": null,
   "id": "8e552572",
   "metadata": {},
   "outputs": [],
   "source": []
  },
  {
   "cell_type": "code",
   "execution_count": null,
   "id": "a41382f4",
   "metadata": {},
   "outputs": [],
   "source": []
  }
 ],
 "metadata": {
  "kernelspec": {
   "display_name": "Python 3 (ipykernel)",
   "language": "python",
   "name": "python3"
  },
  "language_info": {
   "codemirror_mode": {
    "name": "ipython",
    "version": 3
   },
   "file_extension": ".py",
   "mimetype": "text/x-python",
   "name": "python",
   "nbconvert_exporter": "python",
   "pygments_lexer": "ipython3",
   "version": "3.9.6"
  }
 },
 "nbformat": 4,
 "nbformat_minor": 5
}
