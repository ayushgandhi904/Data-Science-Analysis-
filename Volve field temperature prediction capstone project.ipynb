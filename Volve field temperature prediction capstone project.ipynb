{
 "cells": [
  {
   "cell_type": "markdown",
   "id": "b3d30b79",
   "metadata": {},
   "source": [
    "### Project Title :-\n",
    "\n",
    "Machine learning to train temperature predictor that can predict bottomhole temperature using \\n production parameters as inputs"
   ]
  },
  {
   "cell_type": "code",
   "execution_count": 1,
   "id": "276e4333",
   "metadata": {},
   "outputs": [],
   "source": [
    "import numpy as np\n",
    "import pandas as pd\n",
    "import matplotlib.pyplot as plt\n",
    "import seaborn as sns\n",
    "\n",
    "import warnings\n",
    "warnings.filterwarnings(\"ignore\")"
   ]
  },
  {
   "cell_type": "markdown",
   "id": "b4be376a",
   "metadata": {},
   "source": [
    "### Import the dataset\n",
    "> The Dataset is volve field dataset (time series dataset)\n",
    ">> In Time Series Dataset, use these two step during import : **index_col = 0**, **parse_date = True**"
   ]
  },
  {
   "cell_type": "code",
   "execution_count": 2,
   "id": "b84425f8",
   "metadata": {},
   "outputs": [],
   "source": [
    "df = pd.read_csv(\"Volve P-12_DatesCorrected.csv\", index_col = 0, parse_dates = True)"
   ]
  },
  {
   "cell_type": "markdown",
   "id": "9ce79fa6",
   "metadata": {},
   "source": [
    "#### Majority of Data Science is exploring, processing and analyzing the data\n",
    "> Once the data is ready to be used, then ML is carried out."
   ]
  },
  {
   "cell_type": "markdown",
   "id": "b3844b66",
   "metadata": {},
   "source": [
    "### looking at head and tail of the dataset"
   ]
  },
  {
   "cell_type": "code",
   "execution_count": 3,
   "id": "90f5d6cd",
   "metadata": {},
   "outputs": [
    {
     "data": {
      "text/html": [
       "<div>\n",
       "<style scoped>\n",
       "    .dataframe tbody tr th:only-of-type {\n",
       "        vertical-align: middle;\n",
       "    }\n",
       "\n",
       "    .dataframe tbody tr th {\n",
       "        vertical-align: top;\n",
       "    }\n",
       "\n",
       "    .dataframe thead th {\n",
       "        text-align: right;\n",
       "    }\n",
       "</style>\n",
       "<table border=\"1\" class=\"dataframe\">\n",
       "  <thead>\n",
       "    <tr style=\"text-align: right;\">\n",
       "      <th></th>\n",
       "      <th>onstreaminject_HRS</th>\n",
       "      <th>BORE_WI_VOL</th>\n",
       "      <th>ON_STREAM_HRS</th>\n",
       "      <th>AVG_DOWNHOLE_PRESSURE</th>\n",
       "      <th>AVG_DOWNHOLE_TEMPERATURE</th>\n",
       "      <th>AVG_DP_TUBING</th>\n",
       "      <th>AVG_ANNULUS_PRESS</th>\n",
       "      <th>AVG_CHOKE_SIZE_P in percentage</th>\n",
       "      <th>AVG_WHP_P</th>\n",
       "      <th>AVG_WHT_P</th>\n",
       "      <th>DP_CHOKE_SIZE</th>\n",
       "      <th>BORE_OIL_VOL</th>\n",
       "      <th>BORE_GAS_VOL</th>\n",
       "      <th>BORE_WAT_VOL</th>\n",
       "    </tr>\n",
       "  </thead>\n",
       "  <tbody>\n",
       "    <tr>\n",
       "      <th>2007-01-09</th>\n",
       "      <td>0.0</td>\n",
       "      <td>0</td>\n",
       "      <td>0.0</td>\n",
       "      <td>0.0</td>\n",
       "      <td>0.0</td>\n",
       "      <td>0.0</td>\n",
       "      <td>0.0</td>\n",
       "      <td>0.0</td>\n",
       "      <td>0.0</td>\n",
       "      <td>0.0</td>\n",
       "      <td>0.0</td>\n",
       "      <td>0.0</td>\n",
       "      <td>0.0</td>\n",
       "      <td>0.0</td>\n",
       "    </tr>\n",
       "    <tr>\n",
       "      <th>2007-01-10</th>\n",
       "      <td>0.0</td>\n",
       "      <td>0</td>\n",
       "      <td>0.0</td>\n",
       "      <td>0.0</td>\n",
       "      <td>0.0</td>\n",
       "      <td>0.0</td>\n",
       "      <td>0.0</td>\n",
       "      <td>0.0</td>\n",
       "      <td>0.0</td>\n",
       "      <td>0.0</td>\n",
       "      <td>0.0</td>\n",
       "      <td>0.0</td>\n",
       "      <td>0.0</td>\n",
       "      <td>0.0</td>\n",
       "    </tr>\n",
       "    <tr>\n",
       "      <th>2007-01-11</th>\n",
       "      <td>0.0</td>\n",
       "      <td>0</td>\n",
       "      <td>0.0</td>\n",
       "      <td>0.0</td>\n",
       "      <td>0.0</td>\n",
       "      <td>0.0</td>\n",
       "      <td>0.0</td>\n",
       "      <td>0.0</td>\n",
       "      <td>0.0</td>\n",
       "      <td>0.0</td>\n",
       "      <td>0.0</td>\n",
       "      <td>0.0</td>\n",
       "      <td>0.0</td>\n",
       "      <td>0.0</td>\n",
       "    </tr>\n",
       "    <tr>\n",
       "      <th>2007-01-12</th>\n",
       "      <td>0.0</td>\n",
       "      <td>0</td>\n",
       "      <td>0.0</td>\n",
       "      <td>0.0</td>\n",
       "      <td>0.0</td>\n",
       "      <td>0.0</td>\n",
       "      <td>0.0</td>\n",
       "      <td>0.0</td>\n",
       "      <td>0.0</td>\n",
       "      <td>0.0</td>\n",
       "      <td>0.0</td>\n",
       "      <td>0.0</td>\n",
       "      <td>0.0</td>\n",
       "      <td>0.0</td>\n",
       "    </tr>\n",
       "    <tr>\n",
       "      <th>2007-01-13</th>\n",
       "      <td>0.0</td>\n",
       "      <td>0</td>\n",
       "      <td>0.0</td>\n",
       "      <td>0.0</td>\n",
       "      <td>0.0</td>\n",
       "      <td>0.0</td>\n",
       "      <td>0.0</td>\n",
       "      <td>0.0</td>\n",
       "      <td>0.0</td>\n",
       "      <td>0.0</td>\n",
       "      <td>0.0</td>\n",
       "      <td>0.0</td>\n",
       "      <td>0.0</td>\n",
       "      <td>0.0</td>\n",
       "    </tr>\n",
       "  </tbody>\n",
       "</table>\n",
       "</div>"
      ],
      "text/plain": [
       "            onstreaminject_HRS  BORE_WI_VOL  ON_STREAM_HRS  \\\n",
       "2007-01-09                 0.0            0            0.0   \n",
       "2007-01-10                 0.0            0            0.0   \n",
       "2007-01-11                 0.0            0            0.0   \n",
       "2007-01-12                 0.0            0            0.0   \n",
       "2007-01-13                 0.0            0            0.0   \n",
       "\n",
       "            AVG_DOWNHOLE_PRESSURE  AVG_DOWNHOLE_TEMPERATURE  AVG_DP_TUBING  \\\n",
       "2007-01-09                    0.0                       0.0            0.0   \n",
       "2007-01-10                    0.0                       0.0            0.0   \n",
       "2007-01-11                    0.0                       0.0            0.0   \n",
       "2007-01-12                    0.0                       0.0            0.0   \n",
       "2007-01-13                    0.0                       0.0            0.0   \n",
       "\n",
       "            AVG_ANNULUS_PRESS  AVG_CHOKE_SIZE_P in percentage  AVG_WHP_P  \\\n",
       "2007-01-09                0.0                             0.0        0.0   \n",
       "2007-01-10                0.0                             0.0        0.0   \n",
       "2007-01-11                0.0                             0.0        0.0   \n",
       "2007-01-12                0.0                             0.0        0.0   \n",
       "2007-01-13                0.0                             0.0        0.0   \n",
       "\n",
       "            AVG_WHT_P  DP_CHOKE_SIZE  BORE_OIL_VOL  BORE_GAS_VOL  BORE_WAT_VOL  \n",
       "2007-01-09        0.0            0.0           0.0           0.0           0.0  \n",
       "2007-01-10        0.0            0.0           0.0           0.0           0.0  \n",
       "2007-01-11        0.0            0.0           0.0           0.0           0.0  \n",
       "2007-01-12        0.0            0.0           0.0           0.0           0.0  \n",
       "2007-01-13        0.0            0.0           0.0           0.0           0.0  "
      ]
     },
     "execution_count": 3,
     "metadata": {},
     "output_type": "execute_result"
    }
   ],
   "source": [
    "df.head(5)"
   ]
  },
  {
   "cell_type": "code",
   "execution_count": 4,
   "id": "34088dc7",
   "metadata": {},
   "outputs": [
    {
     "data": {
      "text/html": [
       "<div>\n",
       "<style scoped>\n",
       "    .dataframe tbody tr th:only-of-type {\n",
       "        vertical-align: middle;\n",
       "    }\n",
       "\n",
       "    .dataframe tbody tr th {\n",
       "        vertical-align: top;\n",
       "    }\n",
       "\n",
       "    .dataframe thead th {\n",
       "        text-align: right;\n",
       "    }\n",
       "</style>\n",
       "<table border=\"1\" class=\"dataframe\">\n",
       "  <thead>\n",
       "    <tr style=\"text-align: right;\">\n",
       "      <th></th>\n",
       "      <th>onstreaminject_HRS</th>\n",
       "      <th>BORE_WI_VOL</th>\n",
       "      <th>ON_STREAM_HRS</th>\n",
       "      <th>AVG_DOWNHOLE_PRESSURE</th>\n",
       "      <th>AVG_DOWNHOLE_TEMPERATURE</th>\n",
       "      <th>AVG_DP_TUBING</th>\n",
       "      <th>AVG_ANNULUS_PRESS</th>\n",
       "      <th>AVG_CHOKE_SIZE_P in percentage</th>\n",
       "      <th>AVG_WHP_P</th>\n",
       "      <th>AVG_WHT_P</th>\n",
       "      <th>DP_CHOKE_SIZE</th>\n",
       "      <th>BORE_OIL_VOL</th>\n",
       "      <th>BORE_GAS_VOL</th>\n",
       "      <th>BORE_WAT_VOL</th>\n",
       "    </tr>\n",
       "  </thead>\n",
       "  <tbody>\n",
       "    <tr>\n",
       "      <th>2016-01-08</th>\n",
       "      <td>0.0</td>\n",
       "      <td>0</td>\n",
       "      <td>0.0</td>\n",
       "      <td>0.0</td>\n",
       "      <td>0.0</td>\n",
       "      <td>0.0</td>\n",
       "      <td>19.959</td>\n",
       "      <td>0.90339</td>\n",
       "      <td>0.0</td>\n",
       "      <td>0.0</td>\n",
       "      <td>0.026</td>\n",
       "      <td>0.0</td>\n",
       "      <td>0.0</td>\n",
       "      <td>0.0</td>\n",
       "    </tr>\n",
       "    <tr>\n",
       "      <th>2016-01-09</th>\n",
       "      <td>0.0</td>\n",
       "      <td>0</td>\n",
       "      <td>0.0</td>\n",
       "      <td>0.0</td>\n",
       "      <td>0.0</td>\n",
       "      <td>0.0</td>\n",
       "      <td>19.959</td>\n",
       "      <td>0.90339</td>\n",
       "      <td>0.0</td>\n",
       "      <td>0.0</td>\n",
       "      <td>0.026</td>\n",
       "      <td>0.0</td>\n",
       "      <td>0.0</td>\n",
       "      <td>0.0</td>\n",
       "    </tr>\n",
       "    <tr>\n",
       "      <th>2016-01-10</th>\n",
       "      <td>0.0</td>\n",
       "      <td>0</td>\n",
       "      <td>0.0</td>\n",
       "      <td>0.0</td>\n",
       "      <td>0.0</td>\n",
       "      <td>0.0</td>\n",
       "      <td>19.959</td>\n",
       "      <td>0.90339</td>\n",
       "      <td>0.0</td>\n",
       "      <td>0.0</td>\n",
       "      <td>0.026</td>\n",
       "      <td>0.0</td>\n",
       "      <td>0.0</td>\n",
       "      <td>0.0</td>\n",
       "    </tr>\n",
       "    <tr>\n",
       "      <th>2016-01-11</th>\n",
       "      <td>0.0</td>\n",
       "      <td>0</td>\n",
       "      <td>0.0</td>\n",
       "      <td>0.0</td>\n",
       "      <td>0.0</td>\n",
       "      <td>0.0</td>\n",
       "      <td>19.959</td>\n",
       "      <td>0.90339</td>\n",
       "      <td>0.0</td>\n",
       "      <td>0.0</td>\n",
       "      <td>0.026</td>\n",
       "      <td>0.0</td>\n",
       "      <td>0.0</td>\n",
       "      <td>0.0</td>\n",
       "    </tr>\n",
       "    <tr>\n",
       "      <th>2016-01-12</th>\n",
       "      <td>0.0</td>\n",
       "      <td>0</td>\n",
       "      <td>0.0</td>\n",
       "      <td>0.0</td>\n",
       "      <td>0.0</td>\n",
       "      <td>0.0</td>\n",
       "      <td>19.959</td>\n",
       "      <td>0.90339</td>\n",
       "      <td>0.0</td>\n",
       "      <td>0.0</td>\n",
       "      <td>0.026</td>\n",
       "      <td>0.0</td>\n",
       "      <td>0.0</td>\n",
       "      <td>0.0</td>\n",
       "    </tr>\n",
       "  </tbody>\n",
       "</table>\n",
       "</div>"
      ],
      "text/plain": [
       "            onstreaminject_HRS  BORE_WI_VOL  ON_STREAM_HRS  \\\n",
       "2016-01-08                 0.0            0            0.0   \n",
       "2016-01-09                 0.0            0            0.0   \n",
       "2016-01-10                 0.0            0            0.0   \n",
       "2016-01-11                 0.0            0            0.0   \n",
       "2016-01-12                 0.0            0            0.0   \n",
       "\n",
       "            AVG_DOWNHOLE_PRESSURE  AVG_DOWNHOLE_TEMPERATURE  AVG_DP_TUBING  \\\n",
       "2016-01-08                    0.0                       0.0            0.0   \n",
       "2016-01-09                    0.0                       0.0            0.0   \n",
       "2016-01-10                    0.0                       0.0            0.0   \n",
       "2016-01-11                    0.0                       0.0            0.0   \n",
       "2016-01-12                    0.0                       0.0            0.0   \n",
       "\n",
       "            AVG_ANNULUS_PRESS  AVG_CHOKE_SIZE_P in percentage  AVG_WHP_P  \\\n",
       "2016-01-08             19.959                         0.90339        0.0   \n",
       "2016-01-09             19.959                         0.90339        0.0   \n",
       "2016-01-10             19.959                         0.90339        0.0   \n",
       "2016-01-11             19.959                         0.90339        0.0   \n",
       "2016-01-12             19.959                         0.90339        0.0   \n",
       "\n",
       "            AVG_WHT_P  DP_CHOKE_SIZE  BORE_OIL_VOL  BORE_GAS_VOL  BORE_WAT_VOL  \n",
       "2016-01-08        0.0          0.026           0.0           0.0           0.0  \n",
       "2016-01-09        0.0          0.026           0.0           0.0           0.0  \n",
       "2016-01-10        0.0          0.026           0.0           0.0           0.0  \n",
       "2016-01-11        0.0          0.026           0.0           0.0           0.0  \n",
       "2016-01-12        0.0          0.026           0.0           0.0           0.0  "
      ]
     },
     "execution_count": 4,
     "metadata": {},
     "output_type": "execute_result"
    }
   ],
   "source": [
    "df.tail(5)"
   ]
  },
  {
   "cell_type": "code",
   "execution_count": 5,
   "id": "ed61da51",
   "metadata": {},
   "outputs": [],
   "source": [
    "#check the data info, in order to see for datatypes and null values"
   ]
  },
  {
   "cell_type": "code",
   "execution_count": 6,
   "id": "2e8eb5d8",
   "metadata": {},
   "outputs": [
    {
     "name": "stdout",
     "output_type": "stream",
     "text": [
      "<class 'pandas.core.frame.DataFrame'>\n",
      "DatetimeIndex: 3291 entries, 2007-01-09 to 2016-01-12\n",
      "Data columns (total 14 columns):\n",
      " #   Column                          Non-Null Count  Dtype  \n",
      "---  ------                          --------------  -----  \n",
      " 0   onstreaminject_HRS              3291 non-null   float64\n",
      " 1   BORE_WI_VOL                     3291 non-null   int64  \n",
      " 2   ON_STREAM_HRS                   3291 non-null   float64\n",
      " 3   AVG_DOWNHOLE_PRESSURE           3291 non-null   float64\n",
      " 4   AVG_DOWNHOLE_TEMPERATURE        3291 non-null   float64\n",
      " 5   AVG_DP_TUBING                   3291 non-null   float64\n",
      " 6   AVG_ANNULUS_PRESS               3291 non-null   float64\n",
      " 7   AVG_CHOKE_SIZE_P in percentage  3291 non-null   float64\n",
      " 8   AVG_WHP_P                       3291 non-null   float64\n",
      " 9   AVG_WHT_P                       3291 non-null   float64\n",
      " 10  DP_CHOKE_SIZE                   3291 non-null   float64\n",
      " 11  BORE_OIL_VOL                    3291 non-null   float64\n",
      " 12  BORE_GAS_VOL                    3291 non-null   float64\n",
      " 13  BORE_WAT_VOL                    3291 non-null   float64\n",
      "dtypes: float64(13), int64(1)\n",
      "memory usage: 385.7 KB\n"
     ]
    }
   ],
   "source": [
    "df.info()"
   ]
  },
  {
   "cell_type": "code",
   "execution_count": 7,
   "id": "a7d4314a",
   "metadata": {},
   "outputs": [],
   "source": [
    "# The good thing is dataset has no-null values\n",
    "# all are numeric data"
   ]
  },
  {
   "cell_type": "markdown",
   "id": "114edceb",
   "metadata": {},
   "source": [
    "### Descriptive Statistics"
   ]
  },
  {
   "cell_type": "code",
   "execution_count": 8,
   "id": "85360e32",
   "metadata": {},
   "outputs": [
    {
     "data": {
      "text/html": [
       "<div>\n",
       "<style scoped>\n",
       "    .dataframe tbody tr th:only-of-type {\n",
       "        vertical-align: middle;\n",
       "    }\n",
       "\n",
       "    .dataframe tbody tr th {\n",
       "        vertical-align: top;\n",
       "    }\n",
       "\n",
       "    .dataframe thead th {\n",
       "        text-align: right;\n",
       "    }\n",
       "</style>\n",
       "<table border=\"1\" class=\"dataframe\">\n",
       "  <thead>\n",
       "    <tr style=\"text-align: right;\">\n",
       "      <th></th>\n",
       "      <th>onstreaminject_HRS</th>\n",
       "      <th>BORE_WI_VOL</th>\n",
       "      <th>ON_STREAM_HRS</th>\n",
       "      <th>AVG_DOWNHOLE_PRESSURE</th>\n",
       "      <th>AVG_DOWNHOLE_TEMPERATURE</th>\n",
       "      <th>AVG_DP_TUBING</th>\n",
       "      <th>AVG_ANNULUS_PRESS</th>\n",
       "      <th>AVG_CHOKE_SIZE_P in percentage</th>\n",
       "      <th>AVG_WHP_P</th>\n",
       "      <th>AVG_WHT_P</th>\n",
       "      <th>DP_CHOKE_SIZE</th>\n",
       "      <th>BORE_OIL_VOL</th>\n",
       "      <th>BORE_GAS_VOL</th>\n",
       "      <th>BORE_WAT_VOL</th>\n",
       "    </tr>\n",
       "  </thead>\n",
       "  <tbody>\n",
       "    <tr>\n",
       "      <th>count</th>\n",
       "      <td>3291.000000</td>\n",
       "      <td>3291.000000</td>\n",
       "      <td>3291.000000</td>\n",
       "      <td>3291.000000</td>\n",
       "      <td>3291.000000</td>\n",
       "      <td>3291.000000</td>\n",
       "      <td>3291.000000</td>\n",
       "      <td>3291.000000</td>\n",
       "      <td>3291.000000</td>\n",
       "      <td>3291.000000</td>\n",
       "      <td>3291.000000</td>\n",
       "      <td>3291.000000</td>\n",
       "      <td>3291.000000</td>\n",
       "      <td>3291.000000</td>\n",
       "    </tr>\n",
       "    <tr>\n",
       "      <th>mean</th>\n",
       "      <td>19.528256</td>\n",
       "      <td>4935.663628</td>\n",
       "      <td>20.017419</td>\n",
       "      <td>76.283155</td>\n",
       "      <td>31.424488</td>\n",
       "      <td>80.758924</td>\n",
       "      <td>16.368846</td>\n",
       "      <td>64.158081</td>\n",
       "      <td>45.803679</td>\n",
       "      <td>74.345872</td>\n",
       "      <td>18.657338</td>\n",
       "      <td>1402.086752</td>\n",
       "      <td>204365.771346</td>\n",
       "      <td>2105.660438</td>\n",
       "    </tr>\n",
       "    <tr>\n",
       "      <th>std</th>\n",
       "      <td>8.669803</td>\n",
       "      <td>2625.955533</td>\n",
       "      <td>8.303784</td>\n",
       "      <td>118.248271</td>\n",
       "      <td>48.547561</td>\n",
       "      <td>73.006429</td>\n",
       "      <td>7.197959</td>\n",
       "      <td>33.810811</td>\n",
       "      <td>25.954204</td>\n",
       "      <td>26.140866</td>\n",
       "      <td>22.896388</td>\n",
       "      <td>1642.492700</td>\n",
       "      <td>232710.410394</td>\n",
       "      <td>1952.495950</td>\n",
       "    </tr>\n",
       "    <tr>\n",
       "      <th>min</th>\n",
       "      <td>0.000000</td>\n",
       "      <td>0.000000</td>\n",
       "      <td>0.000000</td>\n",
       "      <td>0.000000</td>\n",
       "      <td>0.000000</td>\n",
       "      <td>0.000000</td>\n",
       "      <td>0.000000</td>\n",
       "      <td>0.000000</td>\n",
       "      <td>0.000000</td>\n",
       "      <td>0.000000</td>\n",
       "      <td>0.000000</td>\n",
       "      <td>0.000000</td>\n",
       "      <td>0.000000</td>\n",
       "      <td>-458.000000</td>\n",
       "    </tr>\n",
       "    <tr>\n",
       "      <th>25%</th>\n",
       "      <td>21.670000</td>\n",
       "      <td>3972.500000</td>\n",
       "      <td>24.000000</td>\n",
       "      <td>0.000000</td>\n",
       "      <td>0.000000</td>\n",
       "      <td>32.235500</td>\n",
       "      <td>12.543000</td>\n",
       "      <td>40.983840</td>\n",
       "      <td>32.199000</td>\n",
       "      <td>76.549000</td>\n",
       "      <td>3.663500</td>\n",
       "      <td>211.000000</td>\n",
       "      <td>33259.000000</td>\n",
       "      <td>40.500000</td>\n",
       "    </tr>\n",
       "    <tr>\n",
       "      <th>50%</th>\n",
       "      <td>24.000000</td>\n",
       "      <td>5335.000000</td>\n",
       "      <td>24.000000</td>\n",
       "      <td>0.000000</td>\n",
       "      <td>0.000000</td>\n",
       "      <td>37.921250</td>\n",
       "      <td>18.019000</td>\n",
       "      <td>65.988040</td>\n",
       "      <td>37.464000</td>\n",
       "      <td>81.693000</td>\n",
       "      <td>6.819000</td>\n",
       "      <td>664.000000</td>\n",
       "      <td>101142.000000</td>\n",
       "      <td>1260.000000</td>\n",
       "    </tr>\n",
       "    <tr>\n",
       "      <th>75%</th>\n",
       "      <td>24.000000</td>\n",
       "      <td>6851.500000</td>\n",
       "      <td>24.000000</td>\n",
       "      <td>235.838500</td>\n",
       "      <td>105.919000</td>\n",
       "      <td>170.045500</td>\n",
       "      <td>20.587000</td>\n",
       "      <td>99.895675</td>\n",
       "      <td>59.079500</td>\n",
       "      <td>90.002500</td>\n",
       "      <td>26.760500</td>\n",
       "      <td>2026.000000</td>\n",
       "      <td>295593.000000</td>\n",
       "      <td>4109.000000</td>\n",
       "    </tr>\n",
       "    <tr>\n",
       "      <th>max</th>\n",
       "      <td>25.000000</td>\n",
       "      <td>9316.000000</td>\n",
       "      <td>25.000000</td>\n",
       "      <td>317.701000</td>\n",
       "      <td>107.508000</td>\n",
       "      <td>314.409000</td>\n",
       "      <td>30.020000</td>\n",
       "      <td>100.000000</td>\n",
       "      <td>137.311000</td>\n",
       "      <td>92.459000</td>\n",
       "      <td>124.123000</td>\n",
       "      <td>5902.000000</td>\n",
       "      <td>851132.000000</td>\n",
       "      <td>8020.000000</td>\n",
       "    </tr>\n",
       "  </tbody>\n",
       "</table>\n",
       "</div>"
      ],
      "text/plain": [
       "       onstreaminject_HRS  BORE_WI_VOL  ON_STREAM_HRS  AVG_DOWNHOLE_PRESSURE  \\\n",
       "count         3291.000000  3291.000000    3291.000000            3291.000000   \n",
       "mean            19.528256  4935.663628      20.017419              76.283155   \n",
       "std              8.669803  2625.955533       8.303784             118.248271   \n",
       "min              0.000000     0.000000       0.000000               0.000000   \n",
       "25%             21.670000  3972.500000      24.000000               0.000000   \n",
       "50%             24.000000  5335.000000      24.000000               0.000000   \n",
       "75%             24.000000  6851.500000      24.000000             235.838500   \n",
       "max             25.000000  9316.000000      25.000000             317.701000   \n",
       "\n",
       "       AVG_DOWNHOLE_TEMPERATURE  AVG_DP_TUBING  AVG_ANNULUS_PRESS  \\\n",
       "count               3291.000000    3291.000000        3291.000000   \n",
       "mean                  31.424488      80.758924          16.368846   \n",
       "std                   48.547561      73.006429           7.197959   \n",
       "min                    0.000000       0.000000           0.000000   \n",
       "25%                    0.000000      32.235500          12.543000   \n",
       "50%                    0.000000      37.921250          18.019000   \n",
       "75%                  105.919000     170.045500          20.587000   \n",
       "max                  107.508000     314.409000          30.020000   \n",
       "\n",
       "       AVG_CHOKE_SIZE_P in percentage    AVG_WHP_P    AVG_WHT_P  \\\n",
       "count                     3291.000000  3291.000000  3291.000000   \n",
       "mean                        64.158081    45.803679    74.345872   \n",
       "std                         33.810811    25.954204    26.140866   \n",
       "min                          0.000000     0.000000     0.000000   \n",
       "25%                         40.983840    32.199000    76.549000   \n",
       "50%                         65.988040    37.464000    81.693000   \n",
       "75%                         99.895675    59.079500    90.002500   \n",
       "max                        100.000000   137.311000    92.459000   \n",
       "\n",
       "       DP_CHOKE_SIZE  BORE_OIL_VOL   BORE_GAS_VOL  BORE_WAT_VOL  \n",
       "count    3291.000000   3291.000000    3291.000000   3291.000000  \n",
       "mean       18.657338   1402.086752  204365.771346   2105.660438  \n",
       "std        22.896388   1642.492700  232710.410394   1952.495950  \n",
       "min         0.000000      0.000000       0.000000   -458.000000  \n",
       "25%         3.663500    211.000000   33259.000000     40.500000  \n",
       "50%         6.819000    664.000000  101142.000000   1260.000000  \n",
       "75%        26.760500   2026.000000  295593.000000   4109.000000  \n",
       "max       124.123000   5902.000000  851132.000000   8020.000000  "
      ]
     },
     "execution_count": 8,
     "metadata": {},
     "output_type": "execute_result"
    }
   ],
   "source": [
    "df.describe()\n",
    "#feel of outlier"
   ]
  },
  {
   "cell_type": "code",
   "execution_count": 9,
   "id": "f8a737b5",
   "metadata": {},
   "outputs": [
    {
     "data": {
      "text/html": [
       "<div>\n",
       "<style scoped>\n",
       "    .dataframe tbody tr th:only-of-type {\n",
       "        vertical-align: middle;\n",
       "    }\n",
       "\n",
       "    .dataframe tbody tr th {\n",
       "        vertical-align: top;\n",
       "    }\n",
       "\n",
       "    .dataframe thead th {\n",
       "        text-align: right;\n",
       "    }\n",
       "</style>\n",
       "<table border=\"1\" class=\"dataframe\">\n",
       "  <thead>\n",
       "    <tr style=\"text-align: right;\">\n",
       "      <th></th>\n",
       "      <th>count</th>\n",
       "      <th>mean</th>\n",
       "      <th>std</th>\n",
       "      <th>min</th>\n",
       "      <th>25%</th>\n",
       "      <th>50%</th>\n",
       "      <th>75%</th>\n",
       "      <th>max</th>\n",
       "    </tr>\n",
       "  </thead>\n",
       "  <tbody>\n",
       "    <tr>\n",
       "      <th>onstreaminject_HRS</th>\n",
       "      <td>3291.0</td>\n",
       "      <td>19.528256</td>\n",
       "      <td>8.669803</td>\n",
       "      <td>0.0</td>\n",
       "      <td>21.67000</td>\n",
       "      <td>24.00000</td>\n",
       "      <td>24.000000</td>\n",
       "      <td>25.000</td>\n",
       "    </tr>\n",
       "    <tr>\n",
       "      <th>BORE_WI_VOL</th>\n",
       "      <td>3291.0</td>\n",
       "      <td>4935.663628</td>\n",
       "      <td>2625.955533</td>\n",
       "      <td>0.0</td>\n",
       "      <td>3972.50000</td>\n",
       "      <td>5335.00000</td>\n",
       "      <td>6851.500000</td>\n",
       "      <td>9316.000</td>\n",
       "    </tr>\n",
       "    <tr>\n",
       "      <th>ON_STREAM_HRS</th>\n",
       "      <td>3291.0</td>\n",
       "      <td>20.017419</td>\n",
       "      <td>8.303784</td>\n",
       "      <td>0.0</td>\n",
       "      <td>24.00000</td>\n",
       "      <td>24.00000</td>\n",
       "      <td>24.000000</td>\n",
       "      <td>25.000</td>\n",
       "    </tr>\n",
       "    <tr>\n",
       "      <th>AVG_DOWNHOLE_PRESSURE</th>\n",
       "      <td>3291.0</td>\n",
       "      <td>76.283155</td>\n",
       "      <td>118.248271</td>\n",
       "      <td>0.0</td>\n",
       "      <td>0.00000</td>\n",
       "      <td>0.00000</td>\n",
       "      <td>235.838500</td>\n",
       "      <td>317.701</td>\n",
       "    </tr>\n",
       "    <tr>\n",
       "      <th>AVG_DOWNHOLE_TEMPERATURE</th>\n",
       "      <td>3291.0</td>\n",
       "      <td>31.424488</td>\n",
       "      <td>48.547561</td>\n",
       "      <td>0.0</td>\n",
       "      <td>0.00000</td>\n",
       "      <td>0.00000</td>\n",
       "      <td>105.919000</td>\n",
       "      <td>107.508</td>\n",
       "    </tr>\n",
       "    <tr>\n",
       "      <th>AVG_DP_TUBING</th>\n",
       "      <td>3291.0</td>\n",
       "      <td>80.758924</td>\n",
       "      <td>73.006429</td>\n",
       "      <td>0.0</td>\n",
       "      <td>32.23550</td>\n",
       "      <td>37.92125</td>\n",
       "      <td>170.045500</td>\n",
       "      <td>314.409</td>\n",
       "    </tr>\n",
       "    <tr>\n",
       "      <th>AVG_ANNULUS_PRESS</th>\n",
       "      <td>3291.0</td>\n",
       "      <td>16.368846</td>\n",
       "      <td>7.197959</td>\n",
       "      <td>0.0</td>\n",
       "      <td>12.54300</td>\n",
       "      <td>18.01900</td>\n",
       "      <td>20.587000</td>\n",
       "      <td>30.020</td>\n",
       "    </tr>\n",
       "    <tr>\n",
       "      <th>AVG_CHOKE_SIZE_P in percentage</th>\n",
       "      <td>3291.0</td>\n",
       "      <td>64.158081</td>\n",
       "      <td>33.810811</td>\n",
       "      <td>0.0</td>\n",
       "      <td>40.98384</td>\n",
       "      <td>65.98804</td>\n",
       "      <td>99.895675</td>\n",
       "      <td>100.000</td>\n",
       "    </tr>\n",
       "    <tr>\n",
       "      <th>AVG_WHP_P</th>\n",
       "      <td>3291.0</td>\n",
       "      <td>45.803679</td>\n",
       "      <td>25.954204</td>\n",
       "      <td>0.0</td>\n",
       "      <td>32.19900</td>\n",
       "      <td>37.46400</td>\n",
       "      <td>59.079500</td>\n",
       "      <td>137.311</td>\n",
       "    </tr>\n",
       "    <tr>\n",
       "      <th>AVG_WHT_P</th>\n",
       "      <td>3291.0</td>\n",
       "      <td>74.345872</td>\n",
       "      <td>26.140866</td>\n",
       "      <td>0.0</td>\n",
       "      <td>76.54900</td>\n",
       "      <td>81.69300</td>\n",
       "      <td>90.002500</td>\n",
       "      <td>92.459</td>\n",
       "    </tr>\n",
       "    <tr>\n",
       "      <th>DP_CHOKE_SIZE</th>\n",
       "      <td>3291.0</td>\n",
       "      <td>18.657338</td>\n",
       "      <td>22.896388</td>\n",
       "      <td>0.0</td>\n",
       "      <td>3.66350</td>\n",
       "      <td>6.81900</td>\n",
       "      <td>26.760500</td>\n",
       "      <td>124.123</td>\n",
       "    </tr>\n",
       "    <tr>\n",
       "      <th>BORE_OIL_VOL</th>\n",
       "      <td>3291.0</td>\n",
       "      <td>1402.086752</td>\n",
       "      <td>1642.492700</td>\n",
       "      <td>0.0</td>\n",
       "      <td>211.00000</td>\n",
       "      <td>664.00000</td>\n",
       "      <td>2026.000000</td>\n",
       "      <td>5902.000</td>\n",
       "    </tr>\n",
       "    <tr>\n",
       "      <th>BORE_GAS_VOL</th>\n",
       "      <td>3291.0</td>\n",
       "      <td>204365.771346</td>\n",
       "      <td>232710.410394</td>\n",
       "      <td>0.0</td>\n",
       "      <td>33259.00000</td>\n",
       "      <td>101142.00000</td>\n",
       "      <td>295593.000000</td>\n",
       "      <td>851132.000</td>\n",
       "    </tr>\n",
       "    <tr>\n",
       "      <th>BORE_WAT_VOL</th>\n",
       "      <td>3291.0</td>\n",
       "      <td>2105.660438</td>\n",
       "      <td>1952.495950</td>\n",
       "      <td>-458.0</td>\n",
       "      <td>40.50000</td>\n",
       "      <td>1260.00000</td>\n",
       "      <td>4109.000000</td>\n",
       "      <td>8020.000</td>\n",
       "    </tr>\n",
       "  </tbody>\n",
       "</table>\n",
       "</div>"
      ],
      "text/plain": [
       "                                 count           mean            std    min  \\\n",
       "onstreaminject_HRS              3291.0      19.528256       8.669803    0.0   \n",
       "BORE_WI_VOL                     3291.0    4935.663628    2625.955533    0.0   \n",
       "ON_STREAM_HRS                   3291.0      20.017419       8.303784    0.0   \n",
       "AVG_DOWNHOLE_PRESSURE           3291.0      76.283155     118.248271    0.0   \n",
       "AVG_DOWNHOLE_TEMPERATURE        3291.0      31.424488      48.547561    0.0   \n",
       "AVG_DP_TUBING                   3291.0      80.758924      73.006429    0.0   \n",
       "AVG_ANNULUS_PRESS               3291.0      16.368846       7.197959    0.0   \n",
       "AVG_CHOKE_SIZE_P in percentage  3291.0      64.158081      33.810811    0.0   \n",
       "AVG_WHP_P                       3291.0      45.803679      25.954204    0.0   \n",
       "AVG_WHT_P                       3291.0      74.345872      26.140866    0.0   \n",
       "DP_CHOKE_SIZE                   3291.0      18.657338      22.896388    0.0   \n",
       "BORE_OIL_VOL                    3291.0    1402.086752    1642.492700    0.0   \n",
       "BORE_GAS_VOL                    3291.0  204365.771346  232710.410394    0.0   \n",
       "BORE_WAT_VOL                    3291.0    2105.660438    1952.495950 -458.0   \n",
       "\n",
       "                                        25%           50%            75%  \\\n",
       "onstreaminject_HRS                 21.67000      24.00000      24.000000   \n",
       "BORE_WI_VOL                      3972.50000    5335.00000    6851.500000   \n",
       "ON_STREAM_HRS                      24.00000      24.00000      24.000000   \n",
       "AVG_DOWNHOLE_PRESSURE               0.00000       0.00000     235.838500   \n",
       "AVG_DOWNHOLE_TEMPERATURE            0.00000       0.00000     105.919000   \n",
       "AVG_DP_TUBING                      32.23550      37.92125     170.045500   \n",
       "AVG_ANNULUS_PRESS                  12.54300      18.01900      20.587000   \n",
       "AVG_CHOKE_SIZE_P in percentage     40.98384      65.98804      99.895675   \n",
       "AVG_WHP_P                          32.19900      37.46400      59.079500   \n",
       "AVG_WHT_P                          76.54900      81.69300      90.002500   \n",
       "DP_CHOKE_SIZE                       3.66350       6.81900      26.760500   \n",
       "BORE_OIL_VOL                      211.00000     664.00000    2026.000000   \n",
       "BORE_GAS_VOL                    33259.00000  101142.00000  295593.000000   \n",
       "BORE_WAT_VOL                       40.50000    1260.00000    4109.000000   \n",
       "\n",
       "                                       max  \n",
       "onstreaminject_HRS                  25.000  \n",
       "BORE_WI_VOL                       9316.000  \n",
       "ON_STREAM_HRS                       25.000  \n",
       "AVG_DOWNHOLE_PRESSURE              317.701  \n",
       "AVG_DOWNHOLE_TEMPERATURE           107.508  \n",
       "AVG_DP_TUBING                      314.409  \n",
       "AVG_ANNULUS_PRESS                   30.020  \n",
       "AVG_CHOKE_SIZE_P in percentage     100.000  \n",
       "AVG_WHP_P                          137.311  \n",
       "AVG_WHT_P                           92.459  \n",
       "DP_CHOKE_SIZE                      124.123  \n",
       "BORE_OIL_VOL                      5902.000  \n",
       "BORE_GAS_VOL                    851132.000  \n",
       "BORE_WAT_VOL                      8020.000  "
      ]
     },
     "execution_count": 9,
     "metadata": {},
     "output_type": "execute_result"
    }
   ],
   "source": [
    "df.describe().T"
   ]
  },
  {
   "cell_type": "code",
   "execution_count": 10,
   "id": "03304f61",
   "metadata": {},
   "outputs": [
    {
     "data": {
      "text/plain": [
       "<matplotlib.lines.Line2D at 0x11365e191c0>"
      ]
     },
     "execution_count": 10,
     "metadata": {},
     "output_type": "execute_result"
    },
    {
     "data": {
      "image/png": "[encoded data removed]",
      "text/plain": [
       "<Figure size 432x288 with 1 Axes>"
      ]
     },
     "metadata": {
      "needs_background": "light"
     },
     "output_type": "display_data"
    }
   ],
   "source": [
    "sns.kdeplot(df[\"BORE_GAS_VOL\"])\n",
    "plt.axvline(33259, color = 'red')\n",
    "plt.axvline(295593, color = 'k')"
   ]
  },
  {
   "cell_type": "markdown",
   "id": "a7af9427",
   "metadata": {},
   "source": [
    "### Visualization"
   ]
  },
  {
   "cell_type": "code",
   "execution_count": 11,
   "id": "c82ced66",
   "metadata": {},
   "outputs": [
    {
     "data": {
      "text/plain": [
       "Index(['onstreaminject_HRS', 'BORE_WI_VOL', 'ON_STREAM_HRS',\n",
       "       'AVG_DOWNHOLE_PRESSURE', 'AVG_DOWNHOLE_TEMPERATURE', 'AVG_DP_TUBING',\n",
       "       'AVG_ANNULUS_PRESS', 'AVG_CHOKE_SIZE_P in percentage', 'AVG_WHP_P',\n",
       "       'AVG_WHT_P', 'DP_CHOKE_SIZE', 'BORE_OIL_VOL', 'BORE_GAS_VOL',\n",
       "       'BORE_WAT_VOL'],\n",
       "      dtype='object')"
      ]
     },
     "execution_count": 11,
     "metadata": {},
     "output_type": "execute_result"
    }
   ],
   "source": [
    "df.columns"
   ]
  },
  {
   "cell_type": "code",
   "execution_count": 12,
   "id": "7583a5db",
   "metadata": {},
   "outputs": [
    {
     "data": {
      "text/plain": [
       "Text(0.5, 0.98, 'Boxplots to visualize outliers comparitevely')"
      ]
     },
     "execution_count": 12,
     "metadata": {},
     "output_type": "execute_result"
    },
    {
     "data": {
      "image/png": "[encoded data removed]",
      "text/plain": [
       "<Figure size 1152x288 with 4 Axes>"
      ]
     },
     "metadata": {
      "needs_background": "light"
     },
     "output_type": "display_data"
    }
   ],
   "source": [
    "plt.figure(figsize = (16, 4))\n",
    "\n",
    "plt.subplot(141)\n",
    "sns.boxplot(df[\"DP_CHOKE_SIZE\"])\n",
    "\n",
    "plt.subplot(142)\n",
    "sns.boxplot(df[\"BORE_OIL_VOL\"])\n",
    "\n",
    "plt.subplot(143)\n",
    "sns.boxplot(df[\"BORE_GAS_VOL\"])\n",
    "\n",
    "plt.subplot(144)\n",
    "sns.boxplot(df[\"BORE_WAT_VOL\"])\n",
    "\n",
    "plt.suptitle(\"Boxplots to visualize outliers comparitevely\", size = 20, color = \"red\")"
   ]
  },
  {
   "cell_type": "code",
   "execution_count": 13,
   "id": "5ed4b8ed",
   "metadata": {},
   "outputs": [
    {
     "data": {
      "text/plain": [
       "Text(0.5, 0.98, 'Distributions')"
      ]
     },
     "execution_count": 13,
     "metadata": {},
     "output_type": "execute_result"
    },
    {
     "data": {
      "image/png": "[encoded data removed]",
      "text/plain": [
       "<Figure size 1152x288 with 4 Axes>"
      ]
     },
     "metadata": {
      "needs_background": "light"
     },
     "output_type": "display_data"
    }
   ],
   "source": [
    "plt.figure(figsize = (16, 4))\n",
    "\n",
    "plt.subplot(141)\n",
    "sns.distplot(df[\"DP_CHOKE_SIZE\"])\n",
    "\n",
    "plt.subplot(142)\n",
    "sns.distplot(df[\"BORE_OIL_VOL\"])\n",
    "\n",
    "plt.subplot(143)\n",
    "sns.distplot(df[\"BORE_GAS_VOL\"])\n",
    "\n",
    "plt.subplot(144)\n",
    "sns.distplot(df[\"BORE_WAT_VOL\"])\n",
    "\n",
    "plt.suptitle(\"Distributions\", size = 20, color = \"red\")"
   ]
  },
  {
   "cell_type": "markdown",
   "id": "d07f1afd",
   "metadata": {},
   "source": [
    "#### **to remove outlier : we should either remove all the rows that have outlier data or replace them with the values from within the IQR**"
   ]
  },
  {
   "cell_type": "markdown",
   "id": "89f3ff7b",
   "metadata": {},
   "source": [
    "### Removing the outlier "
   ]
  },
  {
   "cell_type": "code",
   "execution_count": 14,
   "id": "9da41626",
   "metadata": {},
   "outputs": [],
   "source": [
    "def outlier_counter(col_name, df):\n",
    "    \n",
    "    \"\"\"\n",
    "    The rule is :- Any value beyond 75 + 1.5*IQR or 25 - 1.5*IQR is outlier.\n",
    "    \"\"\"\n",
    "    \n",
    "    A = df[col_name]\n",
    "    \n",
    "    q_75 = np.quantile(df[col_name], 0.75)\n",
    "    q_25 = np.quantile(df[col_name], 0.25)\n",
    "    \n",
    "    iqr = q_75 - q_25\n",
    "    \n",
    "    max_allowed = q_75 + 1.5*iqr\n",
    "    min_allowed = q_25 - 1.5*iqr\n",
    "    \n",
    "    df_temp = A[(A > max_allowed) | (A < min_allowed)]\n",
    "    count_of_outliers = len(df_temp)\n",
    "    \n",
    "    return count_of_outliers, 100*count_of_outliers/len(A)\n",
    "        "
   ]
  },
  {
   "cell_type": "code",
   "execution_count": 15,
   "id": "1c165ef4",
   "metadata": {},
   "outputs": [
    {
     "data": {
      "text/plain": [
       "(205, 6.229109693102401)"
      ]
     },
     "execution_count": 15,
     "metadata": {},
     "output_type": "execute_result"
    }
   ],
   "source": [
    "outlier_counter(\"DP_CHOKE_SIZE\", df)"
   ]
  },
  {
   "cell_type": "markdown",
   "id": "282020b7",
   "metadata": {},
   "source": [
    "#### Now let's count outliers for each column & store it in a dictionary with column names as key"
   ]
  },
  {
   "cell_type": "code",
   "execution_count": 16,
   "id": "6899b915",
   "metadata": {},
   "outputs": [],
   "source": [
    "OC = dict()\n",
    "\n",
    "for c in df.columns:\n",
    "    n, f = outlier_counter(c, df)\n",
    "    OC[c] = [f]"
   ]
  },
  {
   "cell_type": "code",
   "execution_count": 17,
   "id": "05ae65f4",
   "metadata": {},
   "outputs": [
    {
     "data": {
      "text/plain": [
       "<AxesSubplot:>"
      ]
     },
     "execution_count": 17,
     "metadata": {},
     "output_type": "execute_result"
    },
    {
     "data": {
      "image/png": "[encoded data removed]",
      "text/plain": [
       "<Figure size 864x288 with 1 Axes>"
      ]
     },
     "metadata": {
      "needs_background": "light"
     },
     "output_type": "display_data"
    }
   ],
   "source": [
    "pd.DataFrame(OC).T.plot(kind = \"bar\", figsize = (12, 4))"
   ]
  },
  {
   "cell_type": "markdown",
   "id": "f936c78d",
   "metadata": {},
   "source": [
    "### worst columns are :- onstreaminjection hrs, avg wht p, choke size and bore oil vol"
   ]
  },
  {
   "cell_type": "markdown",
   "id": "5dcaae17",
   "metadata": {},
   "source": [
    "#### unecessary zeros also need to be counter "
   ]
  },
  {
   "cell_type": "code",
   "execution_count": 18,
   "id": "19e09268",
   "metadata": {},
   "outputs": [],
   "source": [
    "def zeros_counter(col_name, df):\n",
    "    A = df[col_name]\n",
    "    n = sum(A == 0)\n",
    "    f = 100*n/len(A)\n",
    "    \n",
    "    return n, f"
   ]
  },
  {
   "cell_type": "code",
   "execution_count": 19,
   "id": "ae4da9f3",
   "metadata": {},
   "outputs": [
    {
     "data": {
      "text/plain": [
       "(154, 4.679428745062291)"
      ]
     },
     "execution_count": 19,
     "metadata": {},
     "output_type": "execute_result"
    }
   ],
   "source": [
    "zeros_counter(\"DP_CHOKE_SIZE\", df)"
   ]
  },
  {
   "cell_type": "markdown",
   "id": "70d5bb34",
   "metadata": {},
   "source": [
    "#### count number of zeros & store in dict & viz"
   ]
  },
  {
   "cell_type": "code",
   "execution_count": 20,
   "id": "cd39a45f",
   "metadata": {},
   "outputs": [],
   "source": [
    "ZC = dict()\n",
    "\n",
    "for c in df.columns:\n",
    "    \n",
    "    n,f = zeros_counter(c, df)\n",
    "    \n",
    "    ZC[c] = [f]"
   ]
  },
  {
   "cell_type": "code",
   "execution_count": 21,
   "id": "24c82b08",
   "metadata": {},
   "outputs": [
    {
     "data": {
      "text/plain": [
       "<matplotlib.lines.Line2D at 0x1136a445940>"
      ]
     },
     "execution_count": 21,
     "metadata": {},
     "output_type": "execute_result"
    },
    {
     "data": {
      "image/png": "[encoded data removed]",
      "text/plain": [
       "<Figure size 864x288 with 1 Axes>"
      ]
     },
     "metadata": {
      "needs_background": "light"
     },
     "output_type": "display_data"
    }
   ],
   "source": [
    "pd.DataFrame(ZC).T.plot(kind = \"bar\", figsize = (12, 4))\n",
    "plt.axhline(10, color = \"red\")"
   ]
  },
  {
   "cell_type": "markdown",
   "id": "dd158d14",
   "metadata": {},
   "source": [
    "### If you wanted to show a threshold of 10% zeros "
   ]
  },
  {
   "cell_type": "code",
   "execution_count": 22,
   "id": "1e1b95a7",
   "metadata": {},
   "outputs": [],
   "source": [
    "df_zeros = df[[\"AVG_DOWNHOLE_PRESSURE\", \"AVG_DOWNHOLE_TEMPERATURE\"]]"
   ]
  },
  {
   "cell_type": "code",
   "execution_count": 23,
   "id": "e4ae39d6",
   "metadata": {},
   "outputs": [
    {
     "data": {
      "text/plain": [
       "array([<AxesSubplot:>, <AxesSubplot:>], dtype=object)"
      ]
     },
     "execution_count": 23,
     "metadata": {},
     "output_type": "execute_result"
    },
    {
     "data": {
      "image/png": "[encoded data removed]",
      "text/plain": [
       "<Figure size 864x288 with 2 Axes>"
      ]
     },
     "metadata": {
      "needs_background": "light"
     },
     "output_type": "display_data"
    }
   ],
   "source": [
    "df_zeros.plot(figsize = (12, 4), subplots = True, grid = True)"
   ]
  },
  {
   "cell_type": "code",
   "execution_count": 24,
   "id": "c539661f",
   "metadata": {},
   "outputs": [
    {
     "data": {
      "text/plain": [
       "<matplotlib.collections.PathCollection at 0x1136ae17ac0>"
      ]
     },
     "execution_count": 24,
     "metadata": {},
     "output_type": "execute_result"
    },
    {
     "data": {
      "image/png": "[encoded data removed]",
      "text/plain": [
       "<Figure size 432x288 with 1 Axes>"
      ]
     },
     "metadata": {
      "needs_background": "light"
     },
     "output_type": "display_data"
    }
   ],
   "source": [
    "plt.scatter(df_zeros[\"AVG_DOWNHOLE_PRESSURE\"], df_zeros[\"AVG_DOWNHOLE_TEMPERATURE\"])"
   ]
  },
  {
   "cell_type": "markdown",
   "id": "5cdb66d9",
   "metadata": {},
   "source": [
    "### This analysis tells that maybe either the temperature or the pressure sensor failed around that 2010 mark or may be both were installed common casing which disfunctioned or something wrong. \n",
    "\n",
    "> Ideally, DS team, we would have field based SME connets"
   ]
  },
  {
   "cell_type": "code",
   "execution_count": 25,
   "id": "9f8efb58",
   "metadata": {},
   "outputs": [
    {
     "data": {
      "text/plain": [
       "<AxesSubplot:>"
      ]
     },
     "execution_count": 25,
     "metadata": {},
     "output_type": "execute_result"
    },
    {
     "data": {
      "image/png": "[encoded data removed]",
      "text/plain": [
       "<Figure size 864x288 with 1 Axes>"
      ]
     },
     "metadata": {
      "needs_background": "light"
     },
     "output_type": "display_data"
    }
   ],
   "source": [
    "df_zeros[\"AVG_DOWNHOLE_PRESSURE\"].replace(0, np.nan).interpolate().plot(figsize = (12, 4))"
   ]
  },
  {
   "cell_type": "code",
   "execution_count": 26,
   "id": "5dbddc4c",
   "metadata": {},
   "outputs": [
    {
     "data": {
      "text/plain": [
       "<AxesSubplot:>"
      ]
     },
     "execution_count": 26,
     "metadata": {},
     "output_type": "execute_result"
    },
    {
     "data": {
      "image/png": "[encoded data removed]",
      "text/plain": [
       "<Figure size 864x288 with 1 Axes>"
      ]
     },
     "metadata": {
      "needs_background": "light"
     },
     "output_type": "display_data"
    }
   ],
   "source": [
    "avg_temp = df_zeros[\"AVG_DOWNHOLE_PRESSURE\"].mean()\n",
    "df_zeros[\"AVG_DOWNHOLE_PRESSURE\"].replace(0, avg_temp).plot(figsize = (12, 4))"
   ]
  },
  {
   "cell_type": "markdown",
   "id": "f826c2fb",
   "metadata": {},
   "source": [
    "#### we have to take whichever works best"
   ]
  },
  {
   "cell_type": "code",
   "execution_count": 27,
   "id": "99707b66",
   "metadata": {},
   "outputs": [],
   "source": [
    "df_zeros[\"AVG_DOWNHOLE_TEMPERATURE\"] = df_zeros[\"AVG_DOWNHOLE_TEMPERATURE\"].replace(0, np.nan).interpolate()\n",
    "df_zeros[\"AVG_DOWNHOLE_PRESSURE\"] = df_zeros[\"AVG_DOWNHOLE_PRESSURE\"].replace(0, np.nan).interpolate()"
   ]
  },
  {
   "cell_type": "code",
   "execution_count": 28,
   "id": "53d5c395",
   "metadata": {},
   "outputs": [
    {
     "data": {
      "text/plain": [
       "array([<AxesSubplot:>, <AxesSubplot:>], dtype=object)"
      ]
     },
     "execution_count": 28,
     "metadata": {},
     "output_type": "execute_result"
    },
    {
     "data": {
      "image/png": "[encoded data removed]",
      "text/plain": [
       "<Figure size 864x288 with 2 Axes>"
      ]
     },
     "metadata": {
      "needs_background": "light"
     },
     "output_type": "display_data"
    }
   ],
   "source": [
    "df_zeros.plot(figsize=(12, 4), subplots = True)"
   ]
  },
  {
   "cell_type": "markdown",
   "id": "5bbefe41",
   "metadata": {},
   "source": [
    "### Apply this correction to the original Dataset"
   ]
  },
  {
   "cell_type": "code",
   "execution_count": 29,
   "id": "c661b948",
   "metadata": {},
   "outputs": [],
   "source": [
    "df[\"AVG_DOWNHOLE_PRESSURE\"] = df_zeros[\"AVG_DOWNHOLE_PRESSURE\"]\n",
    "df[\"AVG_DOWNHOLE_TEMPERATURE\"] = df_zeros[\"AVG_DOWNHOLE_TEMPERATURE\"]"
   ]
  },
  {
   "cell_type": "markdown",
   "id": "b1579ef9",
   "metadata": {},
   "source": [
    "#### verify weather problem is solved"
   ]
  },
  {
   "cell_type": "code",
   "execution_count": 30,
   "id": "d1c0a5b2",
   "metadata": {},
   "outputs": [],
   "source": [
    "ZC_f = dict()\n",
    "\n",
    "for c in df.columns:\n",
    "    \n",
    "    n,f = zeros_counter(c, df)\n",
    "    \n",
    "    ZC_f[c] = [f]"
   ]
  },
  {
   "cell_type": "code",
   "execution_count": 31,
   "id": "23996918",
   "metadata": {},
   "outputs": [
    {
     "data": {
      "text/plain": [
       "(0.0, 100.0)"
      ]
     },
     "execution_count": 31,
     "metadata": {},
     "output_type": "execute_result"
    },
    {
     "data": {
      "image/png": "[encoded data removed]",
      "text/plain": [
       "<Figure size 864x288 with 1 Axes>"
      ]
     },
     "metadata": {
      "needs_background": "light"
     },
     "output_type": "display_data"
    }
   ],
   "source": [
    "pd.DataFrame(ZC_f).T.plot(kind = \"bar\", figsize = (12, 4))\n",
    "\n",
    "plt.axhline(10, color = \"red\")\n",
    "plt.ylim(0, 100)"
   ]
  },
  {
   "cell_type": "code",
   "execution_count": 32,
   "id": "4031282a",
   "metadata": {},
   "outputs": [
    {
     "data": {
      "text/html": [
       "<div>\n",
       "<style scoped>\n",
       "    .dataframe tbody tr th:only-of-type {\n",
       "        vertical-align: middle;\n",
       "    }\n",
       "\n",
       "    .dataframe tbody tr th {\n",
       "        vertical-align: top;\n",
       "    }\n",
       "\n",
       "    .dataframe thead th {\n",
       "        text-align: right;\n",
       "    }\n",
       "</style>\n",
       "<table border=\"1\" class=\"dataframe\">\n",
       "  <thead>\n",
       "    <tr style=\"text-align: right;\">\n",
       "      <th></th>\n",
       "      <th>count</th>\n",
       "      <th>mean</th>\n",
       "      <th>std</th>\n",
       "      <th>min</th>\n",
       "      <th>25%</th>\n",
       "      <th>50%</th>\n",
       "      <th>75%</th>\n",
       "      <th>max</th>\n",
       "    </tr>\n",
       "  </thead>\n",
       "  <tbody>\n",
       "    <tr>\n",
       "      <th>onstreaminject_HRS</th>\n",
       "      <td>3291.0</td>\n",
       "      <td>19.528256</td>\n",
       "      <td>8.669803</td>\n",
       "      <td>0.000</td>\n",
       "      <td>21.67000</td>\n",
       "      <td>24.00000</td>\n",
       "      <td>24.000000</td>\n",
       "      <td>25.000</td>\n",
       "    </tr>\n",
       "    <tr>\n",
       "      <th>BORE_WI_VOL</th>\n",
       "      <td>3291.0</td>\n",
       "      <td>4935.663628</td>\n",
       "      <td>2625.955533</td>\n",
       "      <td>0.000</td>\n",
       "      <td>3972.50000</td>\n",
       "      <td>5335.00000</td>\n",
       "      <td>6851.500000</td>\n",
       "      <td>9316.000</td>\n",
       "    </tr>\n",
       "    <tr>\n",
       "      <th>ON_STREAM_HRS</th>\n",
       "      <td>3291.0</td>\n",
       "      <td>20.017419</td>\n",
       "      <td>8.303784</td>\n",
       "      <td>0.000</td>\n",
       "      <td>24.00000</td>\n",
       "      <td>24.00000</td>\n",
       "      <td>24.000000</td>\n",
       "      <td>25.000</td>\n",
       "    </tr>\n",
       "    <tr>\n",
       "      <th>AVG_DOWNHOLE_PRESSURE</th>\n",
       "      <td>3163.0</td>\n",
       "      <td>255.132388</td>\n",
       "      <td>11.125736</td>\n",
       "      <td>140.256</td>\n",
       "      <td>253.85200</td>\n",
       "      <td>253.85200</td>\n",
       "      <td>253.852000</td>\n",
       "      <td>317.701</td>\n",
       "    </tr>\n",
       "    <tr>\n",
       "      <th>AVG_DOWNHOLE_TEMPERATURE</th>\n",
       "      <td>3163.0</td>\n",
       "      <td>102.203572</td>\n",
       "      <td>3.342199</td>\n",
       "      <td>39.554</td>\n",
       "      <td>100.38900</td>\n",
       "      <td>100.38900</td>\n",
       "      <td>105.975000</td>\n",
       "      <td>107.508</td>\n",
       "    </tr>\n",
       "    <tr>\n",
       "      <th>AVG_DP_TUBING</th>\n",
       "      <td>3291.0</td>\n",
       "      <td>80.758924</td>\n",
       "      <td>73.006429</td>\n",
       "      <td>0.000</td>\n",
       "      <td>32.23550</td>\n",
       "      <td>37.92125</td>\n",
       "      <td>170.045500</td>\n",
       "      <td>314.409</td>\n",
       "    </tr>\n",
       "    <tr>\n",
       "      <th>AVG_ANNULUS_PRESS</th>\n",
       "      <td>3291.0</td>\n",
       "      <td>16.368846</td>\n",
       "      <td>7.197959</td>\n",
       "      <td>0.000</td>\n",
       "      <td>12.54300</td>\n",
       "      <td>18.01900</td>\n",
       "      <td>20.587000</td>\n",
       "      <td>30.020</td>\n",
       "    </tr>\n",
       "    <tr>\n",
       "      <th>AVG_CHOKE_SIZE_P in percentage</th>\n",
       "      <td>3291.0</td>\n",
       "      <td>64.158081</td>\n",
       "      <td>33.810811</td>\n",
       "      <td>0.000</td>\n",
       "      <td>40.98384</td>\n",
       "      <td>65.98804</td>\n",
       "      <td>99.895675</td>\n",
       "      <td>100.000</td>\n",
       "    </tr>\n",
       "    <tr>\n",
       "      <th>AVG_WHP_P</th>\n",
       "      <td>3291.0</td>\n",
       "      <td>45.803679</td>\n",
       "      <td>25.954204</td>\n",
       "      <td>0.000</td>\n",
       "      <td>32.19900</td>\n",
       "      <td>37.46400</td>\n",
       "      <td>59.079500</td>\n",
       "      <td>137.311</td>\n",
       "    </tr>\n",
       "    <tr>\n",
       "      <th>AVG_WHT_P</th>\n",
       "      <td>3291.0</td>\n",
       "      <td>74.345872</td>\n",
       "      <td>26.140866</td>\n",
       "      <td>0.000</td>\n",
       "      <td>76.54900</td>\n",
       "      <td>81.69300</td>\n",
       "      <td>90.002500</td>\n",
       "      <td>92.459</td>\n",
       "    </tr>\n",
       "    <tr>\n",
       "      <th>DP_CHOKE_SIZE</th>\n",
       "      <td>3291.0</td>\n",
       "      <td>18.657338</td>\n",
       "      <td>22.896388</td>\n",
       "      <td>0.000</td>\n",
       "      <td>3.66350</td>\n",
       "      <td>6.81900</td>\n",
       "      <td>26.760500</td>\n",
       "      <td>124.123</td>\n",
       "    </tr>\n",
       "    <tr>\n",
       "      <th>BORE_OIL_VOL</th>\n",
       "      <td>3291.0</td>\n",
       "      <td>1402.086752</td>\n",
       "      <td>1642.492700</td>\n",
       "      <td>0.000</td>\n",
       "      <td>211.00000</td>\n",
       "      <td>664.00000</td>\n",
       "      <td>2026.000000</td>\n",
       "      <td>5902.000</td>\n",
       "    </tr>\n",
       "    <tr>\n",
       "      <th>BORE_GAS_VOL</th>\n",
       "      <td>3291.0</td>\n",
       "      <td>204365.771346</td>\n",
       "      <td>232710.410394</td>\n",
       "      <td>0.000</td>\n",
       "      <td>33259.00000</td>\n",
       "      <td>101142.00000</td>\n",
       "      <td>295593.000000</td>\n",
       "      <td>851132.000</td>\n",
       "    </tr>\n",
       "    <tr>\n",
       "      <th>BORE_WAT_VOL</th>\n",
       "      <td>3291.0</td>\n",
       "      <td>2105.660438</td>\n",
       "      <td>1952.495950</td>\n",
       "      <td>-458.000</td>\n",
       "      <td>40.50000</td>\n",
       "      <td>1260.00000</td>\n",
       "      <td>4109.000000</td>\n",
       "      <td>8020.000</td>\n",
       "    </tr>\n",
       "  </tbody>\n",
       "</table>\n",
       "</div>"
      ],
      "text/plain": [
       "                                 count           mean            std      min  \\\n",
       "onstreaminject_HRS              3291.0      19.528256       8.669803    0.000   \n",
       "BORE_WI_VOL                     3291.0    4935.663628    2625.955533    0.000   \n",
       "ON_STREAM_HRS                   3291.0      20.017419       8.303784    0.000   \n",
       "AVG_DOWNHOLE_PRESSURE           3163.0     255.132388      11.125736  140.256   \n",
       "AVG_DOWNHOLE_TEMPERATURE        3163.0     102.203572       3.342199   39.554   \n",
       "AVG_DP_TUBING                   3291.0      80.758924      73.006429    0.000   \n",
       "AVG_ANNULUS_PRESS               3291.0      16.368846       7.197959    0.000   \n",
       "AVG_CHOKE_SIZE_P in percentage  3291.0      64.158081      33.810811    0.000   \n",
       "AVG_WHP_P                       3291.0      45.803679      25.954204    0.000   \n",
       "AVG_WHT_P                       3291.0      74.345872      26.140866    0.000   \n",
       "DP_CHOKE_SIZE                   3291.0      18.657338      22.896388    0.000   \n",
       "BORE_OIL_VOL                    3291.0    1402.086752    1642.492700    0.000   \n",
       "BORE_GAS_VOL                    3291.0  204365.771346  232710.410394    0.000   \n",
       "BORE_WAT_VOL                    3291.0    2105.660438    1952.495950 -458.000   \n",
       "\n",
       "                                        25%           50%            75%  \\\n",
       "onstreaminject_HRS                 21.67000      24.00000      24.000000   \n",
       "BORE_WI_VOL                      3972.50000    5335.00000    6851.500000   \n",
       "ON_STREAM_HRS                      24.00000      24.00000      24.000000   \n",
       "AVG_DOWNHOLE_PRESSURE             253.85200     253.85200     253.852000   \n",
       "AVG_DOWNHOLE_TEMPERATURE          100.38900     100.38900     105.975000   \n",
       "AVG_DP_TUBING                      32.23550      37.92125     170.045500   \n",
       "AVG_ANNULUS_PRESS                  12.54300      18.01900      20.587000   \n",
       "AVG_CHOKE_SIZE_P in percentage     40.98384      65.98804      99.895675   \n",
       "AVG_WHP_P                          32.19900      37.46400      59.079500   \n",
       "AVG_WHT_P                          76.54900      81.69300      90.002500   \n",
       "DP_CHOKE_SIZE                       3.66350       6.81900      26.760500   \n",
       "BORE_OIL_VOL                      211.00000     664.00000    2026.000000   \n",
       "BORE_GAS_VOL                    33259.00000  101142.00000  295593.000000   \n",
       "BORE_WAT_VOL                       40.50000    1260.00000    4109.000000   \n",
       "\n",
       "                                       max  \n",
       "onstreaminject_HRS                  25.000  \n",
       "BORE_WI_VOL                       9316.000  \n",
       "ON_STREAM_HRS                       25.000  \n",
       "AVG_DOWNHOLE_PRESSURE              317.701  \n",
       "AVG_DOWNHOLE_TEMPERATURE           107.508  \n",
       "AVG_DP_TUBING                      314.409  \n",
       "AVG_ANNULUS_PRESS                   30.020  \n",
       "AVG_CHOKE_SIZE_P in percentage     100.000  \n",
       "AVG_WHP_P                          137.311  \n",
       "AVG_WHT_P                           92.459  \n",
       "DP_CHOKE_SIZE                      124.123  \n",
       "BORE_OIL_VOL                      5902.000  \n",
       "BORE_GAS_VOL                    851132.000  \n",
       "BORE_WAT_VOL                      8020.000  "
      ]
     },
     "execution_count": 32,
     "metadata": {},
     "output_type": "execute_result"
    }
   ],
   "source": [
    "df.describe().T"
   ]
  },
  {
   "cell_type": "markdown",
   "id": "8678d0d4",
   "metadata": {},
   "source": [
    "### Final & Most imp Preprocessing step :- Scaling of Data "
   ]
  },
  {
   "cell_type": "markdown",
   "id": "e1f9374c",
   "metadata": {},
   "source": [
    "#### *But  first do the test train split since we don't wanna leak any data to test set.*"
   ]
  },
  {
   "cell_type": "code",
   "execution_count": 33,
   "id": "3da17bd5",
   "metadata": {},
   "outputs": [
    {
     "data": {
      "text/plain": [
       "Index(['onstreaminject_HRS', 'BORE_WI_VOL', 'ON_STREAM_HRS',\n",
       "       'AVG_DOWNHOLE_PRESSURE', 'AVG_DOWNHOLE_TEMPERATURE', 'AVG_DP_TUBING',\n",
       "       'AVG_ANNULUS_PRESS', 'AVG_CHOKE_SIZE_P in percentage', 'AVG_WHP_P',\n",
       "       'AVG_WHT_P', 'DP_CHOKE_SIZE', 'BORE_OIL_VOL', 'BORE_GAS_VOL',\n",
       "       'BORE_WAT_VOL'],\n",
       "      dtype='object')"
      ]
     },
     "execution_count": 33,
     "metadata": {},
     "output_type": "execute_result"
    }
   ],
   "source": [
    "df.columns"
   ]
  },
  {
   "cell_type": "code",
   "execution_count": 34,
   "id": "eddf3f33",
   "metadata": {},
   "outputs": [],
   "source": [
    "df = df[['BORE_WAT_VOL','DP_CHOKE_SIZE', 'AVG_WHP_P' , 'AVG_DP_TUBING' , 'BORE_OIL_VOL' , 'BORE_OIL_VOL' ,'AVG_DOWNHOLE_TEMPERATURE']]"
   ]
  },
  {
   "cell_type": "code",
   "execution_count": 35,
   "id": "e2476307",
   "metadata": {},
   "outputs": [],
   "source": [
    "output_target = 'AVG_DOWNHOLE_TEMPERATURE'"
   ]
  },
  {
   "cell_type": "code",
   "execution_count": 36,
   "id": "53b29d4d",
   "metadata": {},
   "outputs": [],
   "source": [
    "df_train = df.iloc[:3000, :].fillna(0)\n",
    "df_test = df.iloc[3000:, :].fillna(0)"
   ]
  },
  {
   "cell_type": "code",
   "execution_count": 37,
   "id": "10b70955",
   "metadata": {},
   "outputs": [],
   "source": [
    "X_train = df_train.drop(output_target, axis = 1) ; y_train = df_train[output_target]\n",
    "X_test = df_test.drop(output_target, axis = 1) ; y_test = df_test[output_target]"
   ]
  },
  {
   "cell_type": "code",
   "execution_count": 39,
   "id": "b6895b3c",
   "metadata": {},
   "outputs": [],
   "source": [
    "from sklearn.preprocessing import MinMaxScaler"
   ]
  },
  {
   "cell_type": "code",
   "execution_count": 40,
   "id": "99b633c5",
   "metadata": {},
   "outputs": [],
   "source": [
    "scaler = MinMaxScaler()"
   ]
  },
  {
   "cell_type": "code",
   "execution_count": 41,
   "id": "cb33e83d",
   "metadata": {},
   "outputs": [],
   "source": [
    "X_train_scaled = scaler.fit_transform(X_train)\n",
    "X_test_scaled = scaler.transform(X_test)"
   ]
  },
  {
   "cell_type": "code",
   "execution_count": 42,
   "id": "88a559cd",
   "metadata": {},
   "outputs": [
    {
     "data": {
      "text/plain": [
       "(0.0, 1.0)"
      ]
     },
     "execution_count": 42,
     "metadata": {},
     "output_type": "execute_result"
    }
   ],
   "source": [
    "X_train_scaled.min(), X_train_scaled.max()"
   ]
  },
  {
   "cell_type": "code",
   "execution_count": 43,
   "id": "0993d345",
   "metadata": {},
   "outputs": [
    {
     "data": {
      "text/plain": [
       "(-458.0, 8020.0)"
      ]
     },
     "execution_count": 43,
     "metadata": {},
     "output_type": "execute_result"
    }
   ],
   "source": [
    "X_train.values.min(), X_train.values.max()"
   ]
  },
  {
   "cell_type": "markdown",
   "id": "3426644a",
   "metadata": {},
   "source": [
    "### with pre-processing ready, processed data for ML"
   ]
  },
  {
   "cell_type": "markdown",
   "id": "26ad7b11",
   "metadata": {},
   "source": [
    "## ML "
   ]
  },
  {
   "cell_type": "code",
   "execution_count": 44,
   "id": "a4a33a30",
   "metadata": {},
   "outputs": [],
   "source": [
    "from sklearn.ensemble import RandomForestRegressor"
   ]
  },
  {
   "cell_type": "code",
   "execution_count": 45,
   "id": "494488f0",
   "metadata": {},
   "outputs": [],
   "source": [
    "model = RandomForestRegressor(n_estimators = 200)"
   ]
  },
  {
   "cell_type": "code",
   "execution_count": 46,
   "id": "a7b94b1a",
   "metadata": {},
   "outputs": [
    {
     "data": {
      "text/plain": [
       "RandomForestRegressor(n_estimators=200)"
      ]
     },
     "execution_count": 46,
     "metadata": {},
     "output_type": "execute_result"
    }
   ],
   "source": [
    "model.fit(X_train_scaled, y_train)"
   ]
  },
  {
   "cell_type": "code",
   "execution_count": 47,
   "id": "16617d8f",
   "metadata": {},
   "outputs": [],
   "source": [
    "yp_train = model.predict(X_train_scaled)\n",
    "yp_test = model.predict(X_test_scaled)"
   ]
  },
  {
   "cell_type": "code",
   "execution_count": 49,
   "id": "b5ee575c",
   "metadata": {},
   "outputs": [
    {
     "data": {
      "text/plain": [
       "[<matplotlib.lines.Line2D at 0x1136db20b50>]"
      ]
     },
     "execution_count": 49,
     "metadata": {},
     "output_type": "execute_result"
    },
    {
     "data": {
      "image/png": "[encoded data removed]",
      "text/plain": [
       "<Figure size 432x288 with 1 Axes>"
      ]
     },
     "metadata": {
      "needs_background": "light"
     },
     "output_type": "display_data"
    }
   ],
   "source": [
    "sns.scatterplot(yp_train, y_train)\n",
    "plt.plot(yp_train, yp_train, color = \"red\")"
   ]
  },
  {
   "cell_type": "code",
   "execution_count": 50,
   "id": "d1ded6c0",
   "metadata": {},
   "outputs": [
    {
     "data": {
      "text/plain": [
       "<AxesSubplot:ylabel='AVG_DOWNHOLE_TEMPERATURE'>"
      ]
     },
     "execution_count": 50,
     "metadata": {},
     "output_type": "execute_result"
    },
    {
     "data": {
      "image/png": "[encoded data removed]",
      "text/plain": [
       "<Figure size 432x288 with 1 Axes>"
      ]
     },
     "metadata": {
      "needs_background": "light"
     },
     "output_type": "display_data"
    }
   ],
   "source": [
    "sns.scatterplot(yp_test, y_test)\n"
   ]
  },
  {
   "cell_type": "code",
   "execution_count": 51,
   "id": "9b5392c7",
   "metadata": {},
   "outputs": [
    {
     "data": {
      "text/plain": [
       "(13672.0, 16812.0)"
      ]
     },
     "execution_count": 51,
     "metadata": {},
     "output_type": "execute_result"
    },
    {
     "data": {
      "image/png": "[encoded data removed]",
      "text/plain": [
       "<Figure size 1600x600 with 1 Axes>"
      ]
     },
     "metadata": {
      "needs_background": "light"
     },
     "output_type": "display_data"
    }
   ],
   "source": [
    "plt.figure(figsize = (16, 6), dpi = 100)\n",
    "\n",
    "plt.scatter(y_train.index, y_train, color = \"green\", alpha = 0.5, s=30, label = \"Actual Training Data\")\n",
    "plt.plot(y_train.index, yp_train, label = \"Model Predictions (Training)\", color = \"orange\")\n",
    "\n",
    "plt.scatter(y_test.index, y_test, color = \"red\", alpha = 0.5, s = 15)\n",
    "plt.plot(y_test.index, yp_test, color = \"black\", label = \"Model Prediction (validation)\")\n",
    "\n",
    "plt.axvline(y_test.index[0], color = \"brown\")\n",
    "\n",
    "plt.ylabel(\"Average downhole temperature\")\n",
    "plt.xlabel(\"Date\")\n",
    "\n",
    "plt.legend()\n",
    "plt.ylim(70, 120)\n",
    "plt.xlim(y_train.index[150], y_test.index[-1])"
   ]
  },
  {
   "cell_type": "code",
   "execution_count": 52,
   "id": "4ec7e5eb",
   "metadata": {},
   "outputs": [],
   "source": [
    "from sklearn.metrics import mean_squared_error as mse"
   ]
  },
  {
   "cell_type": "code",
   "execution_count": 53,
   "id": "48d863c9",
   "metadata": {},
   "outputs": [
    {
     "data": {
      "text/plain": [
       "0.5530380210235335"
      ]
     },
     "execution_count": 53,
     "metadata": {},
     "output_type": "execute_result"
    }
   ],
   "source": [
    "mse(y_train, yp_train)"
   ]
  },
  {
   "cell_type": "code",
   "execution_count": 54,
   "id": "0ae37c85",
   "metadata": {},
   "outputs": [
    {
     "data": {
      "text/plain": [
       "1974.031702051546"
      ]
     },
     "execution_count": 54,
     "metadata": {},
     "output_type": "execute_result"
    }
   ],
   "source": [
    "mse(y_test, yp_test)"
   ]
  },
  {
   "cell_type": "code",
   "execution_count": null,
   "id": "41772c71",
   "metadata": {},
   "outputs": [],
   "source": []
  },
  {
   "cell_type": "markdown",
   "id": "82fa5d59",
   "metadata": {},
   "source": [
    "### Logisitic Regression"
   ]
  },
  {
   "cell_type": "code",
   "execution_count": 57,
   "id": "bf7c1d1a",
   "metadata": {},
   "outputs": [],
   "source": [
    "from sklearn.datasets import load_iris\n",
    "from sklearn.linear_model import LogisticRegression\n",
    "\n",
    "X, y = load_iris(return_X_y = True)"
   ]
  },
  {
   "cell_type": "code",
   "execution_count": 58,
   "id": "61ae8d09",
   "metadata": {},
   "outputs": [],
   "source": [
    "clf = LogisticRegression(random_state = 0).fit(X, y)"
   ]
  },
  {
   "cell_type": "code",
   "execution_count": 59,
   "id": "672265f9",
   "metadata": {},
   "outputs": [
    {
     "data": {
      "text/plain": [
       "array([0, 0])"
      ]
     },
     "execution_count": 59,
     "metadata": {},
     "output_type": "execute_result"
    }
   ],
   "source": [
    "clf.predict(X[:2, :])"
   ]
  },
  {
   "cell_type": "code",
   "execution_count": 60,
   "id": "8fbd9f5d",
   "metadata": {},
   "outputs": [
    {
     "data": {
      "text/plain": [
       "array([0, 0, 0, 0, 0, 0, 0, 0, 0, 0, 0, 0, 0, 0, 0, 0, 0, 0, 0, 0, 0, 0,\n",
       "       0, 0, 0, 0, 0, 0, 0, 0, 0, 0, 0, 0, 0, 0, 0, 0, 0, 0])"
      ]
     },
     "execution_count": 60,
     "metadata": {},
     "output_type": "execute_result"
    }
   ],
   "source": [
    "y[:40]"
   ]
  },
  {
   "cell_type": "code",
   "execution_count": 61,
   "id": "05c443c3",
   "metadata": {},
   "outputs": [
    {
     "data": {
      "text/plain": [
       "array([0, 0, 0, 0, 0, 0, 0, 0, 0, 0, 0, 0, 0, 0, 0, 0, 0, 0, 0, 0, 0, 0,\n",
       "       0, 0, 0, 0, 0, 0, 0, 0, 0, 0, 0, 0, 0, 0, 0, 0, 0, 0])"
      ]
     },
     "execution_count": 61,
     "metadata": {},
     "output_type": "execute_result"
    }
   ],
   "source": [
    "clf.predict(X[:40, :])"
   ]
  },
  {
   "cell_type": "code",
   "execution_count": 62,
   "id": "773e01f4",
   "metadata": {},
   "outputs": [],
   "source": [
    "# Defining class\n",
    "\n",
    "df_lith_class = pd.DataFrame({\"Poro\":[25, 20, 21, 15, 10, 30, 27, 8], \"Perm\":[700, 250, 230, 110, 50, 980, 600, 10], \"Lith\":[1, 1, 1, 0, 1, 1, 1, 0]})"
   ]
  },
  {
   "cell_type": "code",
   "execution_count": 63,
   "id": "b587ee7e",
   "metadata": {},
   "outputs": [
    {
     "data": {
      "text/html": [
       "<div>\n",
       "<style scoped>\n",
       "    .dataframe tbody tr th:only-of-type {\n",
       "        vertical-align: middle;\n",
       "    }\n",
       "\n",
       "    .dataframe tbody tr th {\n",
       "        vertical-align: top;\n",
       "    }\n",
       "\n",
       "    .dataframe thead th {\n",
       "        text-align: right;\n",
       "    }\n",
       "</style>\n",
       "<table border=\"1\" class=\"dataframe\">\n",
       "  <thead>\n",
       "    <tr style=\"text-align: right;\">\n",
       "      <th></th>\n",
       "      <th>Poro</th>\n",
       "      <th>Perm</th>\n",
       "      <th>Lith</th>\n",
       "    </tr>\n",
       "  </thead>\n",
       "  <tbody>\n",
       "    <tr>\n",
       "      <th>0</th>\n",
       "      <td>25</td>\n",
       "      <td>700</td>\n",
       "      <td>1</td>\n",
       "    </tr>\n",
       "    <tr>\n",
       "      <th>1</th>\n",
       "      <td>20</td>\n",
       "      <td>250</td>\n",
       "      <td>1</td>\n",
       "    </tr>\n",
       "    <tr>\n",
       "      <th>2</th>\n",
       "      <td>21</td>\n",
       "      <td>230</td>\n",
       "      <td>1</td>\n",
       "    </tr>\n",
       "    <tr>\n",
       "      <th>3</th>\n",
       "      <td>15</td>\n",
       "      <td>110</td>\n",
       "      <td>0</td>\n",
       "    </tr>\n",
       "    <tr>\n",
       "      <th>4</th>\n",
       "      <td>10</td>\n",
       "      <td>50</td>\n",
       "      <td>1</td>\n",
       "    </tr>\n",
       "    <tr>\n",
       "      <th>5</th>\n",
       "      <td>30</td>\n",
       "      <td>980</td>\n",
       "      <td>1</td>\n",
       "    </tr>\n",
       "    <tr>\n",
       "      <th>6</th>\n",
       "      <td>27</td>\n",
       "      <td>600</td>\n",
       "      <td>1</td>\n",
       "    </tr>\n",
       "    <tr>\n",
       "      <th>7</th>\n",
       "      <td>8</td>\n",
       "      <td>10</td>\n",
       "      <td>0</td>\n",
       "    </tr>\n",
       "  </tbody>\n",
       "</table>\n",
       "</div>"
      ],
      "text/plain": [
       "   Poro  Perm  Lith\n",
       "0    25   700     1\n",
       "1    20   250     1\n",
       "2    21   230     1\n",
       "3    15   110     0\n",
       "4    10    50     1\n",
       "5    30   980     1\n",
       "6    27   600     1\n",
       "7     8    10     0"
      ]
     },
     "execution_count": 63,
     "metadata": {},
     "output_type": "execute_result"
    }
   ],
   "source": [
    "df_lith_class"
   ]
  },
  {
   "cell_type": "code",
   "execution_count": 65,
   "id": "e393f239",
   "metadata": {},
   "outputs": [],
   "source": [
    "x = df_lith_class.drop(\"Lith\", axis = \"columns\")\n",
    "y = df_lith_class[\"Lith\"]"
   ]
  },
  {
   "cell_type": "code",
   "execution_count": 67,
   "id": "b58f3f5b",
   "metadata": {},
   "outputs": [],
   "source": [
    "M = LogisticRegression()"
   ]
  },
  {
   "cell_type": "code",
   "execution_count": 69,
   "id": "a1baefb0",
   "metadata": {},
   "outputs": [
    {
     "data": {
      "text/plain": [
       "LogisticRegression()"
      ]
     },
     "execution_count": 69,
     "metadata": {},
     "output_type": "execute_result"
    }
   ],
   "source": [
    "M.fit(x, y)"
   ]
  },
  {
   "cell_type": "code",
   "execution_count": 71,
   "id": "fc99b776",
   "metadata": {},
   "outputs": [],
   "source": [
    "yp = M.predict(x)"
   ]
  },
  {
   "cell_type": "code",
   "execution_count": 72,
   "id": "9be5d641",
   "metadata": {},
   "outputs": [
    {
     "data": {
      "text/plain": [
       "array([1, 1, 1, 0, 0, 1, 1, 0], dtype=int64)"
      ]
     },
     "execution_count": 72,
     "metadata": {},
     "output_type": "execute_result"
    }
   ],
   "source": [
    "yp"
   ]
  },
  {
   "cell_type": "code",
   "execution_count": 74,
   "id": "335d0de2",
   "metadata": {},
   "outputs": [
    {
     "data": {
      "text/plain": [
       "array([1], dtype=int64)"
      ]
     },
     "execution_count": 74,
     "metadata": {},
     "output_type": "execute_result"
    }
   ],
   "source": [
    "M.predict([[28, 500]])"
   ]
  },
  {
   "cell_type": "code",
   "execution_count": 76,
   "id": "d1b2ef90",
   "metadata": {},
   "outputs": [],
   "source": [
    "#if it is in label form\n",
    "\n",
    "lith = pd.DataFrame({\"Poro\":[12, 14, 39, 15, 19], \"Perm\":[250, 300, 530, 450, 200], \"Lith\":[\"Sst\", \"Lst\", \"Sst\", \"Sst\", \"Lst\"]})"
   ]
  },
  {
   "cell_type": "code",
   "execution_count": 77,
   "id": "2b9b0909",
   "metadata": {},
   "outputs": [
    {
     "data": {
      "text/html": [
       "<div>\n",
       "<style scoped>\n",
       "    .dataframe tbody tr th:only-of-type {\n",
       "        vertical-align: middle;\n",
       "    }\n",
       "\n",
       "    .dataframe tbody tr th {\n",
       "        vertical-align: top;\n",
       "    }\n",
       "\n",
       "    .dataframe thead th {\n",
       "        text-align: right;\n",
       "    }\n",
       "</style>\n",
       "<table border=\"1\" class=\"dataframe\">\n",
       "  <thead>\n",
       "    <tr style=\"text-align: right;\">\n",
       "      <th></th>\n",
       "      <th>Poro</th>\n",
       "      <th>Perm</th>\n",
       "      <th>Lith</th>\n",
       "    </tr>\n",
       "  </thead>\n",
       "  <tbody>\n",
       "    <tr>\n",
       "      <th>0</th>\n",
       "      <td>12</td>\n",
       "      <td>250</td>\n",
       "      <td>Sst</td>\n",
       "    </tr>\n",
       "    <tr>\n",
       "      <th>1</th>\n",
       "      <td>14</td>\n",
       "      <td>300</td>\n",
       "      <td>Lst</td>\n",
       "    </tr>\n",
       "    <tr>\n",
       "      <th>2</th>\n",
       "      <td>39</td>\n",
       "      <td>530</td>\n",
       "      <td>Sst</td>\n",
       "    </tr>\n",
       "    <tr>\n",
       "      <th>3</th>\n",
       "      <td>15</td>\n",
       "      <td>450</td>\n",
       "      <td>Sst</td>\n",
       "    </tr>\n",
       "    <tr>\n",
       "      <th>4</th>\n",
       "      <td>19</td>\n",
       "      <td>200</td>\n",
       "      <td>Lst</td>\n",
       "    </tr>\n",
       "  </tbody>\n",
       "</table>\n",
       "</div>"
      ],
      "text/plain": [
       "   Poro  Perm Lith\n",
       "0    12   250  Sst\n",
       "1    14   300  Lst\n",
       "2    39   530  Sst\n",
       "3    15   450  Sst\n",
       "4    19   200  Lst"
      ]
     },
     "execution_count": 77,
     "metadata": {},
     "output_type": "execute_result"
    }
   ],
   "source": [
    "lith"
   ]
  },
  {
   "cell_type": "code",
   "execution_count": 79,
   "id": "8bbd6ca0",
   "metadata": {},
   "outputs": [],
   "source": [
    "from sklearn.preprocessing import OneHotEncoder as ohe"
   ]
  },
  {
   "cell_type": "code",
   "execution_count": null,
   "id": "b3fe1141",
   "metadata": {},
   "outputs": [],
   "source": []
  }
 ],
 "metadata": {
  "kernelspec": {
   "display_name": "Python 3 (ipykernel)",
   "language": "python",
   "name": "python3"
  },
  "language_info": {
   "codemirror_mode": {
    "name": "ipython",
    "version": 3
   },
   "file_extension": ".py",
   "mimetype": "text/x-python",
   "name": "python",
   "nbconvert_exporter": "python",
   "pygments_lexer": "ipython3",
   "version": "3.9.6"
  }
 },
 "nbformat": 4,
 "nbformat_minor": 5
}
