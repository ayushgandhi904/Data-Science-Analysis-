{
 "cells": [
  {
   "cell_type": "code",
   "execution_count": 1,
   "id": "c4fd4254",
   "metadata": {},
   "outputs": [],
   "source": [
    "import numpy as np\n",
    "import pandas as pd\n",
    "import matplotlib.pyplot as plt\n",
    "import seaborn as sns\n",
    "from ipywidgets import interactive"
   ]
  },
  {
   "cell_type": "markdown",
   "id": "1bc74f94",
   "metadata": {},
   "source": [
    "## Material Balance"
   ]
  },
  {
   "cell_type": "markdown",
   "id": "0034e5ed",
   "metadata": {},
   "source": [
    "### i) Gas material balance"
   ]
  },
  {
   "attachments": {
    "image.png": {
     "image/png": "[encoded data removed]"
    }
   },
   "cell_type": "markdown",
   "id": "a30e910f",
   "metadata": {},
   "source": [
    "![image.png](attachment:image.png)"
   ]
  },
  {
   "cell_type": "code",
   "execution_count": 2,
   "id": "a83bc8a5",
   "metadata": {},
   "outputs": [],
   "source": [
    "T = [0, 0.5, 1, 1.5, 2]\n",
    "rp = [1798, 1680, 1540, 1428, 1335]\n",
    "Z = [0.869, 0.87, 0.88, 0.89, 0.9]\n",
    "Gp = [0, 0.96, 2.12, 3.21, 3.92]"
   ]
  },
  {
   "cell_type": "code",
   "execution_count": 9,
   "id": "12da8415",
   "metadata": {},
   "outputs": [],
   "source": [
    "df = pd.DataFrame({\"Time(years)\": T, \"Reservoir Pressure(psia)\":rp, \"Z factor\":Z, \"Cummulative Gas Production(MMSCF)\":Gp})"
   ]
  },
  {
   "cell_type": "code",
   "execution_count": 10,
   "id": "aed2aa39",
   "metadata": {},
   "outputs": [
    {
     "data": {
      "text/html": [
       "<div>\n",
       "<style scoped>\n",
       "    .dataframe tbody tr th:only-of-type {\n",
       "        vertical-align: middle;\n",
       "    }\n",
       "\n",
       "    .dataframe tbody tr th {\n",
       "        vertical-align: top;\n",
       "    }\n",
       "\n",
       "    .dataframe thead th {\n",
       "        text-align: right;\n",
       "    }\n",
       "</style>\n",
       "<table border=\"1\" class=\"dataframe\">\n",
       "  <thead>\n",
       "    <tr style=\"text-align: right;\">\n",
       "      <th></th>\n",
       "      <th>Time(years)</th>\n",
       "      <th>Reservoir Pressure(psia)</th>\n",
       "      <th>Z factor</th>\n",
       "      <th>Cummulative Gas Production(MMSCF)</th>\n",
       "    </tr>\n",
       "  </thead>\n",
       "  <tbody>\n",
       "    <tr>\n",
       "      <th>0</th>\n",
       "      <td>0.0</td>\n",
       "      <td>1798</td>\n",
       "      <td>0.869</td>\n",
       "      <td>0.00</td>\n",
       "    </tr>\n",
       "    <tr>\n",
       "      <th>1</th>\n",
       "      <td>0.5</td>\n",
       "      <td>1680</td>\n",
       "      <td>0.870</td>\n",
       "      <td>0.96</td>\n",
       "    </tr>\n",
       "    <tr>\n",
       "      <th>2</th>\n",
       "      <td>1.0</td>\n",
       "      <td>1540</td>\n",
       "      <td>0.880</td>\n",
       "      <td>2.12</td>\n",
       "    </tr>\n",
       "    <tr>\n",
       "      <th>3</th>\n",
       "      <td>1.5</td>\n",
       "      <td>1428</td>\n",
       "      <td>0.890</td>\n",
       "      <td>3.21</td>\n",
       "    </tr>\n",
       "    <tr>\n",
       "      <th>4</th>\n",
       "      <td>2.0</td>\n",
       "      <td>1335</td>\n",
       "      <td>0.900</td>\n",
       "      <td>3.92</td>\n",
       "    </tr>\n",
       "  </tbody>\n",
       "</table>\n",
       "</div>"
      ],
      "text/plain": [
       "   Time(years)  Reservoir Pressure(psia)  Z factor  \\\n",
       "0          0.0                      1798     0.869   \n",
       "1          0.5                      1680     0.870   \n",
       "2          1.0                      1540     0.880   \n",
       "3          1.5                      1428     0.890   \n",
       "4          2.0                      1335     0.900   \n",
       "\n",
       "   Cummulative Gas Production(MMSCF)  \n",
       "0                               0.00  \n",
       "1                               0.96  \n",
       "2                               2.12  \n",
       "3                               3.21  \n",
       "4                               3.92  "
      ]
     },
     "execution_count": 10,
     "metadata": {},
     "output_type": "execute_result"
    }
   ],
   "source": [
    "df"
   ]
  },
  {
   "cell_type": "code",
   "execution_count": 11,
   "id": "0ce3615f",
   "metadata": {},
   "outputs": [],
   "source": [
    "df[\"P/Z\"] = df[\"Reservoir Pressure(psia)\"]/df[\"Z factor\"]"
   ]
  },
  {
   "cell_type": "code",
   "execution_count": 12,
   "id": "f81c67e9",
   "metadata": {},
   "outputs": [
    {
     "data": {
      "text/html": [
       "<div>\n",
       "<style scoped>\n",
       "    .dataframe tbody tr th:only-of-type {\n",
       "        vertical-align: middle;\n",
       "    }\n",
       "\n",
       "    .dataframe tbody tr th {\n",
       "        vertical-align: top;\n",
       "    }\n",
       "\n",
       "    .dataframe thead th {\n",
       "        text-align: right;\n",
       "    }\n",
       "</style>\n",
       "<table border=\"1\" class=\"dataframe\">\n",
       "  <thead>\n",
       "    <tr style=\"text-align: right;\">\n",
       "      <th></th>\n",
       "      <th>Time(years)</th>\n",
       "      <th>Reservoir Pressure(psia)</th>\n",
       "      <th>Z factor</th>\n",
       "      <th>Cummulative Gas Production(MMSCF)</th>\n",
       "      <th>P/Z</th>\n",
       "    </tr>\n",
       "  </thead>\n",
       "  <tbody>\n",
       "    <tr>\n",
       "      <th>0</th>\n",
       "      <td>0.0</td>\n",
       "      <td>1798</td>\n",
       "      <td>0.869</td>\n",
       "      <td>0.00</td>\n",
       "      <td>2069.044879</td>\n",
       "    </tr>\n",
       "    <tr>\n",
       "      <th>1</th>\n",
       "      <td>0.5</td>\n",
       "      <td>1680</td>\n",
       "      <td>0.870</td>\n",
       "      <td>0.96</td>\n",
       "      <td>1931.034483</td>\n",
       "    </tr>\n",
       "    <tr>\n",
       "      <th>2</th>\n",
       "      <td>1.0</td>\n",
       "      <td>1540</td>\n",
       "      <td>0.880</td>\n",
       "      <td>2.12</td>\n",
       "      <td>1750.000000</td>\n",
       "    </tr>\n",
       "    <tr>\n",
       "      <th>3</th>\n",
       "      <td>1.5</td>\n",
       "      <td>1428</td>\n",
       "      <td>0.890</td>\n",
       "      <td>3.21</td>\n",
       "      <td>1604.494382</td>\n",
       "    </tr>\n",
       "    <tr>\n",
       "      <th>4</th>\n",
       "      <td>2.0</td>\n",
       "      <td>1335</td>\n",
       "      <td>0.900</td>\n",
       "      <td>3.92</td>\n",
       "      <td>1483.333333</td>\n",
       "    </tr>\n",
       "  </tbody>\n",
       "</table>\n",
       "</div>"
      ],
      "text/plain": [
       "   Time(years)  Reservoir Pressure(psia)  Z factor  \\\n",
       "0          0.0                      1798     0.869   \n",
       "1          0.5                      1680     0.870   \n",
       "2          1.0                      1540     0.880   \n",
       "3          1.5                      1428     0.890   \n",
       "4          2.0                      1335     0.900   \n",
       "\n",
       "   Cummulative Gas Production(MMSCF)          P/Z  \n",
       "0                               0.00  2069.044879  \n",
       "1                               0.96  1931.034483  \n",
       "2                               2.12  1750.000000  \n",
       "3                               3.21  1604.494382  \n",
       "4                               3.92  1483.333333  "
      ]
     },
     "execution_count": 12,
     "metadata": {},
     "output_type": "execute_result"
    }
   ],
   "source": [
    "df"
   ]
  },
  {
   "cell_type": "code",
   "execution_count": 13,
   "id": "63fb6266",
   "metadata": {},
   "outputs": [],
   "source": [
    "x = df[\"Cummulative Gas Production(MMSCF)\"]\n",
    "y = df[\"P/Z\"]"
   ]
  },
  {
   "cell_type": "code",
   "execution_count": 16,
   "id": "95983583",
   "metadata": {},
   "outputs": [
    {
     "data": {
      "text/plain": [
       "Text(0, 0.5, 'P/Z')"
      ]
     },
     "execution_count": 16,
     "metadata": {},
     "output_type": "execute_result"
    },
    {
     "data": {
      "image/png": "[encoded data removed]",
      "text/plain": [
       "<Figure size 432x288 with 1 Axes>"
      ]
     },
     "metadata": {
      "needs_background": "light"
     },
     "output_type": "display_data"
    }
   ],
   "source": [
    "plt.scatter(x, y, marker = \"x\", color = \"red\")\n",
    "plt.xlim(-0.5, 10)\n",
    "plt.ylim(0, 2500)\n",
    "plt.grid()\n",
    "plt.xlabel(\"cummulative gas production (MMSCF)\")\n",
    "plt.ylabel(\"P/Z\")"
   ]
  },
  {
   "cell_type": "code",
   "execution_count": 17,
   "id": "e68e6ace",
   "metadata": {},
   "outputs": [],
   "source": [
    "model = np.polyfit(x, y, 1)"
   ]
  },
  {
   "cell_type": "code",
   "execution_count": 18,
   "id": "7afe00e1",
   "metadata": {},
   "outputs": [
    {
     "data": {
      "text/plain": [
       "array([-148.2874553 , 2070.38439919])"
      ]
     },
     "execution_count": 18,
     "metadata": {},
     "output_type": "execute_result"
    }
   ],
   "source": [
    "model"
   ]
  },
  {
   "cell_type": "code",
   "execution_count": 20,
   "id": "cf65c914",
   "metadata": {},
   "outputs": [],
   "source": [
    "PZ = np.arange(model[1], 0, -1)"
   ]
  },
  {
   "cell_type": "code",
   "execution_count": 21,
   "id": "390bb48d",
   "metadata": {},
   "outputs": [],
   "source": [
    "GPP = (PZ - model[1])/model[0]"
   ]
  },
  {
   "cell_type": "code",
   "execution_count": 23,
   "id": "935aaaa3",
   "metadata": {},
   "outputs": [],
   "source": [
    "DF = pd.DataFrame({\"Cumulative Gas Production(MMSCF)\":GPP, \"P/Z\":PZ})"
   ]
  },
  {
   "cell_type": "code",
   "execution_count": 24,
   "id": "11ca17f8",
   "metadata": {},
   "outputs": [
    {
     "data": {
      "text/html": [
       "<div>\n",
       "<style scoped>\n",
       "    .dataframe tbody tr th:only-of-type {\n",
       "        vertical-align: middle;\n",
       "    }\n",
       "\n",
       "    .dataframe tbody tr th {\n",
       "        vertical-align: top;\n",
       "    }\n",
       "\n",
       "    .dataframe thead th {\n",
       "        text-align: right;\n",
       "    }\n",
       "</style>\n",
       "<table border=\"1\" class=\"dataframe\">\n",
       "  <thead>\n",
       "    <tr style=\"text-align: right;\">\n",
       "      <th></th>\n",
       "      <th>Cumulative Gas Production(MMSCF)</th>\n",
       "      <th>P/Z</th>\n",
       "    </tr>\n",
       "  </thead>\n",
       "  <tbody>\n",
       "    <tr>\n",
       "      <th>0</th>\n",
       "      <td>-0.000000</td>\n",
       "      <td>2070.384399</td>\n",
       "    </tr>\n",
       "    <tr>\n",
       "      <th>1</th>\n",
       "      <td>0.006744</td>\n",
       "      <td>2069.384399</td>\n",
       "    </tr>\n",
       "    <tr>\n",
       "      <th>2</th>\n",
       "      <td>0.013487</td>\n",
       "      <td>2068.384399</td>\n",
       "    </tr>\n",
       "    <tr>\n",
       "      <th>3</th>\n",
       "      <td>0.020231</td>\n",
       "      <td>2067.384399</td>\n",
       "    </tr>\n",
       "    <tr>\n",
       "      <th>4</th>\n",
       "      <td>0.026975</td>\n",
       "      <td>2066.384399</td>\n",
       "    </tr>\n",
       "    <tr>\n",
       "      <th>...</th>\n",
       "      <td>...</td>\n",
       "      <td>...</td>\n",
       "    </tr>\n",
       "    <tr>\n",
       "      <th>2066</th>\n",
       "      <td>13.932399</td>\n",
       "      <td>4.384399</td>\n",
       "    </tr>\n",
       "    <tr>\n",
       "      <th>2067</th>\n",
       "      <td>13.939143</td>\n",
       "      <td>3.384399</td>\n",
       "    </tr>\n",
       "    <tr>\n",
       "      <th>2068</th>\n",
       "      <td>13.945886</td>\n",
       "      <td>2.384399</td>\n",
       "    </tr>\n",
       "    <tr>\n",
       "      <th>2069</th>\n",
       "      <td>13.952630</td>\n",
       "      <td>1.384399</td>\n",
       "    </tr>\n",
       "    <tr>\n",
       "      <th>2070</th>\n",
       "      <td>13.959374</td>\n",
       "      <td>0.384399</td>\n",
       "    </tr>\n",
       "  </tbody>\n",
       "</table>\n",
       "<p>2071 rows × 2 columns</p>\n",
       "</div>"
      ],
      "text/plain": [
       "      Cumulative Gas Production(MMSCF)          P/Z\n",
       "0                            -0.000000  2070.384399\n",
       "1                             0.006744  2069.384399\n",
       "2                             0.013487  2068.384399\n",
       "3                             0.020231  2067.384399\n",
       "4                             0.026975  2066.384399\n",
       "...                                ...          ...\n",
       "2066                         13.932399     4.384399\n",
       "2067                         13.939143     3.384399\n",
       "2068                         13.945886     2.384399\n",
       "2069                         13.952630     1.384399\n",
       "2070                         13.959374     0.384399\n",
       "\n",
       "[2071 rows x 2 columns]"
      ]
     },
     "execution_count": 24,
     "metadata": {},
     "output_type": "execute_result"
    }
   ],
   "source": [
    "DF"
   ]
  },
  {
   "cell_type": "code",
   "execution_count": 26,
   "id": "eaa44532",
   "metadata": {},
   "outputs": [
    {
     "data": {
      "text/plain": [
       "13.96196593265716"
      ]
     },
     "execution_count": 26,
     "metadata": {},
     "output_type": "execute_result"
    }
   ],
   "source": [
    "initial_gas_in_place = (-model[1])/(model[0])\n",
    "initial_gas_in_place"
   ]
  },
  {
   "cell_type": "code",
   "execution_count": 30,
   "id": "53648cbf",
   "metadata": {},
   "outputs": [
    {
     "name": "stdout",
     "output_type": "stream",
     "text": [
      "The gas initially in place is 13.96196593265716 MMSCF\n"
     ]
    },
    {
     "data": {
      "image/png": "[encoded data removed]",
      "text/plain": [
       "<Figure size 648x432 with 1 Axes>"
      ]
     },
     "metadata": {},
     "output_type": "display_data"
    }
   ],
   "source": [
    "plt.figure(figsize=(9, 6))\n",
    "plt.plot(DF[\"Cumulative Gas Production(MMSCF)\"][1:600], DF[\"P/Z\"][1:600])\n",
    "plt.plot(DF[\"Cumulative Gas Production(MMSCF)\"][601:2072], DF[\"P/Z\"][601:2072], ls = \"--\")\n",
    "plt.scatter(x, y, marker = 'x', color = 'red', label = \"Production data\")\n",
    "plt.scatter(initial_gas_in_place, 30, label = \"Initial gas in place\")\n",
    "plt.style.use(\"fivethirtyeight\")\n",
    "plt.xlim(0, 16)\n",
    "plt.ylim(1, 2100)\n",
    "plt.axvspan(0, 4, alpha = 0.5, label = \"Production History\", color = \"chartreuse\")\n",
    "plt.xlabel(\"Cumulative Gas Production (MMSCF)\")\n",
    "plt.ylabel(\"P/Z\")\n",
    "plt.title(\"Gas Material Balance\")\n",
    "plt.legend()\n",
    "plt.grid(True)\n",
    "print(f\"The gas initially in place is {initial_gas_in_place} MMSCF\")"
   ]
  },
  {
   "cell_type": "markdown",
   "id": "35b7bd76",
   "metadata": {},
   "source": [
    "### Oil Material Balance for undersaturated reservoir"
   ]
  },
  {
   "attachments": {
    "image.png": {
     "image/png": "[encoded data removed]"
    }
   },
   "cell_type": "markdown",
   "id": "68226885",
   "metadata": {},
   "source": [
    "![image.png](attachment:image.png)"
   ]
  },
  {
   "cell_type": "code",
   "execution_count": 32,
   "id": "2a007602",
   "metadata": {},
   "outputs": [
    {
     "name": "stdout",
     "output_type": "stream",
     "text": [
      "Enter the intital water saturation (fraction): 0.24\n",
      "Enter the compressiblity of water (psi^-1): .0000032\n",
      "Enter the compressiblity  of formation (psi^-1): 0.00004958\n",
      "Enter the bubble point pressure(psi): 1500\n"
     ]
    }
   ],
   "source": [
    "swi = float(input(\"Enter the intital water saturation (fraction): \"))\n",
    "cw = float(input(\"Enter the compressiblity of water (psi^-1): \"))\n",
    "cf = float(input(\"Enter the compressiblity  of formation (psi^-1): \"))\n",
    "pb = float(input(\"Enter the bubble point pressure(psi): \"))"
   ]
  },
  {
   "cell_type": "code",
   "execution_count": 33,
   "id": "73f18a01",
   "metadata": {},
   "outputs": [],
   "source": [
    "Rp = [3685, 3680,3676,3667,3664,3640,3605,3567,3515,3448,3360,3275,3188]\n",
    "No_of_producing_wells = [1,2,2,3,4,19,25,36,48,59,59,61,61]\n",
    "Bo = [1.3102,1.3104,1.3104,1.3105,1.3105,1.3109,1.3116,1.3122,1.3128,1.3130,1.3150,1.3160,1.3170]\n",
    "Np = [0,20.481,34.750,78.557,101.846,215.681,364.613, 542.985,841.591,1273.530 ,1691.887,2127.077,2575.330 ]\n",
    "Wp = [0,0,0,0,0,0,0,0.159,0.805,2.579,5.008,6.5,8]"
   ]
  },
  {
   "cell_type": "code",
   "execution_count": 34,
   "id": "64f45809",
   "metadata": {},
   "outputs": [],
   "source": [
    "df = pd.DataFrame({\"Reservoir Pressure\":Rp,\"No_of_producing_wells\":No_of_producing_wells, \"Bo(rb/stb)\": Bo, \"Cumulative oil Produced Np(Mstb)\": Np,\"Cumulative water Produced Wp(Mstb)\": Wp })"
   ]
  },
  {
   "cell_type": "code",
   "execution_count": 35,
   "id": "ce34f5c3",
   "metadata": {},
   "outputs": [
    {
     "data": {
      "text/html": [
       "<div>\n",
       "<style scoped>\n",
       "    .dataframe tbody tr th:only-of-type {\n",
       "        vertical-align: middle;\n",
       "    }\n",
       "\n",
       "    .dataframe tbody tr th {\n",
       "        vertical-align: top;\n",
       "    }\n",
       "\n",
       "    .dataframe thead th {\n",
       "        text-align: right;\n",
       "    }\n",
       "</style>\n",
       "<table border=\"1\" class=\"dataframe\">\n",
       "  <thead>\n",
       "    <tr style=\"text-align: right;\">\n",
       "      <th></th>\n",
       "      <th>Reservoir Pressure</th>\n",
       "      <th>No_of_producing_wells</th>\n",
       "      <th>Bo(rb/stb)</th>\n",
       "      <th>Cumulative oil Produced Np(Mstb)</th>\n",
       "      <th>Cumulative water Produced Wp(Mstb)</th>\n",
       "    </tr>\n",
       "  </thead>\n",
       "  <tbody>\n",
       "    <tr>\n",
       "      <th>0</th>\n",
       "      <td>3685</td>\n",
       "      <td>1</td>\n",
       "      <td>1.3102</td>\n",
       "      <td>0.000</td>\n",
       "      <td>0.000</td>\n",
       "    </tr>\n",
       "    <tr>\n",
       "      <th>1</th>\n",
       "      <td>3680</td>\n",
       "      <td>2</td>\n",
       "      <td>1.3104</td>\n",
       "      <td>20.481</td>\n",
       "      <td>0.000</td>\n",
       "    </tr>\n",
       "    <tr>\n",
       "      <th>2</th>\n",
       "      <td>3676</td>\n",
       "      <td>2</td>\n",
       "      <td>1.3104</td>\n",
       "      <td>34.750</td>\n",
       "      <td>0.000</td>\n",
       "    </tr>\n",
       "    <tr>\n",
       "      <th>3</th>\n",
       "      <td>3667</td>\n",
       "      <td>3</td>\n",
       "      <td>1.3105</td>\n",
       "      <td>78.557</td>\n",
       "      <td>0.000</td>\n",
       "    </tr>\n",
       "    <tr>\n",
       "      <th>4</th>\n",
       "      <td>3664</td>\n",
       "      <td>4</td>\n",
       "      <td>1.3105</td>\n",
       "      <td>101.846</td>\n",
       "      <td>0.000</td>\n",
       "    </tr>\n",
       "    <tr>\n",
       "      <th>5</th>\n",
       "      <td>3640</td>\n",
       "      <td>19</td>\n",
       "      <td>1.3109</td>\n",
       "      <td>215.681</td>\n",
       "      <td>0.000</td>\n",
       "    </tr>\n",
       "    <tr>\n",
       "      <th>6</th>\n",
       "      <td>3605</td>\n",
       "      <td>25</td>\n",
       "      <td>1.3116</td>\n",
       "      <td>364.613</td>\n",
       "      <td>0.000</td>\n",
       "    </tr>\n",
       "    <tr>\n",
       "      <th>7</th>\n",
       "      <td>3567</td>\n",
       "      <td>36</td>\n",
       "      <td>1.3122</td>\n",
       "      <td>542.985</td>\n",
       "      <td>0.159</td>\n",
       "    </tr>\n",
       "    <tr>\n",
       "      <th>8</th>\n",
       "      <td>3515</td>\n",
       "      <td>48</td>\n",
       "      <td>1.3128</td>\n",
       "      <td>841.591</td>\n",
       "      <td>0.805</td>\n",
       "    </tr>\n",
       "    <tr>\n",
       "      <th>9</th>\n",
       "      <td>3448</td>\n",
       "      <td>59</td>\n",
       "      <td>1.3130</td>\n",
       "      <td>1273.530</td>\n",
       "      <td>2.579</td>\n",
       "    </tr>\n",
       "    <tr>\n",
       "      <th>10</th>\n",
       "      <td>3360</td>\n",
       "      <td>59</td>\n",
       "      <td>1.3150</td>\n",
       "      <td>1691.887</td>\n",
       "      <td>5.008</td>\n",
       "    </tr>\n",
       "    <tr>\n",
       "      <th>11</th>\n",
       "      <td>3275</td>\n",
       "      <td>61</td>\n",
       "      <td>1.3160</td>\n",
       "      <td>2127.077</td>\n",
       "      <td>6.500</td>\n",
       "    </tr>\n",
       "    <tr>\n",
       "      <th>12</th>\n",
       "      <td>3188</td>\n",
       "      <td>61</td>\n",
       "      <td>1.3170</td>\n",
       "      <td>2575.330</td>\n",
       "      <td>8.000</td>\n",
       "    </tr>\n",
       "  </tbody>\n",
       "</table>\n",
       "</div>"
      ],
      "text/plain": [
       "    Reservoir Pressure  No_of_producing_wells  Bo(rb/stb)  \\\n",
       "0                 3685                      1      1.3102   \n",
       "1                 3680                      2      1.3104   \n",
       "2                 3676                      2      1.3104   \n",
       "3                 3667                      3      1.3105   \n",
       "4                 3664                      4      1.3105   \n",
       "5                 3640                     19      1.3109   \n",
       "6                 3605                     25      1.3116   \n",
       "7                 3567                     36      1.3122   \n",
       "8                 3515                     48      1.3128   \n",
       "9                 3448                     59      1.3130   \n",
       "10                3360                     59      1.3150   \n",
       "11                3275                     61      1.3160   \n",
       "12                3188                     61      1.3170   \n",
       "\n",
       "    Cumulative oil Produced Np(Mstb)  Cumulative water Produced Wp(Mstb)  \n",
       "0                              0.000                               0.000  \n",
       "1                             20.481                               0.000  \n",
       "2                             34.750                               0.000  \n",
       "3                             78.557                               0.000  \n",
       "4                            101.846                               0.000  \n",
       "5                            215.681                               0.000  \n",
       "6                            364.613                               0.000  \n",
       "7                            542.985                               0.159  \n",
       "8                            841.591                               0.805  \n",
       "9                           1273.530                               2.579  \n",
       "10                          1691.887                               5.008  \n",
       "11                          2127.077                               6.500  \n",
       "12                          2575.330                               8.000  "
      ]
     },
     "execution_count": 35,
     "metadata": {},
     "output_type": "execute_result"
    }
   ],
   "source": [
    "df"
   ]
  },
  {
   "cell_type": "code",
   "execution_count": 55,
   "id": "48b34121",
   "metadata": {},
   "outputs": [],
   "source": [
    "#the expansion of the initial water and the reduction in the pore volume\n",
    "df[\"Efw\"] = df[\"Bo(rb/stb)\"] * ((((cw*swi)+ cf)*(3685-df[\"Reservoir Pressure\"]))/(1-swi))"
   ]
  },
  {
   "cell_type": "code",
   "execution_count": 56,
   "id": "aebb27fa",
   "metadata": {},
   "outputs": [],
   "source": [
    "df[\"Eo\"] = df[\"Bo(rb/stb)\"]-1.3102"
   ]
  },
  {
   "cell_type": "code",
   "execution_count": 57,
   "id": "efafeed9",
   "metadata": {},
   "outputs": [],
   "source": [
    "df[\"F(Mbbl)\"] = (df[\"Cumulative oil Produced Np(Mstb)\"]*df[\"Bo(rb/stb)\"]) + (df[\"Cumulative water Produced Wp(Mstb)\"])\n"
   ]
  },
  {
   "cell_type": "code",
   "execution_count": 58,
   "id": "9d0f9c47",
   "metadata": {},
   "outputs": [],
   "source": [
    "df[\"Eo+Efw\"] = df[\"Efw\"] + df[\"Eo\"]"
   ]
  },
  {
   "cell_type": "code",
   "execution_count": 59,
   "id": "b717d977",
   "metadata": {},
   "outputs": [
    {
     "data": {
      "text/html": [
       "<div>\n",
       "<style scoped>\n",
       "    .dataframe tbody tr th:only-of-type {\n",
       "        vertical-align: middle;\n",
       "    }\n",
       "\n",
       "    .dataframe tbody tr th {\n",
       "        vertical-align: top;\n",
       "    }\n",
       "\n",
       "    .dataframe thead th {\n",
       "        text-align: right;\n",
       "    }\n",
       "</style>\n",
       "<table border=\"1\" class=\"dataframe\">\n",
       "  <thead>\n",
       "    <tr style=\"text-align: right;\">\n",
       "      <th></th>\n",
       "      <th>Reservoir Pressure</th>\n",
       "      <th>No_of_producing_wells</th>\n",
       "      <th>Bo(rb/stb)</th>\n",
       "      <th>Cumulative oil Produced Np(Mstb)</th>\n",
       "      <th>Cumulative water Produced Wp(Mstb)</th>\n",
       "      <th>Efw</th>\n",
       "      <th>Eo</th>\n",
       "      <th>Eo+Efw</th>\n",
       "      <th>F(Mbbl)</th>\n",
       "    </tr>\n",
       "  </thead>\n",
       "  <tbody>\n",
       "    <tr>\n",
       "      <th>0</th>\n",
       "      <td>3685</td>\n",
       "      <td>1</td>\n",
       "      <td>1.3102</td>\n",
       "      <td>0.000</td>\n",
       "      <td>0.000</td>\n",
       "      <td>0.000000</td>\n",
       "      <td>0.0000</td>\n",
       "      <td>0.000000</td>\n",
       "      <td>0.000000</td>\n",
       "    </tr>\n",
       "    <tr>\n",
       "      <th>1</th>\n",
       "      <td>3680</td>\n",
       "      <td>2</td>\n",
       "      <td>1.3104</td>\n",
       "      <td>20.481</td>\n",
       "      <td>0.000</td>\n",
       "      <td>0.000434</td>\n",
       "      <td>0.0002</td>\n",
       "      <td>0.000634</td>\n",
       "      <td>26.838302</td>\n",
       "    </tr>\n",
       "    <tr>\n",
       "      <th>2</th>\n",
       "      <td>3676</td>\n",
       "      <td>2</td>\n",
       "      <td>1.3104</td>\n",
       "      <td>34.750</td>\n",
       "      <td>0.000</td>\n",
       "      <td>0.000781</td>\n",
       "      <td>0.0002</td>\n",
       "      <td>0.000981</td>\n",
       "      <td>45.536400</td>\n",
       "    </tr>\n",
       "    <tr>\n",
       "      <th>3</th>\n",
       "      <td>3667</td>\n",
       "      <td>3</td>\n",
       "      <td>1.3105</td>\n",
       "      <td>78.557</td>\n",
       "      <td>0.000</td>\n",
       "      <td>0.001563</td>\n",
       "      <td>0.0003</td>\n",
       "      <td>0.001863</td>\n",
       "      <td>102.948949</td>\n",
       "    </tr>\n",
       "    <tr>\n",
       "      <th>4</th>\n",
       "      <td>3664</td>\n",
       "      <td>4</td>\n",
       "      <td>1.3105</td>\n",
       "      <td>101.846</td>\n",
       "      <td>0.000</td>\n",
       "      <td>0.001823</td>\n",
       "      <td>0.0003</td>\n",
       "      <td>0.002123</td>\n",
       "      <td>133.469183</td>\n",
       "    </tr>\n",
       "    <tr>\n",
       "      <th>5</th>\n",
       "      <td>3640</td>\n",
       "      <td>19</td>\n",
       "      <td>1.3109</td>\n",
       "      <td>215.681</td>\n",
       "      <td>0.000</td>\n",
       "      <td>0.003908</td>\n",
       "      <td>0.0007</td>\n",
       "      <td>0.004608</td>\n",
       "      <td>282.736223</td>\n",
       "    </tr>\n",
       "    <tr>\n",
       "      <th>6</th>\n",
       "      <td>3605</td>\n",
       "      <td>25</td>\n",
       "      <td>1.3116</td>\n",
       "      <td>364.613</td>\n",
       "      <td>0.000</td>\n",
       "      <td>0.006951</td>\n",
       "      <td>0.0014</td>\n",
       "      <td>0.008351</td>\n",
       "      <td>478.226411</td>\n",
       "    </tr>\n",
       "    <tr>\n",
       "      <th>7</th>\n",
       "      <td>3567</td>\n",
       "      <td>36</td>\n",
       "      <td>1.3122</td>\n",
       "      <td>542.985</td>\n",
       "      <td>0.159</td>\n",
       "      <td>0.010258</td>\n",
       "      <td>0.0020</td>\n",
       "      <td>0.012258</td>\n",
       "      <td>712.663917</td>\n",
       "    </tr>\n",
       "    <tr>\n",
       "      <th>8</th>\n",
       "      <td>3515</td>\n",
       "      <td>48</td>\n",
       "      <td>1.3128</td>\n",
       "      <td>841.591</td>\n",
       "      <td>0.805</td>\n",
       "      <td>0.014785</td>\n",
       "      <td>0.0026</td>\n",
       "      <td>0.017385</td>\n",
       "      <td>1105.645665</td>\n",
       "    </tr>\n",
       "    <tr>\n",
       "      <th>9</th>\n",
       "      <td>3448</td>\n",
       "      <td>59</td>\n",
       "      <td>1.3130</td>\n",
       "      <td>1273.530</td>\n",
       "      <td>2.579</td>\n",
       "      <td>0.020615</td>\n",
       "      <td>0.0028</td>\n",
       "      <td>0.023415</td>\n",
       "      <td>1674.723890</td>\n",
       "    </tr>\n",
       "    <tr>\n",
       "      <th>10</th>\n",
       "      <td>3360</td>\n",
       "      <td>59</td>\n",
       "      <td>1.3150</td>\n",
       "      <td>1691.887</td>\n",
       "      <td>5.008</td>\n",
       "      <td>0.028312</td>\n",
       "      <td>0.0048</td>\n",
       "      <td>0.033112</td>\n",
       "      <td>2229.839405</td>\n",
       "    </tr>\n",
       "    <tr>\n",
       "      <th>11</th>\n",
       "      <td>3275</td>\n",
       "      <td>61</td>\n",
       "      <td>1.3160</td>\n",
       "      <td>2127.077</td>\n",
       "      <td>6.500</td>\n",
       "      <td>0.035744</td>\n",
       "      <td>0.0058</td>\n",
       "      <td>0.041544</td>\n",
       "      <td>2805.733332</td>\n",
       "    </tr>\n",
       "    <tr>\n",
       "      <th>12</th>\n",
       "      <td>3188</td>\n",
       "      <td>61</td>\n",
       "      <td>1.3170</td>\n",
       "      <td>2575.330</td>\n",
       "      <td>8.000</td>\n",
       "      <td>0.043362</td>\n",
       "      <td>0.0068</td>\n",
       "      <td>0.050162</td>\n",
       "      <td>3399.709610</td>\n",
       "    </tr>\n",
       "  </tbody>\n",
       "</table>\n",
       "</div>"
      ],
      "text/plain": [
       "    Reservoir Pressure  No_of_producing_wells  Bo(rb/stb)  \\\n",
       "0                 3685                      1      1.3102   \n",
       "1                 3680                      2      1.3104   \n",
       "2                 3676                      2      1.3104   \n",
       "3                 3667                      3      1.3105   \n",
       "4                 3664                      4      1.3105   \n",
       "5                 3640                     19      1.3109   \n",
       "6                 3605                     25      1.3116   \n",
       "7                 3567                     36      1.3122   \n",
       "8                 3515                     48      1.3128   \n",
       "9                 3448                     59      1.3130   \n",
       "10                3360                     59      1.3150   \n",
       "11                3275                     61      1.3160   \n",
       "12                3188                     61      1.3170   \n",
       "\n",
       "    Cumulative oil Produced Np(Mstb)  Cumulative water Produced Wp(Mstb)  \\\n",
       "0                              0.000                               0.000   \n",
       "1                             20.481                               0.000   \n",
       "2                             34.750                               0.000   \n",
       "3                             78.557                               0.000   \n",
       "4                            101.846                               0.000   \n",
       "5                            215.681                               0.000   \n",
       "6                            364.613                               0.000   \n",
       "7                            542.985                               0.159   \n",
       "8                            841.591                               0.805   \n",
       "9                           1273.530                               2.579   \n",
       "10                          1691.887                               5.008   \n",
       "11                          2127.077                               6.500   \n",
       "12                          2575.330                               8.000   \n",
       "\n",
       "         Efw      Eo    Eo+Efw      F(Mbbl)  \n",
       "0   0.000000  0.0000  0.000000     0.000000  \n",
       "1   0.000434  0.0002  0.000634    26.838302  \n",
       "2   0.000781  0.0002  0.000981    45.536400  \n",
       "3   0.001563  0.0003  0.001863   102.948949  \n",
       "4   0.001823  0.0003  0.002123   133.469183  \n",
       "5   0.003908  0.0007  0.004608   282.736223  \n",
       "6   0.006951  0.0014  0.008351   478.226411  \n",
       "7   0.010258  0.0020  0.012258   712.663917  \n",
       "8   0.014785  0.0026  0.017385  1105.645665  \n",
       "9   0.020615  0.0028  0.023415  1674.723890  \n",
       "10  0.028312  0.0048  0.033112  2229.839405  \n",
       "11  0.035744  0.0058  0.041544  2805.733332  \n",
       "12  0.043362  0.0068  0.050162  3399.709610  "
      ]
     },
     "execution_count": 59,
     "metadata": {},
     "output_type": "execute_result"
    }
   ],
   "source": [
    "df"
   ]
  },
  {
   "cell_type": "code",
   "execution_count": 63,
   "id": "87849a6f",
   "metadata": {},
   "outputs": [
    {
     "data": {
      "text/plain": [
       "<matplotlib.collections.PathCollection at 0x222626c9ca0>"
      ]
     },
     "execution_count": 63,
     "metadata": {},
     "output_type": "execute_result"
    },
    {
     "data": {
      "image/png": "[encoded data removed]",
      "text/plain": [
       "<Figure size 432x288 with 1 Axes>"
      ]
     },
     "metadata": {},
     "output_type": "display_data"
    }
   ],
   "source": [
    "x = df[\"Eo+Efw\"]\n",
    "y = df[\"F(Mbbl)\"]\n",
    "plt.scatter(x, y)"
   ]
  },
  {
   "cell_type": "code",
   "execution_count": 64,
   "id": "ed8664e6",
   "metadata": {},
   "outputs": [
    {
     "data": {
      "text/plain": [
       "array([ 6.84249437e+04, -3.40855576e+01])"
      ]
     },
     "execution_count": 64,
     "metadata": {},
     "output_type": "execute_result"
    }
   ],
   "source": [
    "model =  np.polyfit(x, y, 1)\n",
    "model"
   ]
  },
  {
   "cell_type": "code",
   "execution_count": 65,
   "id": "0517c548",
   "metadata": {},
   "outputs": [],
   "source": [
    "df[\"F(Mbbl)fit\"] = 68429.437*df[\"Eo+Efw\"] - 34.08556"
   ]
  },
  {
   "cell_type": "code",
   "execution_count": 66,
   "id": "84ce3e9b",
   "metadata": {},
   "outputs": [
    {
     "data": {
      "text/html": [
       "<div>\n",
       "<style scoped>\n",
       "    .dataframe tbody tr th:only-of-type {\n",
       "        vertical-align: middle;\n",
       "    }\n",
       "\n",
       "    .dataframe tbody tr th {\n",
       "        vertical-align: top;\n",
       "    }\n",
       "\n",
       "    .dataframe thead th {\n",
       "        text-align: right;\n",
       "    }\n",
       "</style>\n",
       "<table border=\"1\" class=\"dataframe\">\n",
       "  <thead>\n",
       "    <tr style=\"text-align: right;\">\n",
       "      <th></th>\n",
       "      <th>Reservoir Pressure</th>\n",
       "      <th>No_of_producing_wells</th>\n",
       "      <th>Bo(rb/stb)</th>\n",
       "      <th>Cumulative oil Produced Np(Mstb)</th>\n",
       "      <th>Cumulative water Produced Wp(Mstb)</th>\n",
       "      <th>Efw</th>\n",
       "      <th>Eo</th>\n",
       "      <th>Eo+Efw</th>\n",
       "      <th>F(Mbbl)</th>\n",
       "      <th>F(Mbbl)fit</th>\n",
       "    </tr>\n",
       "  </thead>\n",
       "  <tbody>\n",
       "    <tr>\n",
       "      <th>0</th>\n",
       "      <td>3685</td>\n",
       "      <td>1</td>\n",
       "      <td>1.3102</td>\n",
       "      <td>0.000</td>\n",
       "      <td>0.000</td>\n",
       "      <td>0.000000</td>\n",
       "      <td>0.0000</td>\n",
       "      <td>0.000000</td>\n",
       "      <td>0.000000</td>\n",
       "      <td>-34.085560</td>\n",
       "    </tr>\n",
       "    <tr>\n",
       "      <th>1</th>\n",
       "      <td>3680</td>\n",
       "      <td>2</td>\n",
       "      <td>1.3104</td>\n",
       "      <td>20.481</td>\n",
       "      <td>0.000</td>\n",
       "      <td>0.000434</td>\n",
       "      <td>0.0002</td>\n",
       "      <td>0.000634</td>\n",
       "      <td>26.838302</td>\n",
       "      <td>9.302313</td>\n",
       "    </tr>\n",
       "    <tr>\n",
       "      <th>2</th>\n",
       "      <td>3676</td>\n",
       "      <td>2</td>\n",
       "      <td>1.3104</td>\n",
       "      <td>34.750</td>\n",
       "      <td>0.000</td>\n",
       "      <td>0.000781</td>\n",
       "      <td>0.0002</td>\n",
       "      <td>0.000981</td>\n",
       "      <td>45.536400</td>\n",
       "      <td>33.063902</td>\n",
       "    </tr>\n",
       "    <tr>\n",
       "      <th>3</th>\n",
       "      <td>3667</td>\n",
       "      <td>3</td>\n",
       "      <td>1.3105</td>\n",
       "      <td>78.557</td>\n",
       "      <td>0.000</td>\n",
       "      <td>0.001563</td>\n",
       "      <td>0.0003</td>\n",
       "      <td>0.001863</td>\n",
       "      <td>102.948949</td>\n",
       "      <td>93.378580</td>\n",
       "    </tr>\n",
       "    <tr>\n",
       "      <th>4</th>\n",
       "      <td>3664</td>\n",
       "      <td>4</td>\n",
       "      <td>1.3105</td>\n",
       "      <td>101.846</td>\n",
       "      <td>0.000</td>\n",
       "      <td>0.001823</td>\n",
       "      <td>0.0003</td>\n",
       "      <td>0.002123</td>\n",
       "      <td>133.469183</td>\n",
       "      <td>111.201132</td>\n",
       "    </tr>\n",
       "    <tr>\n",
       "      <th>5</th>\n",
       "      <td>3640</td>\n",
       "      <td>19</td>\n",
       "      <td>1.3109</td>\n",
       "      <td>215.681</td>\n",
       "      <td>0.000</td>\n",
       "      <td>0.003908</td>\n",
       "      <td>0.0007</td>\n",
       "      <td>0.004608</td>\n",
       "      <td>282.736223</td>\n",
       "      <td>281.234917</td>\n",
       "    </tr>\n",
       "    <tr>\n",
       "      <th>6</th>\n",
       "      <td>3605</td>\n",
       "      <td>25</td>\n",
       "      <td>1.3116</td>\n",
       "      <td>364.613</td>\n",
       "      <td>0.000</td>\n",
       "      <td>0.006951</td>\n",
       "      <td>0.0014</td>\n",
       "      <td>0.008351</td>\n",
       "      <td>478.226411</td>\n",
       "      <td>537.382619</td>\n",
       "    </tr>\n",
       "    <tr>\n",
       "      <th>7</th>\n",
       "      <td>3567</td>\n",
       "      <td>36</td>\n",
       "      <td>1.3122</td>\n",
       "      <td>542.985</td>\n",
       "      <td>0.159</td>\n",
       "      <td>0.010258</td>\n",
       "      <td>0.0020</td>\n",
       "      <td>0.012258</td>\n",
       "      <td>712.663917</td>\n",
       "      <td>804.703047</td>\n",
       "    </tr>\n",
       "    <tr>\n",
       "      <th>8</th>\n",
       "      <td>3515</td>\n",
       "      <td>48</td>\n",
       "      <td>1.3128</td>\n",
       "      <td>841.591</td>\n",
       "      <td>0.805</td>\n",
       "      <td>0.014785</td>\n",
       "      <td>0.0026</td>\n",
       "      <td>0.017385</td>\n",
       "      <td>1105.645665</td>\n",
       "      <td>1155.548069</td>\n",
       "    </tr>\n",
       "    <tr>\n",
       "      <th>9</th>\n",
       "      <td>3448</td>\n",
       "      <td>59</td>\n",
       "      <td>1.3130</td>\n",
       "      <td>1273.530</td>\n",
       "      <td>2.579</td>\n",
       "      <td>0.020615</td>\n",
       "      <td>0.0028</td>\n",
       "      <td>0.023415</td>\n",
       "      <td>1674.723890</td>\n",
       "      <td>1568.184394</td>\n",
       "    </tr>\n",
       "    <tr>\n",
       "      <th>10</th>\n",
       "      <td>3360</td>\n",
       "      <td>59</td>\n",
       "      <td>1.3150</td>\n",
       "      <td>1691.887</td>\n",
       "      <td>5.008</td>\n",
       "      <td>0.028312</td>\n",
       "      <td>0.0048</td>\n",
       "      <td>0.033112</td>\n",
       "      <td>2229.839405</td>\n",
       "      <td>2231.782057</td>\n",
       "    </tr>\n",
       "    <tr>\n",
       "      <th>11</th>\n",
       "      <td>3275</td>\n",
       "      <td>61</td>\n",
       "      <td>1.3160</td>\n",
       "      <td>2127.077</td>\n",
       "      <td>6.500</td>\n",
       "      <td>0.035744</td>\n",
       "      <td>0.0058</td>\n",
       "      <td>0.041544</td>\n",
       "      <td>2805.733332</td>\n",
       "      <td>2808.776403</td>\n",
       "    </tr>\n",
       "    <tr>\n",
       "      <th>12</th>\n",
       "      <td>3188</td>\n",
       "      <td>61</td>\n",
       "      <td>1.3170</td>\n",
       "      <td>2575.330</td>\n",
       "      <td>8.000</td>\n",
       "      <td>0.043362</td>\n",
       "      <td>0.0068</td>\n",
       "      <td>0.050162</td>\n",
       "      <td>3399.709610</td>\n",
       "      <td>3398.482038</td>\n",
       "    </tr>\n",
       "  </tbody>\n",
       "</table>\n",
       "</div>"
      ],
      "text/plain": [
       "    Reservoir Pressure  No_of_producing_wells  Bo(rb/stb)  \\\n",
       "0                 3685                      1      1.3102   \n",
       "1                 3680                      2      1.3104   \n",
       "2                 3676                      2      1.3104   \n",
       "3                 3667                      3      1.3105   \n",
       "4                 3664                      4      1.3105   \n",
       "5                 3640                     19      1.3109   \n",
       "6                 3605                     25      1.3116   \n",
       "7                 3567                     36      1.3122   \n",
       "8                 3515                     48      1.3128   \n",
       "9                 3448                     59      1.3130   \n",
       "10                3360                     59      1.3150   \n",
       "11                3275                     61      1.3160   \n",
       "12                3188                     61      1.3170   \n",
       "\n",
       "    Cumulative oil Produced Np(Mstb)  Cumulative water Produced Wp(Mstb)  \\\n",
       "0                              0.000                               0.000   \n",
       "1                             20.481                               0.000   \n",
       "2                             34.750                               0.000   \n",
       "3                             78.557                               0.000   \n",
       "4                            101.846                               0.000   \n",
       "5                            215.681                               0.000   \n",
       "6                            364.613                               0.000   \n",
       "7                            542.985                               0.159   \n",
       "8                            841.591                               0.805   \n",
       "9                           1273.530                               2.579   \n",
       "10                          1691.887                               5.008   \n",
       "11                          2127.077                               6.500   \n",
       "12                          2575.330                               8.000   \n",
       "\n",
       "         Efw      Eo    Eo+Efw      F(Mbbl)   F(Mbbl)fit  \n",
       "0   0.000000  0.0000  0.000000     0.000000   -34.085560  \n",
       "1   0.000434  0.0002  0.000634    26.838302     9.302313  \n",
       "2   0.000781  0.0002  0.000981    45.536400    33.063902  \n",
       "3   0.001563  0.0003  0.001863   102.948949    93.378580  \n",
       "4   0.001823  0.0003  0.002123   133.469183   111.201132  \n",
       "5   0.003908  0.0007  0.004608   282.736223   281.234917  \n",
       "6   0.006951  0.0014  0.008351   478.226411   537.382619  \n",
       "7   0.010258  0.0020  0.012258   712.663917   804.703047  \n",
       "8   0.014785  0.0026  0.017385  1105.645665  1155.548069  \n",
       "9   0.020615  0.0028  0.023415  1674.723890  1568.184394  \n",
       "10  0.028312  0.0048  0.033112  2229.839405  2231.782057  \n",
       "11  0.035744  0.0058  0.041544  2805.733332  2808.776403  \n",
       "12  0.043362  0.0068  0.050162  3399.709610  3398.482038  "
      ]
     },
     "execution_count": 66,
     "metadata": {},
     "output_type": "execute_result"
    }
   ],
   "source": [
    "df"
   ]
  },
  {
   "cell_type": "code",
   "execution_count": 68,
   "id": "439d2b48",
   "metadata": {},
   "outputs": [
    {
     "name": "stdout",
     "output_type": "stream",
     "text": [
      "The oil intially in place is, 68424.94367352994 STB given by slope of the line\n"
     ]
    },
    {
     "data": {
      "image/png": "[encoded data removed]",
      "text/plain": [
       "<Figure size 648x432 with 1 Axes>"
      ]
     },
     "metadata": {},
     "output_type": "display_data"
    }
   ],
   "source": [
    "plt.figure(figsize = (9, 6))\n",
    "plt.scatter(x, y, marker = 'x', color = 'red', label = \"Production data\")\n",
    "plt.plot(x, df[\"F(Mbbl)fit\"], label = \"Best fitted line\", color = \"green\", lw = 2)\n",
    "\n",
    "plt.xlim(-0.00005, 0.015)\n",
    "plt.ylim(-0.5, 4000)\n",
    "plt.xlabel(\"The expansion term 'Eo + Ew' (bbl/STB)\")\n",
    "plt.ylabel(\"Underground withdrawl 'F' (bbl)\")\n",
    "plt.title(\"Material balance for volumetric undersaturated oil reservoir\")\n",
    "plt.grid()\n",
    "plt.legend()\n",
    "print(f\"The oil intially in place is, {model[0]} STB given by slope of the line\")\n",
    "plt.show()"
   ]
  },
  {
   "cell_type": "markdown",
   "id": "d6260336",
   "metadata": {},
   "source": [
    "### Gascap MBAL"
   ]
  },
  {
   "attachments": {
    "image.png": {
     "image/png": "[encoded data removed]"
    }
   },
   "cell_type": "markdown",
   "id": "e86ba654",
   "metadata": {},
   "source": [
    "![image.png](attachment:image.png)"
   ]
  },
  {
   "cell_type": "code",
   "execution_count": 133,
   "id": "4b44c295",
   "metadata": {},
   "outputs": [],
   "source": [
    "RP = [3330,3150,3000,2850,2700,2550,2400]\n",
    "Np = [0,3.295,5.903,8.852,11.503,14.513,17.730]\n",
    "Rp = [0,1050,1060,1160,1235,1265,1300]\n",
    "Bo = [1.2511,1.2353,1.2222,1.2122,1.2022,1.1922,1.1822]\n",
    "Rs = [510,477,450,425,401,375,352]\n",
    "Bg = [0.00087,0.00092,0.00096,0.00101,0.00107,0.00113,0.00120]"
   ]
  },
  {
   "cell_type": "code",
   "execution_count": 134,
   "id": "c446f2f6",
   "metadata": {},
   "outputs": [],
   "source": [
    "df = pd.DataFrame({\"Reservoir Pressure(psia)\": RP, \"Np(MMstb)\": Np, \"Rp(scf/stb)\":Rp, \"Bo(rb/stb)\":Bo, \"Rs(scf/stb)\":Rs, \"Bg(rb/scf)\":Bg})"
   ]
  },
  {
   "cell_type": "code",
   "execution_count": 135,
   "id": "59dadb75",
   "metadata": {},
   "outputs": [
    {
     "data": {
      "text/html": [
       "<div>\n",
       "<style scoped>\n",
       "    .dataframe tbody tr th:only-of-type {\n",
       "        vertical-align: middle;\n",
       "    }\n",
       "\n",
       "    .dataframe tbody tr th {\n",
       "        vertical-align: top;\n",
       "    }\n",
       "\n",
       "    .dataframe thead th {\n",
       "        text-align: right;\n",
       "    }\n",
       "</style>\n",
       "<table border=\"1\" class=\"dataframe\">\n",
       "  <thead>\n",
       "    <tr style=\"text-align: right;\">\n",
       "      <th></th>\n",
       "      <th>Reservoir Pressure(psia)</th>\n",
       "      <th>Np(MMstb)</th>\n",
       "      <th>Rp(scf/stb)</th>\n",
       "      <th>Bo(rb/stb)</th>\n",
       "      <th>Rs(scf/stb)</th>\n",
       "      <th>Bg(rb/scf)</th>\n",
       "    </tr>\n",
       "  </thead>\n",
       "  <tbody>\n",
       "    <tr>\n",
       "      <th>0</th>\n",
       "      <td>3330</td>\n",
       "      <td>0.000</td>\n",
       "      <td>0</td>\n",
       "      <td>1.2511</td>\n",
       "      <td>510</td>\n",
       "      <td>0.00087</td>\n",
       "    </tr>\n",
       "    <tr>\n",
       "      <th>1</th>\n",
       "      <td>3150</td>\n",
       "      <td>3.295</td>\n",
       "      <td>1050</td>\n",
       "      <td>1.2353</td>\n",
       "      <td>477</td>\n",
       "      <td>0.00092</td>\n",
       "    </tr>\n",
       "    <tr>\n",
       "      <th>2</th>\n",
       "      <td>3000</td>\n",
       "      <td>5.903</td>\n",
       "      <td>1060</td>\n",
       "      <td>1.2222</td>\n",
       "      <td>450</td>\n",
       "      <td>0.00096</td>\n",
       "    </tr>\n",
       "    <tr>\n",
       "      <th>3</th>\n",
       "      <td>2850</td>\n",
       "      <td>8.852</td>\n",
       "      <td>1160</td>\n",
       "      <td>1.2122</td>\n",
       "      <td>425</td>\n",
       "      <td>0.00101</td>\n",
       "    </tr>\n",
       "    <tr>\n",
       "      <th>4</th>\n",
       "      <td>2700</td>\n",
       "      <td>11.503</td>\n",
       "      <td>1235</td>\n",
       "      <td>1.2022</td>\n",
       "      <td>401</td>\n",
       "      <td>0.00107</td>\n",
       "    </tr>\n",
       "    <tr>\n",
       "      <th>5</th>\n",
       "      <td>2550</td>\n",
       "      <td>14.513</td>\n",
       "      <td>1265</td>\n",
       "      <td>1.1922</td>\n",
       "      <td>375</td>\n",
       "      <td>0.00113</td>\n",
       "    </tr>\n",
       "    <tr>\n",
       "      <th>6</th>\n",
       "      <td>2400</td>\n",
       "      <td>17.730</td>\n",
       "      <td>1300</td>\n",
       "      <td>1.1822</td>\n",
       "      <td>352</td>\n",
       "      <td>0.00120</td>\n",
       "    </tr>\n",
       "  </tbody>\n",
       "</table>\n",
       "</div>"
      ],
      "text/plain": [
       "   Reservoir Pressure(psia)  Np(MMstb)  Rp(scf/stb)  Bo(rb/stb)  Rs(scf/stb)  \\\n",
       "0                      3330      0.000            0      1.2511          510   \n",
       "1                      3150      3.295         1050      1.2353          477   \n",
       "2                      3000      5.903         1060      1.2222          450   \n",
       "3                      2850      8.852         1160      1.2122          425   \n",
       "4                      2700     11.503         1235      1.2022          401   \n",
       "5                      2550     14.513         1265      1.1922          375   \n",
       "6                      2400     17.730         1300      1.1822          352   \n",
       "\n",
       "   Bg(rb/scf)  \n",
       "0     0.00087  \n",
       "1     0.00092  \n",
       "2     0.00096  \n",
       "3     0.00101  \n",
       "4     0.00107  \n",
       "5     0.00113  \n",
       "6     0.00120  "
      ]
     },
     "execution_count": 135,
     "metadata": {},
     "output_type": "execute_result"
    }
   ],
   "source": [
    "df"
   ]
  },
  {
   "cell_type": "code",
   "execution_count": 146,
   "id": "e6082d22",
   "metadata": {},
   "outputs": [],
   "source": [
    "# total underground withdrawl F term\n",
    "df[\"F(MM rb)\"] = df[\"Np(MMstb)\"]*(df[\"Bo(rb/stb)\"] + (df[\"Rp(scf/stb)\"]-df[\"Rs(scf/stb)\"])*df[\"Bg(rb/scf)\"]) "
   ]
  },
  {
   "cell_type": "code",
   "execution_count": 147,
   "id": "66f977d2",
   "metadata": {},
   "outputs": [],
   "source": [
    "# The Eo term expansion of oil & dissolved gas\n",
    "df[\"Eo(rb/stb)\"] = (df[\"Bo(rb/stb)\"]-1.2511) + (510 - df[\"Rs(scf/stb)\"])*df[\"Bg(rb/scf)\"]"
   ]
  },
  {
   "cell_type": "code",
   "execution_count": 148,
   "id": "4177ca63",
   "metadata": {},
   "outputs": [],
   "source": [
    "# The Eg term expansion of gas cap \n",
    "df[\"Eg(rb/stb)\"] = 1.2511*((df[\"Bg(rb/scf)\"]/0.00087)-1)"
   ]
  },
  {
   "cell_type": "code",
   "execution_count": 149,
   "id": "8e879670",
   "metadata": {},
   "outputs": [],
   "source": [
    "M = [0.3, 0.4, 0.5, 0.6, 0.7]"
   ]
  },
  {
   "cell_type": "code",
   "execution_count": 150,
   "id": "dc678056",
   "metadata": {},
   "outputs": [
    {
     "data": {
      "text/html": [
       "<div>\n",
       "<style scoped>\n",
       "    .dataframe tbody tr th:only-of-type {\n",
       "        vertical-align: middle;\n",
       "    }\n",
       "\n",
       "    .dataframe tbody tr th {\n",
       "        vertical-align: top;\n",
       "    }\n",
       "\n",
       "    .dataframe thead th {\n",
       "        text-align: right;\n",
       "    }\n",
       "</style>\n",
       "<table border=\"1\" class=\"dataframe\">\n",
       "  <thead>\n",
       "    <tr style=\"text-align: right;\">\n",
       "      <th></th>\n",
       "      <th>Reservoir Pressure(psia)</th>\n",
       "      <th>Np(MMstb)</th>\n",
       "      <th>Rp(scf/stb)</th>\n",
       "      <th>Bo(rb/stb)</th>\n",
       "      <th>Rs(scf/stb)</th>\n",
       "      <th>Bg(rb/scf)</th>\n",
       "      <th>F(MM rb)</th>\n",
       "      <th>Eo(rb/stb)</th>\n",
       "      <th>Eg(rb/stb)</th>\n",
       "    </tr>\n",
       "  </thead>\n",
       "  <tbody>\n",
       "    <tr>\n",
       "      <th>0</th>\n",
       "      <td>3330</td>\n",
       "      <td>0.000</td>\n",
       "      <td>0</td>\n",
       "      <td>1.2511</td>\n",
       "      <td>510</td>\n",
       "      <td>0.00087</td>\n",
       "      <td>0.000000</td>\n",
       "      <td>0.00000</td>\n",
       "      <td>0.000000</td>\n",
       "    </tr>\n",
       "    <tr>\n",
       "      <th>1</th>\n",
       "      <td>3150</td>\n",
       "      <td>3.295</td>\n",
       "      <td>1050</td>\n",
       "      <td>1.2353</td>\n",
       "      <td>477</td>\n",
       "      <td>0.00092</td>\n",
       "      <td>5.807306</td>\n",
       "      <td>0.01456</td>\n",
       "      <td>0.071902</td>\n",
       "    </tr>\n",
       "    <tr>\n",
       "      <th>2</th>\n",
       "      <td>3000</td>\n",
       "      <td>5.903</td>\n",
       "      <td>1060</td>\n",
       "      <td>1.2222</td>\n",
       "      <td>450</td>\n",
       "      <td>0.00096</td>\n",
       "      <td>10.671443</td>\n",
       "      <td>0.02870</td>\n",
       "      <td>0.129424</td>\n",
       "    </tr>\n",
       "    <tr>\n",
       "      <th>3</th>\n",
       "      <td>2850</td>\n",
       "      <td>8.852</td>\n",
       "      <td>1160</td>\n",
       "      <td>1.2122</td>\n",
       "      <td>425</td>\n",
       "      <td>0.00101</td>\n",
       "      <td>17.301677</td>\n",
       "      <td>0.04695</td>\n",
       "      <td>0.201326</td>\n",
       "    </tr>\n",
       "    <tr>\n",
       "      <th>4</th>\n",
       "      <td>2700</td>\n",
       "      <td>11.503</td>\n",
       "      <td>1235</td>\n",
       "      <td>1.2022</td>\n",
       "      <td>401</td>\n",
       "      <td>0.00107</td>\n",
       "      <td>24.093954</td>\n",
       "      <td>0.06773</td>\n",
       "      <td>0.287609</td>\n",
       "    </tr>\n",
       "    <tr>\n",
       "      <th>5</th>\n",
       "      <td>2550</td>\n",
       "      <td>14.513</td>\n",
       "      <td>1265</td>\n",
       "      <td>1.1922</td>\n",
       "      <td>375</td>\n",
       "      <td>0.00113</td>\n",
       "      <td>31.898123</td>\n",
       "      <td>0.09365</td>\n",
       "      <td>0.373892</td>\n",
       "    </tr>\n",
       "    <tr>\n",
       "      <th>6</th>\n",
       "      <td>2400</td>\n",
       "      <td>17.730</td>\n",
       "      <td>1300</td>\n",
       "      <td>1.1822</td>\n",
       "      <td>352</td>\n",
       "      <td>0.00120</td>\n",
       "      <td>41.130054</td>\n",
       "      <td>0.12070</td>\n",
       "      <td>0.474555</td>\n",
       "    </tr>\n",
       "  </tbody>\n",
       "</table>\n",
       "</div>"
      ],
      "text/plain": [
       "   Reservoir Pressure(psia)  Np(MMstb)  Rp(scf/stb)  Bo(rb/stb)  Rs(scf/stb)  \\\n",
       "0                      3330      0.000            0      1.2511          510   \n",
       "1                      3150      3.295         1050      1.2353          477   \n",
       "2                      3000      5.903         1060      1.2222          450   \n",
       "3                      2850      8.852         1160      1.2122          425   \n",
       "4                      2700     11.503         1235      1.2022          401   \n",
       "5                      2550     14.513         1265      1.1922          375   \n",
       "6                      2400     17.730         1300      1.1822          352   \n",
       "\n",
       "   Bg(rb/scf)   F(MM rb)  Eo(rb/stb)  Eg(rb/stb)  \n",
       "0     0.00087   0.000000     0.00000    0.000000  \n",
       "1     0.00092   5.807306     0.01456    0.071902  \n",
       "2     0.00096  10.671443     0.02870    0.129424  \n",
       "3     0.00101  17.301677     0.04695    0.201326  \n",
       "4     0.00107  24.093954     0.06773    0.287609  \n",
       "5     0.00113  31.898123     0.09365    0.373892  \n",
       "6     0.00120  41.130054     0.12070    0.474555  "
      ]
     },
     "execution_count": 150,
     "metadata": {},
     "output_type": "execute_result"
    }
   ],
   "source": [
    "df"
   ]
  },
  {
   "cell_type": "code",
   "execution_count": 151,
   "id": "010c2c98",
   "metadata": {},
   "outputs": [],
   "source": [
    "for i in M:\n",
    "    df[f\"Eo+M{i}Eg\"] = df[\"Eo(rb/stb)\"] + i*df[\"Eg(rb/stb)\"]"
   ]
  },
  {
   "cell_type": "code",
   "execution_count": 152,
   "id": "afaa6029",
   "metadata": {},
   "outputs": [
    {
     "data": {
      "text/html": [
       "<div>\n",
       "<style scoped>\n",
       "    .dataframe tbody tr th:only-of-type {\n",
       "        vertical-align: middle;\n",
       "    }\n",
       "\n",
       "    .dataframe tbody tr th {\n",
       "        vertical-align: top;\n",
       "    }\n",
       "\n",
       "    .dataframe thead th {\n",
       "        text-align: right;\n",
       "    }\n",
       "</style>\n",
       "<table border=\"1\" class=\"dataframe\">\n",
       "  <thead>\n",
       "    <tr style=\"text-align: right;\">\n",
       "      <th></th>\n",
       "      <th>Reservoir Pressure(psia)</th>\n",
       "      <th>Np(MMstb)</th>\n",
       "      <th>Rp(scf/stb)</th>\n",
       "      <th>Bo(rb/stb)</th>\n",
       "      <th>Rs(scf/stb)</th>\n",
       "      <th>Bg(rb/scf)</th>\n",
       "      <th>F(MM rb)</th>\n",
       "      <th>Eo(rb/stb)</th>\n",
       "      <th>Eg(rb/stb)</th>\n",
       "      <th>Eo+M0.3Eg</th>\n",
       "      <th>Eo+M0.4Eg</th>\n",
       "      <th>Eo+M0.5Eg</th>\n",
       "      <th>Eo+M0.6Eg</th>\n",
       "      <th>Eo+M0.7Eg</th>\n",
       "    </tr>\n",
       "  </thead>\n",
       "  <tbody>\n",
       "    <tr>\n",
       "      <th>0</th>\n",
       "      <td>3330</td>\n",
       "      <td>0.000</td>\n",
       "      <td>0</td>\n",
       "      <td>1.2511</td>\n",
       "      <td>510</td>\n",
       "      <td>0.00087</td>\n",
       "      <td>0.000000</td>\n",
       "      <td>0.00000</td>\n",
       "      <td>0.000000</td>\n",
       "      <td>0.000000</td>\n",
       "      <td>0.000000</td>\n",
       "      <td>0.000000</td>\n",
       "      <td>0.000000</td>\n",
       "      <td>0.000000</td>\n",
       "    </tr>\n",
       "    <tr>\n",
       "      <th>1</th>\n",
       "      <td>3150</td>\n",
       "      <td>3.295</td>\n",
       "      <td>1050</td>\n",
       "      <td>1.2353</td>\n",
       "      <td>477</td>\n",
       "      <td>0.00092</td>\n",
       "      <td>5.807306</td>\n",
       "      <td>0.01456</td>\n",
       "      <td>0.071902</td>\n",
       "      <td>0.036131</td>\n",
       "      <td>0.043321</td>\n",
       "      <td>0.050511</td>\n",
       "      <td>0.057701</td>\n",
       "      <td>0.064892</td>\n",
       "    </tr>\n",
       "    <tr>\n",
       "      <th>2</th>\n",
       "      <td>3000</td>\n",
       "      <td>5.903</td>\n",
       "      <td>1060</td>\n",
       "      <td>1.2222</td>\n",
       "      <td>450</td>\n",
       "      <td>0.00096</td>\n",
       "      <td>10.671443</td>\n",
       "      <td>0.02870</td>\n",
       "      <td>0.129424</td>\n",
       "      <td>0.067527</td>\n",
       "      <td>0.080470</td>\n",
       "      <td>0.093412</td>\n",
       "      <td>0.106354</td>\n",
       "      <td>0.119297</td>\n",
       "    </tr>\n",
       "    <tr>\n",
       "      <th>3</th>\n",
       "      <td>2850</td>\n",
       "      <td>8.852</td>\n",
       "      <td>1160</td>\n",
       "      <td>1.2122</td>\n",
       "      <td>425</td>\n",
       "      <td>0.00101</td>\n",
       "      <td>17.301677</td>\n",
       "      <td>0.04695</td>\n",
       "      <td>0.201326</td>\n",
       "      <td>0.107348</td>\n",
       "      <td>0.127481</td>\n",
       "      <td>0.147613</td>\n",
       "      <td>0.167746</td>\n",
       "      <td>0.187879</td>\n",
       "    </tr>\n",
       "    <tr>\n",
       "      <th>4</th>\n",
       "      <td>2700</td>\n",
       "      <td>11.503</td>\n",
       "      <td>1235</td>\n",
       "      <td>1.2022</td>\n",
       "      <td>401</td>\n",
       "      <td>0.00107</td>\n",
       "      <td>24.093954</td>\n",
       "      <td>0.06773</td>\n",
       "      <td>0.287609</td>\n",
       "      <td>0.154013</td>\n",
       "      <td>0.182774</td>\n",
       "      <td>0.211535</td>\n",
       "      <td>0.240296</td>\n",
       "      <td>0.269056</td>\n",
       "    </tr>\n",
       "    <tr>\n",
       "      <th>5</th>\n",
       "      <td>2550</td>\n",
       "      <td>14.513</td>\n",
       "      <td>1265</td>\n",
       "      <td>1.1922</td>\n",
       "      <td>375</td>\n",
       "      <td>0.00113</td>\n",
       "      <td>31.898123</td>\n",
       "      <td>0.09365</td>\n",
       "      <td>0.373892</td>\n",
       "      <td>0.205818</td>\n",
       "      <td>0.243207</td>\n",
       "      <td>0.280596</td>\n",
       "      <td>0.317985</td>\n",
       "      <td>0.355374</td>\n",
       "    </tr>\n",
       "    <tr>\n",
       "      <th>6</th>\n",
       "      <td>2400</td>\n",
       "      <td>17.730</td>\n",
       "      <td>1300</td>\n",
       "      <td>1.1822</td>\n",
       "      <td>352</td>\n",
       "      <td>0.00120</td>\n",
       "      <td>41.130054</td>\n",
       "      <td>0.12070</td>\n",
       "      <td>0.474555</td>\n",
       "      <td>0.263067</td>\n",
       "      <td>0.310522</td>\n",
       "      <td>0.357978</td>\n",
       "      <td>0.405433</td>\n",
       "      <td>0.452889</td>\n",
       "    </tr>\n",
       "  </tbody>\n",
       "</table>\n",
       "</div>"
      ],
      "text/plain": [
       "   Reservoir Pressure(psia)  Np(MMstb)  Rp(scf/stb)  Bo(rb/stb)  Rs(scf/stb)  \\\n",
       "0                      3330      0.000            0      1.2511          510   \n",
       "1                      3150      3.295         1050      1.2353          477   \n",
       "2                      3000      5.903         1060      1.2222          450   \n",
       "3                      2850      8.852         1160      1.2122          425   \n",
       "4                      2700     11.503         1235      1.2022          401   \n",
       "5                      2550     14.513         1265      1.1922          375   \n",
       "6                      2400     17.730         1300      1.1822          352   \n",
       "\n",
       "   Bg(rb/scf)   F(MM rb)  Eo(rb/stb)  Eg(rb/stb)  Eo+M0.3Eg  Eo+M0.4Eg  \\\n",
       "0     0.00087   0.000000     0.00000    0.000000   0.000000   0.000000   \n",
       "1     0.00092   5.807306     0.01456    0.071902   0.036131   0.043321   \n",
       "2     0.00096  10.671443     0.02870    0.129424   0.067527   0.080470   \n",
       "3     0.00101  17.301677     0.04695    0.201326   0.107348   0.127481   \n",
       "4     0.00107  24.093954     0.06773    0.287609   0.154013   0.182774   \n",
       "5     0.00113  31.898123     0.09365    0.373892   0.205818   0.243207   \n",
       "6     0.00120  41.130054     0.12070    0.474555   0.263067   0.310522   \n",
       "\n",
       "   Eo+M0.5Eg  Eo+M0.6Eg  Eo+M0.7Eg  \n",
       "0   0.000000   0.000000   0.000000  \n",
       "1   0.050511   0.057701   0.064892  \n",
       "2   0.093412   0.106354   0.119297  \n",
       "3   0.147613   0.167746   0.187879  \n",
       "4   0.211535   0.240296   0.269056  \n",
       "5   0.280596   0.317985   0.355374  \n",
       "6   0.357978   0.405433   0.452889  "
      ]
     },
     "execution_count": 152,
     "metadata": {},
     "output_type": "execute_result"
    }
   ],
   "source": [
    "df"
   ]
  },
  {
   "cell_type": "code",
   "execution_count": 153,
   "id": "cfc62b49",
   "metadata": {},
   "outputs": [
    {
     "name": "stdout",
     "output_type": "stream",
     "text": [
      "The oil initially in place is 155.43003852376873 MMSTB for m = 0.3\n",
      "The oil initially in place is 131.77712071961056 MMSTB for m = 0.4\n",
      "The oil initially in place is 114.37046619758794 MMSTB for m = 0.5\n",
      "The oil initially in place is 101.02489219651801 MMSTB for m = 0.6\n",
      "The oil initially in place is 90.46788437559394 MMSTB for m = 0.7\n"
     ]
    },
    {
     "data": {
      "image/png": "[encoded data removed]",
      "text/plain": [
       "<Figure size 1008x576 with 1 Axes>"
      ]
     },
     "metadata": {},
     "output_type": "display_data"
    }
   ],
   "source": [
    "plt.figure(figsize = (14, 8))\n",
    "plt.style.use(\"fivethirtyeight\")\n",
    "plt.xlim(0, 0.6)\n",
    "plt.ylim(0, 45)\n",
    "plt.xlabel(\"The expansion term of 'Eo + mEg' (bbl/STB) \")\n",
    "plt.ylabel(\"Underground Withdrawl 'F' (bbl)\")\n",
    "plt.title(\"Material Balance for gas cap oil reservoir, finding m when N is known\")\n",
    "\n",
    "for i in M:\n",
    "    plt.plot(df[f\"Eo+M{i}Eg\"], df[\"F(MM rb)\"], label = f\"m = {i}\", lw = 3.5)\n",
    "    plt.legend()\n",
    "    x = df[f\"Eo+M{i}Eg\"]\n",
    "    y = df[\"F(MM rb)\"]\n",
    "    model = np.polyfit(x, y, 1)\n",
    "    print(f\"The oil initially in place is {model[0]} MMSTB for m = {i}\")"
   ]
  },
  {
   "cell_type": "code",
   "execution_count": 167,
   "id": "0596e2aa",
   "metadata": {},
   "outputs": [],
   "source": [
    "def gascap(m):\n",
    "    \n",
    "    RP = [3330,3150,3000,2850,2700,2550,2400]\n",
    "    Np = [0,3.295,5.903,8.852,11.503,14.513,17.730]\n",
    "    Rp = [0,1050,1060,1160,1235,1265,1300]\n",
    "    Bo = [1.2511,1.2353,1.2222,1.2122,1.2022,1.1922,1.1822]\n",
    "    Rs = [510,477,450,425,401,375,352]\n",
    "    Bg = [0.00087,0.00092,0.00096,0.00101,0.00107,0.00113,0.00120]\n",
    "    df = pd.DataFrame({\"Reservoir Pressure(psia)\": RP, \"Np(MMstb)\": Np, \"Rp(scf/stb)\":Rp, \"Bo(rb/stb)\":Bo, \"Rs(scf/stb)\":Rs, \"Bg(rb/scf)\":Bg})\n",
    "    df[\"F(MM rb)\"] = df[\"Np(MMstb)\"]*(df[\"Bo(rb/stb)\"] + (df[\"Rp(scf/stb)\"]-df[\"Rs(scf/stb)\"])*df[\"Bg(rb/scf)\"])\n",
    "    df[\"Eo(rb/stb)\"] = (df[\"Bo(rb/stb)\"]-1.2511) + (510 - df[\"Rs(scf/stb)\"])*df[\"Bg(rb/scf)\"]\n",
    "    df[\"Eg(rb/stb)\"] = 1.2511*((df[\"Bg(rb/scf)\"]/0.00087)-1)\n",
    "    df[\"Eo+mEg(rb/stb)\"] = df[\"Eo(rb/stb)\"] + m*df[\"Eg(rb/stb)\"]\n",
    "    x = df[\"Eo+mEg(rb/stb)\"]\n",
    "    y = df[\"F(MM rb)\"]\n",
    "    model = np.polyfit(x, y, 1)\n",
    "    print(f\"The OIP is {model[0]} MMSTB by slope of given line\")\n",
    "    \n",
    "    adf = df[[\"Reservoir Pressure(psia)\", \"F(MM rb)\", \"Eo+mEg(rb/stb)\"]]\n",
    "    print(adf)\n",
    "    \n",
    "    plt.figure(figsize = (10, 6))\n",
    "    plt.style.use(\"fivethirtyeight\")\n",
    "    plt.plot(df[\"Eo+mEg(rb/stb)\"], df[\"F(MM rb)\"], color = 'red')\n",
    "    \n",
    "    plt.xlim(-0.05, 0.6)\n",
    "    plt.ylim(-0.05, 45)\n",
    "    \n",
    "    plt.xlabel(\"The Expansion Term 'Eo + mEg' (bbl/STB)\")\n",
    "    plt.ylabel(\"Underground Withdrawl 'F'(bbl)\")\n",
    "    plt.title(\"Material Balance for Gas Cap Oil Reservoir\")\n",
    "    \n",
    "    return df[\"Eo+mEg(rb/stb)\"],df[\"F(MM rb)\"]"
   ]
  },
  {
   "cell_type": "code",
   "execution_count": 168,
   "id": "48f4a33d",
   "metadata": {},
   "outputs": [],
   "source": [
    "w = interactive(gascap, m = (0.000001, 1, 0.1))"
   ]
  },
  {
   "cell_type": "code",
   "execution_count": 169,
   "id": "240d2ee4",
   "metadata": {},
   "outputs": [
    {
     "data": {
      "application/vnd.jupyter.widget-view+json": {
       "model_id": "60c7937cc1124620b42ea1408593e2d6",
       "version_major": 2,
       "version_minor": 0
      },
      "text/plain": [
       "interactive(children=(FloatSlider(value=0.400001, description='m', max=1.0, min=1e-06), Output()), _dom_classe…"
      ]
     },
     "metadata": {},
     "output_type": "display_data"
    }
   ],
   "source": [
    "w"
   ]
  },
  {
   "cell_type": "markdown",
   "id": "20f8defe",
   "metadata": {},
   "source": [
    "### When N is unknown "
   ]
  },
  {
   "cell_type": "code",
   "execution_count": 170,
   "id": "5fd59c17",
   "metadata": {},
   "outputs": [
    {
     "data": {
      "text/html": [
       "<div>\n",
       "<style scoped>\n",
       "    .dataframe tbody tr th:only-of-type {\n",
       "        vertical-align: middle;\n",
       "    }\n",
       "\n",
       "    .dataframe tbody tr th {\n",
       "        vertical-align: top;\n",
       "    }\n",
       "\n",
       "    .dataframe thead th {\n",
       "        text-align: right;\n",
       "    }\n",
       "</style>\n",
       "<table border=\"1\" class=\"dataframe\">\n",
       "  <thead>\n",
       "    <tr style=\"text-align: right;\">\n",
       "      <th></th>\n",
       "      <th>Reservoir Pressure(psia)</th>\n",
       "      <th>F/Eo(stb)</th>\n",
       "      <th>Eg/Eo</th>\n",
       "    </tr>\n",
       "  </thead>\n",
       "  <tbody>\n",
       "    <tr>\n",
       "      <th>0</th>\n",
       "      <td>3330</td>\n",
       "      <td>NaN</td>\n",
       "      <td>NaN</td>\n",
       "    </tr>\n",
       "    <tr>\n",
       "      <th>1</th>\n",
       "      <td>3150</td>\n",
       "      <td>398.853413</td>\n",
       "      <td>4.938345</td>\n",
       "    </tr>\n",
       "    <tr>\n",
       "      <th>2</th>\n",
       "      <td>3000</td>\n",
       "      <td>371.827296</td>\n",
       "      <td>4.509552</td>\n",
       "    </tr>\n",
       "    <tr>\n",
       "      <th>3</th>\n",
       "      <td>2850</td>\n",
       "      <td>368.512814</td>\n",
       "      <td>4.288103</td>\n",
       "    </tr>\n",
       "    <tr>\n",
       "      <th>4</th>\n",
       "      <td>2700</td>\n",
       "      <td>355.735328</td>\n",
       "      <td>4.246408</td>\n",
       "    </tr>\n",
       "    <tr>\n",
       "      <th>5</th>\n",
       "      <td>2550</td>\n",
       "      <td>340.609959</td>\n",
       "      <td>3.992439</td>\n",
       "    </tr>\n",
       "    <tr>\n",
       "      <th>6</th>\n",
       "      <td>2400</td>\n",
       "      <td>340.762668</td>\n",
       "      <td>3.931692</td>\n",
       "    </tr>\n",
       "  </tbody>\n",
       "</table>\n",
       "</div>"
      ],
      "text/plain": [
       "   Reservoir Pressure(psia)   F/Eo(stb)     Eg/Eo\n",
       "0                      3330         NaN       NaN\n",
       "1                      3150  398.853413  4.938345\n",
       "2                      3000  371.827296  4.509552\n",
       "3                      2850  368.512814  4.288103\n",
       "4                      2700  355.735328  4.246408\n",
       "5                      2550  340.609959  3.992439\n",
       "6                      2400  340.762668  3.931692"
      ]
     },
     "execution_count": 170,
     "metadata": {},
     "output_type": "execute_result"
    }
   ],
   "source": [
    "df[\"F/Eo(stb)\"] = df[\"F(MM rb)\"]/df[\"Eo(rb/stb)\"]\n",
    "df[\"Eg/Eo\"] = df[\"Eg(rb/stb)\"]/df[\"Eo(rb/stb)\"]\n",
    "gdf = df[[\"Reservoir Pressure(psia)\", \"F/Eo(stb)\", \"Eg/Eo\"]]\n",
    "gdf"
   ]
  },
  {
   "cell_type": "code",
   "execution_count": 171,
   "id": "444ed03d",
   "metadata": {},
   "outputs": [
    {
     "data": {
      "text/plain": [
       "array([ 58.83013376, 108.70272737])"
      ]
     },
     "execution_count": 171,
     "metadata": {},
     "output_type": "execute_result"
    }
   ],
   "source": [
    "xx = gdf[\"Eg/Eo\"][1:7]\n",
    "yy = gdf[\"F/Eo(stb)\"][1:7]\n",
    "model = np.polyfit(xx, yy, 1)\n",
    "model"
   ]
  },
  {
   "cell_type": "code",
   "execution_count": 172,
   "id": "8e823988",
   "metadata": {},
   "outputs": [
    {
     "data": {
      "text/plain": [
       "[4.938344701275751,\n",
       " 4.509551844286939,\n",
       " 4.288103019842596,\n",
       " 4.246407727776458,\n",
       " 3.992439444986536,\n",
       " 3.9316915692940655,\n",
       " 0]"
      ]
     },
     "execution_count": 172,
     "metadata": {},
     "output_type": "execute_result"
    }
   ],
   "source": [
    "xxfit = list(xx)\n",
    "xxfit.append(0)\n",
    "xxfit"
   ]
  },
  {
   "cell_type": "code",
   "execution_count": 173,
   "id": "5675239b",
   "metadata": {},
   "outputs": [
    {
     "data": {
      "text/plain": [
       "[399.22620669354853,\n",
       " 374.0002655622319,\n",
       " 360.9724015995213,\n",
       " 358.5194619901731,\n",
       " 343.57847394324,\n",
       " 340.0046682907107,\n",
       " 108.70272737219946]"
      ]
     },
     "execution_count": 173,
     "metadata": {},
     "output_type": "execute_result"
    }
   ],
   "source": [
    "yyfit = []\n",
    "for i in xxfit:\n",
    "    a = model[0]*i + model[1]\n",
    "    yyfit.append(a)\n",
    "yyfit"
   ]
  },
  {
   "cell_type": "code",
   "execution_count": 178,
   "id": "a263a17a",
   "metadata": {},
   "outputs": [
    {
     "name": "stdout",
     "output_type": "stream",
     "text": [
      "The eqn of line is: F/Eo = mN(Eg/Eo) + N\n",
      "The value of initial OIP is 108.70272737219946 MMSTB by given intercept of the line\n",
      "The value of initial ratio in reservoir(m) is 0.5412020027520338 given by slope(m*N) intercept(N) of line\n"
     ]
    },
    {
     "data": {
      "image/png": "[encoded data removed]",
      "text/plain": [
       "<Figure size 720x432 with 1 Axes>"
      ]
     },
     "metadata": {},
     "output_type": "display_data"
    }
   ],
   "source": [
    "plt.figure(figsize = (10, 6))\n",
    "plt.plot(xxfit, yyfit, label = \"fit line\", color = 'yellow')\n",
    "plt.scatter(gdf[\"Eg/Eo\"], gdf[\"F/Eo(stb)\"], c = \"red\", label = \"production data points\")\n",
    "plt.scatter(0, model[1], c = \"blue\", label = \"initial oil in place\")\n",
    "plt.xlabel(\"Eg/Eo\")\n",
    "plt.ylabel(\"F/Eo(MMSTB)\")\n",
    "plt.title(\"Material balance for gas cap reservoir, when m and n are unkown\")\n",
    "plt.legend()\n",
    "plt.xlim(-0.05, 7)\n",
    "plt.ylim(0, 450)\n",
    "print(\"The eqn of line is: F/Eo = mN(Eg/Eo) + N\")\n",
    "print(f\"The value of initial OIP is {model[1]} MMSTB by given intercept of the line\")\n",
    "print(f\"The value of initial ratio in reservoir(m) is {model[0]/model[1]} given by slope(m*N) intercept(N) of line\")"
   ]
  },
  {
   "cell_type": "code",
   "execution_count": null,
   "id": "fe3a994b",
   "metadata": {},
   "outputs": [],
   "source": []
  }
 ],
 "metadata": {
  "kernelspec": {
   "display_name": "Python 3 (ipykernel)",
   "language": "python",
   "name": "python3"
  },
  "language_info": {
   "codemirror_mode": {
    "name": "ipython",
    "version": 3
   },
   "file_extension": ".py",
   "mimetype": "text/x-python",
   "name": "python",
   "nbconvert_exporter": "python",
   "pygments_lexer": "ipython3",
   "version": "3.9.6"
  }
 },
 "nbformat": 4,
 "nbformat_minor": 5
}
